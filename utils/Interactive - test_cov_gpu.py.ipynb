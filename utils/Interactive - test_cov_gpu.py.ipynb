{
 "cells": [
  {
   "cell_type": "markdown",
   "metadata": {},
   "source": [
    "Connected to cupy-cuda (Python 3.11.11)"
   ]
  },
  {
   "cell_type": "code",
   "execution_count": null,
   "id": "5672cb69-c285-47d3-a156-41d070b7d9fb",
   "metadata": {},
   "outputs": [],
   "source": [
    "import scanpy as sc\n",
    "import os\n",
    "import configparser\n",
    "from sklearn.metrics import pairwise_distances"
   ]
  },
  {
   "cell_type": "code",
   "execution_count": null,
   "id": "b97737ae-2030-4b74-8435-4b21544318b5",
   "metadata": {},
   "outputs": [],
   "source": [
    "config = configparser.ConfigParser()\n",
    "config.read(\"config.ini\")\n",
    "rawPath = config.get(\"DEFAULT\", \"rawPath\")\n",
    "initDir = rawPath + \"atlas_annotated/\"\n",
    "\n",
    "adata = sc.read_h5ad(initDir + \"atlas_endothelial_filt_norm_nolog.h5ad\")"
   ]
  },
  {
   "cell_type": "code",
   "execution_count": null,
   "id": "87dc131e-d146-4ea1-9dc3-25c389c5cb14",
   "metadata": {},
   "outputs": [],
   "source": [
    "ori_path = \"/group/testa/Project/OvarianAtlas/atlas_project/raw_data/atlas_annotated_backup/atlas_annotated/atlas_endothelial_filt_norm_nolog.h5ad\"\n",
    "adata_ma = sc.read_h5ad(ori_path)"
   ]
  },
  {
   "cell_type": "code",
   "execution_count": null,
   "id": "fb493c78-dbd0-42b0-82a4-6796a4c977c3",
   "metadata": {},
   "outputs": [],
   "source": [
    "adata_array = adata.X.toarray()\n",
    "adata_ma_array = adata_ma.X.toarray()\n",
    "#correlation_distance = pairwise_distances(adata_array, adata_ma_array, metric=\"correlation\", n_jobs=-1)\n",
    "\n",
    "# Convert back to correlation similarity if needed\n",
    "#correlation_similarity = 1 - correlation_distance"
   ]
  },
  {
   "cell_type": "code",
   "execution_count": null,
   "id": "5f062bc4-ca14-4272-a182-647aa94c0181",
   "metadata": {},
   "outputs": [
    {
     "ename": "CompileException",
     "evalue": "nvrtc: warning: Architectures prior to '<compute/sm>_75' are deprecated and may be removed in a future release\n/localscratch/18803265.vittorio.aiello/cupy-cuda/lib/python3.11/site-packages/cupy/_core/include/cupy/carray.cuh(57): catastrophic error: cannot open source file \"cuda_fp16.h\"\n  #include <cuda_fp16.h>\n                        ^\n\n1 catastrophic error detected in the compilation of \"/tmp/tmpw6xrk103/30959312781f626a575604c913431d79f8b70375.cubin.cu\".\nCompilation terminated.\n",
     "output_type": "error",
     "traceback": [
      "\u001b[0;31m---------------------------------------------------------------------------\u001b[0m",
      "\u001b[0;31mNVRTCError\u001b[0m                                Traceback (most recent call last)",
      "File \u001b[0;32m/localscratch/18803265.vittorio.aiello/cupy-cuda/lib/python3.11/site-packages/cupy/cuda/compiler.py:692\u001b[0m, in \u001b[0;36m_NVRTCProgram.compile\u001b[0;34m(self, options, log_stream)\u001b[0m\n\u001b[1;32m    691\u001b[0m         nvrtc\u001b[39m.\u001b[39maddNameExpression(\u001b[39mself\u001b[39m\u001b[39m.\u001b[39mptr, ker)\n\u001b[0;32m--> 692\u001b[0m nvrtc\u001b[39m.\u001b[39;49mcompileProgram(\u001b[39mself\u001b[39;49m\u001b[39m.\u001b[39;49mptr, options)\n\u001b[1;32m    693\u001b[0m mapping \u001b[39m=\u001b[39m \u001b[39mNone\u001b[39;00m\n",
      "File \u001b[0;32mcupy_backends/cuda/libs/nvrtc.pyx:125\u001b[0m, in \u001b[0;36mcupy_backends.cuda.libs.nvrtc.compileProgram\u001b[0;34m()\u001b[0m\n",
      "File \u001b[0;32mcupy_backends/cuda/libs/nvrtc.pyx:138\u001b[0m, in \u001b[0;36mcupy_backends.cuda.libs.nvrtc.compileProgram\u001b[0;34m()\u001b[0m\n",
      "File \u001b[0;32mcupy_backends/cuda/libs/nvrtc.pyx:53\u001b[0m, in \u001b[0;36mcupy_backends.cuda.libs.nvrtc.check_status\u001b[0;34m()\u001b[0m\n",
      "\u001b[0;31mNVRTCError\u001b[0m: NVRTC_ERROR_COMPILATION (6)",
      "\nDuring handling of the above exception, another exception occurred:\n",
      "\u001b[0;31mCompileException\u001b[0m                          Traceback (most recent call last)",
      "File \u001b[1;32m/group/testa/Users/vittorio.aiello/singularity/ovarian/atlas_project/utils/test_cov_gpu.py:21\u001b[0m\n\u001b[1;32m     18\u001b[0m     \u001b[39mreturn\u001b[39;00m corr_matrix\n\u001b[1;32m     20\u001b[0m \u001b[39m# Compute Pearson correlation matrix using CuPy\u001b[39;00m\n\u001b[0;32m---> 21\u001b[0m corr_matrix_gpu \u001b[39m=\u001b[39m fast_correlation_gpu(adata_array, adata_ma_array)\n\u001b[1;32m     23\u001b[0m \u001b[39m# Convert to NumPy (if needed for further processing)\u001b[39;00m\n\u001b[1;32m     24\u001b[0m corr_matrix_cpu \u001b[39m=\u001b[39m cp\u001b[39m.\u001b[39masnumpy(corr_matrix_gpu)\n",
      "File \u001b[1;32m/group/testa/Users/vittorio.aiello/singularity/ovarian/atlas_project/utils/test_cov_gpu.py:12\u001b[0m\n\u001b[1;32m     10\u001b[0m expr2 \u001b[39m=\u001b[39m cp\u001b[39m.\u001b[39masarray(expr2)\n\u001b[1;32m     11\u001b[0m \u001b[39m# Normalize: zero mean, unit variance for each row (cell)\u001b[39;00m\n\u001b[0;32m---> 12\u001b[0m expr1 \u001b[39m=\u001b[39m (expr1 \u001b[39m-\u001b[39m cp\u001b[39m.\u001b[39;49mmean(expr1, axis\u001b[39m=\u001b[39;49m\u001b[39m1\u001b[39;49m, keepdims\u001b[39m=\u001b[39;49m\u001b[39mTrue\u001b[39;49;00m)) \u001b[39m/\u001b[39m cp\u001b[39m.\u001b[39mstd(expr1, axis\u001b[39m=\u001b[39m\u001b[39m1\u001b[39m, keepdims\u001b[39m=\u001b[39m\u001b[39mTrue\u001b[39;00m)\n\u001b[1;32m     13\u001b[0m expr2 \u001b[39m=\u001b[39m (expr2 \u001b[39m-\u001b[39m cp\u001b[39m.\u001b[39mmean(expr2, axis\u001b[39m=\u001b[39m\u001b[39m1\u001b[39m, keepdims\u001b[39m=\u001b[39m\u001b[39mTrue\u001b[39;00m)) \u001b[39m/\u001b[39m cp\u001b[39m.\u001b[39mstd(expr2, axis\u001b[39m=\u001b[39m\u001b[39m1\u001b[39m, keepdims\u001b[39m=\u001b[39m\u001b[39mTrue\u001b[39;00m)\n\u001b[1;32m     15\u001b[0m \u001b[39m# Compute correlation using dot product\u001b[39;00m\n",
      "File \u001b[0;32m/localscratch/18803265.vittorio.aiello/cupy-cuda/lib/python3.11/site-packages/cupy/_statistics/meanvar.py:162\u001b[0m, in \u001b[0;36mmean\u001b[0;34m(a, axis, dtype, out, keepdims)\u001b[0m\n\u001b[1;32m    144\u001b[0m \u001b[39m\u001b[39m\u001b[39m\"\"\"Returns the arithmetic mean along an axis.\u001b[39;00m\n\u001b[1;32m    145\u001b[0m \n\u001b[1;32m    146\u001b[0m \u001b[39mArgs:\u001b[39;00m\n\u001b[0;32m   (...)\u001b[0m\n\u001b[1;32m    159\u001b[0m \n\u001b[1;32m    160\u001b[0m \u001b[39m\"\"\"\u001b[39;00m\n\u001b[1;32m    161\u001b[0m \u001b[39m# TODO(okuta): check type\u001b[39;00m\n\u001b[0;32m--> 162\u001b[0m \u001b[39mreturn\u001b[39;00m a\u001b[39m.\u001b[39;49mmean(axis\u001b[39m=\u001b[39;49maxis, dtype\u001b[39m=\u001b[39;49mdtype, out\u001b[39m=\u001b[39;49mout, keepdims\u001b[39m=\u001b[39;49mkeepdims)\n",
      "File \u001b[0;32mcupy/_core/core.pyx:1117\u001b[0m, in \u001b[0;36mcupy._core.core._ndarray_base.mean\u001b[0;34m()\u001b[0m\n",
      "File \u001b[0;32mcupy/_core/core.pyx:1126\u001b[0m, in \u001b[0;36mcupy._core.core._ndarray_base.mean\u001b[0;34m()\u001b[0m\n",
      "File \u001b[0;32mcupy/_core/_routines_statistics.pyx:150\u001b[0m, in \u001b[0;36mcupy._core._routines_statistics._ndarray_mean\u001b[0;34m()\u001b[0m\n",
      "File \u001b[0;32mcupy/_core/_kernel.pyx:1375\u001b[0m, in \u001b[0;36mcupy._core._kernel.ufunc.__call__\u001b[0;34m()\u001b[0m\n",
      "File \u001b[0;32mcupy/_core/_kernel.pyx:1402\u001b[0m, in \u001b[0;36mcupy._core._kernel.ufunc._get_ufunc_kernel\u001b[0;34m()\u001b[0m\n",
      "File \u001b[0;32mcupy/_core/_kernel.pyx:1082\u001b[0m, in \u001b[0;36mcupy._core._kernel._get_ufunc_kernel\u001b[0;34m()\u001b[0m\n",
      "File \u001b[0;32mcupy/_core/_kernel.pyx:94\u001b[0m, in \u001b[0;36mcupy._core._kernel._get_simple_elementwise_kernel\u001b[0;34m()\u001b[0m\n",
      "File \u001b[0;32mcupy/_core/_kernel.pyx:82\u001b[0m, in \u001b[0;36mcupy._core._kernel._get_simple_elementwise_kernel_from_code\u001b[0;34m()\u001b[0m\n",
      "File \u001b[0;32mcupy/_core/core.pyx:2283\u001b[0m, in \u001b[0;36mcupy._core.core.compile_with_cache\u001b[0;34m()\u001b[0m\n",
      "File \u001b[0;32m/localscratch/18803265.vittorio.aiello/cupy-cuda/lib/python3.11/site-packages/cupy/cuda/compiler.py:498\u001b[0m, in \u001b[0;36m_compile_module_with_cache\u001b[0;34m(source, options, arch, cache_dir, extra_source, backend, enable_cooperative_groups, name_expressions, log_stream, jitify)\u001b[0m\n\u001b[1;32m    494\u001b[0m     \u001b[39mreturn\u001b[39;00m _compile_with_cache_hip(\n\u001b[1;32m    495\u001b[0m         source, options, arch, cache_dir, extra_source, backend,\n\u001b[1;32m    496\u001b[0m         name_expressions, log_stream, cache_in_memory)\n\u001b[1;32m    497\u001b[0m \u001b[39melse\u001b[39;00m:\n\u001b[0;32m--> 498\u001b[0m     \u001b[39mreturn\u001b[39;00m _compile_with_cache_cuda(\n\u001b[1;32m    499\u001b[0m         source, options, arch, cache_dir, extra_source, backend,\n\u001b[1;32m    500\u001b[0m         enable_cooperative_groups, name_expressions, log_stream,\n\u001b[1;32m    501\u001b[0m         cache_in_memory, jitify)\n",
      "File \u001b[0;32m/localscratch/18803265.vittorio.aiello/cupy-cuda/lib/python3.11/site-packages/cupy/cuda/compiler.py:577\u001b[0m, in \u001b[0;36m_compile_with_cache_cuda\u001b[0;34m(source, options, arch, cache_dir, extra_source, backend, enable_cooperative_groups, name_expressions, log_stream, cache_in_memory, jitify)\u001b[0m\n\u001b[1;32m    575\u001b[0m \u001b[39mif\u001b[39;00m backend \u001b[39m==\u001b[39m \u001b[39m'\u001b[39m\u001b[39mnvrtc\u001b[39m\u001b[39m'\u001b[39m:\n\u001b[1;32m    576\u001b[0m     cu_name \u001b[39m=\u001b[39m \u001b[39m'\u001b[39m\u001b[39m'\u001b[39m \u001b[39mif\u001b[39;00m cache_in_memory \u001b[39melse\u001b[39;00m name \u001b[39m+\u001b[39m \u001b[39m'\u001b[39m\u001b[39m.cu\u001b[39m\u001b[39m'\u001b[39m\n\u001b[0;32m--> 577\u001b[0m     ptx, mapping \u001b[39m=\u001b[39m compile_using_nvrtc(\n\u001b[1;32m    578\u001b[0m         source, options, arch, cu_name, name_expressions,\n\u001b[1;32m    579\u001b[0m         log_stream, cache_in_memory, jitify)\n\u001b[1;32m    580\u001b[0m     \u001b[39mif\u001b[39;00m _is_cudadevrt_needed(options):\n\u001b[1;32m    581\u001b[0m         \u001b[39m# for separate compilation\u001b[39;00m\n\u001b[1;32m    582\u001b[0m         ls \u001b[39m=\u001b[39m function\u001b[39m.\u001b[39mLinkState()\n",
      "File \u001b[0;32m/localscratch/18803265.vittorio.aiello/cupy-cuda/lib/python3.11/site-packages/cupy/cuda/compiler.py:333\u001b[0m, in \u001b[0;36mcompile_using_nvrtc\u001b[0;34m(source, options, arch, filename, name_expressions, log_stream, cache_in_memory, jitify)\u001b[0m\n\u001b[1;32m    330\u001b[0m         \u001b[39mwith\u001b[39;00m \u001b[39mopen\u001b[39m(cu_path, \u001b[39m'\u001b[39m\u001b[39mw\u001b[39m\u001b[39m'\u001b[39m) \u001b[39mas\u001b[39;00m cu_file:\n\u001b[1;32m    331\u001b[0m             cu_file\u001b[39m.\u001b[39mwrite(source)\n\u001b[0;32m--> 333\u001b[0m         \u001b[39mreturn\u001b[39;00m _compile(source, options, cu_path,\n\u001b[1;32m    334\u001b[0m                         name_expressions, log_stream, jitify)\n\u001b[1;32m    335\u001b[0m \u001b[39melse\u001b[39;00m:\n\u001b[1;32m    336\u001b[0m     cu_path \u001b[39m=\u001b[39m \u001b[39m'\u001b[39m\u001b[39m'\u001b[39m \u001b[39mif\u001b[39;00m \u001b[39mnot\u001b[39;00m jitify \u001b[39melse\u001b[39;00m filename\n",
      "File \u001b[0;32m/localscratch/18803265.vittorio.aiello/cupy-cuda/lib/python3.11/site-packages/cupy/cuda/compiler.py:317\u001b[0m, in \u001b[0;36mcompile_using_nvrtc.<locals>._compile\u001b[0;34m(source, options, cu_path, name_expressions, log_stream, jitify)\u001b[0m\n\u001b[1;32m    314\u001b[0m prog \u001b[39m=\u001b[39m _NVRTCProgram(source, cu_path, headers, include_names,\n\u001b[1;32m    315\u001b[0m                      name_expressions\u001b[39m=\u001b[39mname_expressions, method\u001b[39m=\u001b[39mmethod)\n\u001b[1;32m    316\u001b[0m \u001b[39mtry\u001b[39;00m:\n\u001b[0;32m--> 317\u001b[0m     compiled_obj, mapping \u001b[39m=\u001b[39m prog\u001b[39m.\u001b[39;49mcompile(options, log_stream)\n\u001b[1;32m    318\u001b[0m \u001b[39mexcept\u001b[39;00m CompileException \u001b[39mas\u001b[39;00m e:\n\u001b[1;32m    319\u001b[0m     dump \u001b[39m=\u001b[39m _get_bool_env_variable(\n\u001b[1;32m    320\u001b[0m         \u001b[39m'\u001b[39m\u001b[39mCUPY_DUMP_CUDA_SOURCE_ON_ERROR\u001b[39m\u001b[39m'\u001b[39m, \u001b[39mFalse\u001b[39;00m)\n",
      "File \u001b[0;32m/localscratch/18803265.vittorio.aiello/cupy-cuda/lib/python3.11/site-packages/cupy/cuda/compiler.py:711\u001b[0m, in \u001b[0;36m_NVRTCProgram.compile\u001b[0;34m(self, options, log_stream)\u001b[0m\n\u001b[1;32m    709\u001b[0m \u001b[39mexcept\u001b[39;00m nvrtc\u001b[39m.\u001b[39mNVRTCError:\n\u001b[1;32m    710\u001b[0m     log \u001b[39m=\u001b[39m nvrtc\u001b[39m.\u001b[39mgetProgramLog(\u001b[39mself\u001b[39m\u001b[39m.\u001b[39mptr)\n\u001b[0;32m--> 711\u001b[0m     \u001b[39mraise\u001b[39;00m CompileException(log, \u001b[39mself\u001b[39m\u001b[39m.\u001b[39msrc, \u001b[39mself\u001b[39m\u001b[39m.\u001b[39mname, options,\n\u001b[1;32m    712\u001b[0m                            \u001b[39m'\u001b[39m\u001b[39mnvrtc\u001b[39m\u001b[39m'\u001b[39m \u001b[39mif\u001b[39;00m \u001b[39mnot\u001b[39;00m runtime\u001b[39m.\u001b[39mis_hip \u001b[39melse\u001b[39;00m \u001b[39m'\u001b[39m\u001b[39mhiprtc\u001b[39m\u001b[39m'\u001b[39m)\n",
      "\u001b[0;31mCompileException\u001b[0m: nvrtc: warning: Architectures prior to '<compute/sm>_75' are deprecated and may be removed in a future release\n/localscratch/18803265.vittorio.aiello/cupy-cuda/lib/python3.11/site-packages/cupy/_core/include/cupy/carray.cuh(57): catastrophic error: cannot open source file \"cuda_fp16.h\"\n  #include <cuda_fp16.h>\n                        ^\n\n1 catastrophic error detected in the compilation of \"/tmp/tmpw6xrk103/30959312781f626a575604c913431d79f8b70375.cubin.cu\".\nCompilation terminated.\n"
     ]
    }
   ],
   "source": [
    "import cupy as cp\n",
    "\n",
    "def fast_correlation_gpu(expr1, expr2):\n",
    "    \"\"\"\n",
    "    Compute Pearson correlation using GPU with CuPy.\n",
    "    expr1, expr2: CuPy arrays with shape (N, G), where N is number of cells, G is number of genes.\n",
    "    \"\"\"\n",
    "    expr1 = cp.asarray(expr1)\n",
    "    expr2 = cp.asarray(expr2)\n",
    "    # Normalize: zero mean, unit variance for each row (cell)\n",
    "    expr1 = (expr1 - cp.mean(expr1, axis=1, keepdims=True)) / cp.std(expr1, axis=1, keepdims=True)\n",
    "    expr2 = (expr2 - cp.mean(expr2, axis=1, keepdims=True)) / cp.std(expr2, axis=1, keepdims=True)\n",
    "\n",
    "    # Compute correlation using dot product\n",
    "    corr_matrix = cp.dot(expr1, expr2.T) / expr1.shape[1]\n",
    "    \n",
    "    return corr_matrix\n",
    "\n",
    "# Compute Pearson correlation matrix using CuPy\n",
    "corr_matrix_gpu = fast_correlation_gpu(adata_array, adata_ma_array)\n",
    "\n",
    "# Convert to NumPy (if needed for further processing)\n",
    "corr_matrix_cpu = cp.asnumpy(corr_matrix_gpu)\n",
    "del corr_matrix_gpu"
   ]
  }
 ],
 "metadata": {
  "kernelspec": {
   "display_name": "Python 3",
   "language": "python",
   "name": "python3"
  },
  "language_info": {
   "name": "python",
   "version": "3.11.11"
  }
 },
 "nbformat": 4,
 "nbformat_minor": 2
}
