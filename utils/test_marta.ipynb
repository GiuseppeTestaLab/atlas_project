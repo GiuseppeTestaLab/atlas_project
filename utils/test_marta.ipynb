{
 "cells": [
  {
   "cell_type": "code",
   "execution_count": null,
   "id": "c15bd922-49fe-44b6-aa81-3f51bc9a90d9",
   "metadata": {},
   "outputs": [],
   "source": [
    "#%%\n",
    "\n",
    "import scanpy as sc\n",
    "import os"
   ]
  },
  {
   "cell_type": "code",
   "execution_count": null,
   "id": "be010a57-eddc-4356-a5e3-90886e0eb210",
   "metadata": {},
   "outputs": [],
   "source": [
    "#%%\n",
    "\n",
    "ori_path = \"/group/testa/Project/OvarianAtlasTestStep0/raw_data/integration/cells/cancer/cells_hdg_patients_batch_corr_scgen_tissuetreat_embeddings_HDG.h5ad\"\n",
    "adata = sc.read_h5ad(ori_path)"
   ]
  },
  {
   "cell_type": "code",
   "execution_count": null,
   "id": "1c23c6dc-a512-4bef-9545-33ab3cac360c",
   "metadata": {},
   "outputs": [],
   "source": [
    "# %%\n",
    "\n",
    "ori_path = \"/group/testa/Project/OvarianAtlas/atlas_project/raw_data/integration_backup/integration/cells/cancer/cells_hdg_patients_batch_corr_scgen_tissuetreat_embeddings_HDG.h5ad\"\n",
    "adata_ma = sc.read_h5ad(ori_path)"
   ]
  },
  {
   "cell_type": "code",
   "execution_count": null,
   "id": "2c458de6-e41f-483c-8a0e-f952873546a9",
   "metadata": {},
   "outputs": [],
   "source": [
    "# %%\n",
    "\n",
    "step0_path = \"/group/testa/Project/OvarianAtlasTestStep0/raw_data/integration/cells/cancer/cells_hdg_patients_batch_corr_scgen_tissuetreat_embeddings_HDG.h5ad\"\n",
    "step0_adata = sc.read_h5ad(step0_path)"
   ]
  },
  {
   "cell_type": "code",
   "execution_count": null,
   "id": "700c88ad-6407-4581-98b6-9bc6ba47f420",
   "metadata": {},
   "outputs": [],
   "source": [
    "#%%\n",
    "\n",
    "new_path = \"/group/testa/Project/OvarianAtlasTestStep0/raw_data/metacells/cancer\"\n",
    "rels = {\"seacells_assignment_hdg_patients_marta.h5ad\", \"seacells_assignment_hdg_patients_seed_2.h5ad\"}\n",
    "seed_adatas = [sc.read_h5ad(os.path.join(new_path, rel)) for rel in rels]"
   ]
  },
  {
   "cell_type": "code",
   "execution_count": null,
   "id": "c1c37d12-2792-4f5a-94ed-3e30baf34476",
   "metadata": {},
   "outputs": [
    {
     "ename": "IndexError",
     "evalue": "list index out of range",
     "output_type": "error",
     "traceback": [
      "\u001b[0;31m---------------------------------------------------------------------------\u001b[0m",
      "\u001b[0;31mIndexError\u001b[0m                                Traceback (most recent call last)",
      "File \u001b[1;32m/group/testa/Users/vittorio.aiello/singularity/ovarian/atlas_project/utils/test.py:14\u001b[0m\n\u001b[1;32m     12\u001b[0m copy_seacell(adata_ma, seed_adatas[\u001b[39m0\u001b[39m], \u001b[39m\"\u001b[39m\u001b[39mSEACell_seed1\u001b[39m\u001b[39m\"\u001b[39m)\n\u001b[1;32m     13\u001b[0m copy_seacell(adata_ma, seed_adatas[\u001b[39m1\u001b[39m], \u001b[39m\"\u001b[39m\u001b[39mSEACell_seed2\u001b[39m\u001b[39m\"\u001b[39m)\n\u001b[0;32m---> 14\u001b[0m copy_seacell(adata_ma, seed_adatas[\u001b[39m2\u001b[39;49m], \u001b[39m\"\u001b[39m\u001b[39mSEACell_seed3\u001b[39m\u001b[39m\"\u001b[39m)\n",
      "\u001b[0;31mIndexError\u001b[0m: list index out of range"
     ]
    }
   ],
   "source": [
    "#%%\n",
    "\n",
    "# adata_ma.obs[\"SEACell2\"] = step0_path.obs[\"SEACell\"]\n",
    "# adata_ma.obs['SEACell_patient_tissue'] = adata_ma.obs['SEACell'].astype('str') + '_' + adata_ma.obs['paper_ID'].astype('str') + '_' + adata_ma.obs['tissue'].astype('str')\n",
    "# adata_ma.obs['SEACell2_patient_tissue'] = adata_ma.obs['SEACell2'].astype('str') + '_' + adata_ma.obs['paper_ID'].astype('str') + '_' + adata_ma.obs['tissue'].astype('str')\n",
    "\n",
    "def copy_seacell(adata, adata2, name):\n",
    "    adata.obs[name] = adata2.obs[\"SEACell\"]\n",
    "    adata.obs[name + '_patient_tissue'] = adata.obs[name].astype('str') + '_' + adata.obs['paper_ID'].astype('str') + '_' + adata.obs['tissue'].astype('str')\n",
    "\n",
    "adata_ma.obs['SEACell_patient_tissue'] = adata_ma.obs['SEACell'].astype('str') + '_' + adata_ma.obs['paper_ID'].astype('str') + '_' + adata_ma.obs['tissue'].astype('str')\n",
    "# copy_seacell(adata_ma, step0_adata, \"SEACell2\")\n",
    "copy_seacell(adata_ma, seed_adatas[0], \"SEACell_seed1\")\n",
    "copy_seacell(adata_ma, seed_adatas[1], \"SEACell_seed2\")\n",
    "copy_seacell(adata_ma, seed_adatas[2], \"SEACell_seed3\")"
   ]
  },
  {
   "cell_type": "code",
   "execution_count": null,
   "id": "f398e0ae-18dd-4351-bb7c-67ea6defad64",
   "metadata": {},
   "outputs": [
    {
     "ename": "",
     "evalue": "",
     "output_type": "error",
     "traceback": [
      "\u001b[1;31mCell was canceled due to an error in a previous cell."
     ]
    }
   ],
   "source": [
    "# %%\n",
    "\n",
    "import numpy as np\n",
    "from sklearn import metrics\n",
    "\n",
    "def purity_score(y_true, y_pred):\n",
    "    # compute contingency matrix (also called confusion matrix)\n",
    "    contingency_matrix = metrics.cluster.contingency_matrix(y_true, y_pred)\n",
    "    # return purity\n",
    "    return np.sum(np.amax(contingency_matrix, axis=0)) / np.sum(contingency_matrix) "
   ]
  },
  {
   "cell_type": "code",
   "execution_count": null,
   "id": "3fe0ba16-1937-40ad-8739-096a5c596729",
   "metadata": {},
   "outputs": [
    {
     "ename": "",
     "evalue": "",
     "output_type": "error",
     "traceback": [
      "\u001b[1;31mCell was canceled due to an error in a previous cell."
     ]
    }
   ],
   "source": [
    "#%%\n",
    "\n",
    "import pandas as pd\n",
    "def celltype_frac(x, col_name):\n",
    "    val_counts = x[col_name].value_counts()\n",
    "    return val_counts.values[0] / val_counts.values.sum()\n",
    "\n",
    "\n",
    "def compute_celltype_purity(ad, col_name):\n",
    "    \"\"\"\n",
    "    Compute the purity (prevalence of most abundant value) of the specified col_name from ad.obs within each metacell.\n",
    "    @param: ad - AnnData object with SEACell assignment and col_name in ad.obs dataframe\n",
    "    @param: col_name - (str) column name within ad.obs representing celltype groupings for each cell.\n",
    "    \"\"\"\n",
    "\n",
    "    celltype_fraction = ad.obs.groupby('SEACell_patient_tissue').apply(lambda x: celltype_frac(x, col_name))\n",
    "    celltype = ad.obs.groupby('SEACell_patient_tissue').apply(lambda x: x[col_name].value_counts().index[0])\n",
    "\n",
    "    return pd.concat([celltype, celltype_fraction], axis=1).rename(columns={0: col_name, 1: f'{col_name}_purity'})"
   ]
  },
  {
   "cell_type": "code",
   "execution_count": null,
   "id": "26e9d76c-bc01-4dc2-90b7-e927207bc1f2",
   "metadata": {},
   "outputs": [
    {
     "ename": "",
     "evalue": "",
     "output_type": "error",
     "traceback": [
      "\u001b[1;31mCell was canceled due to an error in a previous cell."
     ]
    }
   ],
   "source": [
    "#%%\n",
    "\n",
    "purity = compute_celltype_purity(adata_ma, \"SEACell2_patient_tissue\")"
   ]
  },
  {
   "cell_type": "code",
   "execution_count": null,
   "id": "98c9e6c5-5d9d-43ee-b144-ef0e74a12bdf",
   "metadata": {},
   "outputs": [
    {
     "ename": "",
     "evalue": "",
     "output_type": "error",
     "traceback": [
      "\u001b[1;31mCell was canceled due to an error in a previous cell."
     ]
    }
   ],
   "source": [
    "# %%\n",
    "\n",
    "adata_ma_na = adata_ma[~adata_ma.obs.SEACell.isna(), :]\n",
    "purity_na = compute_celltype_purity(adata_ma_na, \"SEACell2_patient_tissue\")"
   ]
  },
  {
   "cell_type": "code",
   "execution_count": null,
   "id": "41c2dd82-59f4-415d-8b4e-af614f456e0a",
   "metadata": {},
   "outputs": [
    {
     "ename": "",
     "evalue": "",
     "output_type": "error",
     "traceback": [
      "\u001b[1;31mCell was canceled due to an error in a previous cell."
     ]
    }
   ],
   "source": [
    "# %%\n",
    "\n",
    "purity_seed1 = compute_celltype_purity(adata_ma, \"SEACell_seed1_patient_tissue\")\n",
    "purity_seed2 = compute_celltype_purity(adata_ma, \"SEACell_seed2_patient_tissue\")\n",
    "purity_seed3 = compute_celltype_purity(adata_ma, \"SEACell_seed3_patient_tissue\")"
   ]
  },
  {
   "cell_type": "code",
   "execution_count": null,
   "id": "2edd7cbd-c93b-49f8-b529-0539da0a3eb4",
   "metadata": {},
   "outputs": [
    {
     "ename": "",
     "evalue": "",
     "output_type": "error",
     "traceback": [
      "\u001b[1;31mCell was canceled due to an error in a previous cell."
     ]
    }
   ],
   "source": [
    "# %%\n",
    "\n",
    "def compute_celltype_purity(ad, col_name, starting):\n",
    "    \"\"\"\n",
    "    Compute the purity (prevalence of most abundant value) of the specified col_name from ad.obs within each metacell.\n",
    "    @param: ad - AnnData object with SEACell assignment and col_name in ad.obs dataframe\n",
    "    @param: col_name - (str) column name within ad.obs representing celltype groupings for each cell.\n",
    "    \"\"\"\n",
    "\n",
    "    celltype_fraction = ad.obs.groupby(starting).apply(lambda x: celltype_frac(x, col_name))\n",
    "    celltype = ad.obs.groupby(starting).apply(lambda x: x[col_name].value_counts().index[0])\n",
    "\n",
    "    return pd.concat([celltype, celltype_fraction], axis=1).rename(columns={0: col_name, 1: f'{col_name}_purity'})"
   ]
  },
  {
   "cell_type": "code",
   "execution_count": null,
   "id": "fc969f23-7ccd-4db1-b324-5dc9624b814a",
   "metadata": {},
   "outputs": [
    {
     "ename": "",
     "evalue": "",
     "output_type": "error",
     "traceback": [
      "\u001b[1;31mCell was canceled due to an error in a previous cell."
     ]
    }
   ],
   "source": [
    "# %%\n",
    "\n",
    "purity_seed1 = compute_celltype_purity(adata_ma, \"SEACell_seed1_patient_tissue\",  \"SEACell_seed1_patient_tissue\")\n",
    "purity_seed2 = compute_celltype_purity(adata_ma, \"SEACell_seed2_patient_tissue\",  \"SEACell_seed1_patient_tissue\")\n",
    "purity_seed3 = compute_celltype_purity(adata_ma, \"SEACell_seed3_patient_tissue\",  \"SEACell_seed1_patient_tissue\")"
   ]
  },
  {
   "cell_type": "code",
   "execution_count": null,
   "id": "ab6fc15f-0dc0-471a-88ee-a42e9fdc3955",
   "metadata": {},
   "outputs": [
    {
     "ename": "",
     "evalue": "",
     "output_type": "error",
     "traceback": [
      "\u001b[1;31mCell was canceled due to an error in a previous cell."
     ]
    }
   ],
   "source": [
    "# %%\n",
    "\n",
    "ori_path = \"/group/testa/Project/OvarianAtlas/atlas_project/raw_data/metacells_backup/metacells/cancer/seacells_assignment_hdg_patients.h5ad\"\n",
    "adata_ma = sc.read_h5ad(ori_path)"
   ]
  },
  {
   "cell_type": "code",
   "execution_count": null,
   "metadata": {},
   "outputs": [
    {
     "data": {
      "text/html": [
       "<div>\n",
       "<style scoped>\n",
       "    .dataframe tbody tr th:only-of-type {\n",
       "        vertical-align: middle;\n",
       "    }\n",
       "\n",
       "    .dataframe tbody tr th {\n",
       "        vertical-align: top;\n",
       "    }\n",
       "\n",
       "    .dataframe thead th {\n",
       "        text-align: right;\n",
       "    }\n",
       "</style>\n",
       "<table border=\"1\" class=\"dataframe\">\n",
       "  <thead>\n",
       "    <tr style=\"text-align: right;\">\n",
       "      <th></th>\n",
       "      <th>tissue</th>\n",
       "      <th>developmental_stage</th>\n",
       "      <th>treatment</th>\n",
       "      <th>recurrence</th>\n",
       "      <th>tumor_stage</th>\n",
       "      <th>paper_ID</th>\n",
       "      <th>anatomical_location</th>\n",
       "      <th>dataset</th>\n",
       "      <th>n_genes</th>\n",
       "      <th>n_genes_by_counts</th>\n",
       "      <th>...</th>\n",
       "      <th>max</th>\n",
       "      <th>cell_types</th>\n",
       "      <th>SEACell</th>\n",
       "      <th>tissue-treatment</th>\n",
       "      <th>_scvi_batch</th>\n",
       "      <th>_scvi_labels</th>\n",
       "      <th>concat_batch</th>\n",
       "      <th>S_score</th>\n",
       "      <th>G2M_score</th>\n",
       "      <th>phase</th>\n",
       "    </tr>\n",
       "  </thead>\n",
       "  <tbody>\n",
       "    <tr>\n",
       "      <th>AAACCTGAGACTTGAA-1-T59</th>\n",
       "      <td>Metastasis</td>\n",
       "      <td>Advanced stage</td>\n",
       "      <td>CHT</td>\n",
       "      <td>Recurrence</td>\n",
       "      <td>IV</td>\n",
       "      <td>Geistlinger_59</td>\n",
       "      <td>Omentum</td>\n",
       "      <td>Geistlinger</td>\n",
       "      <td>599</td>\n",
       "      <td>599</td>\n",
       "      <td>...</td>\n",
       "      <td>CancerMSK</td>\n",
       "      <td>CancerMSK</td>\n",
       "      <td>SEACell-7</td>\n",
       "      <td>Metastasis_CHT</td>\n",
       "      <td>0</td>\n",
       "      <td>3</td>\n",
       "      <td>0</td>\n",
       "      <td>-0.003934</td>\n",
       "      <td>-0.035056</td>\n",
       "      <td>G1</td>\n",
       "    </tr>\n",
       "    <tr>\n",
       "      <th>AAACCTGCACACCGCA-1-T59</th>\n",
       "      <td>Metastasis</td>\n",
       "      <td>Advanced stage</td>\n",
       "      <td>CHT</td>\n",
       "      <td>Recurrence</td>\n",
       "      <td>IV</td>\n",
       "      <td>Geistlinger_59</td>\n",
       "      <td>Omentum</td>\n",
       "      <td>Geistlinger</td>\n",
       "      <td>6225</td>\n",
       "      <td>6225</td>\n",
       "      <td>...</td>\n",
       "      <td>CancerMSK</td>\n",
       "      <td>CancerMSK</td>\n",
       "      <td>SEACell-3</td>\n",
       "      <td>Metastasis_CHT</td>\n",
       "      <td>0</td>\n",
       "      <td>3</td>\n",
       "      <td>0</td>\n",
       "      <td>0.020012</td>\n",
       "      <td>0.003426</td>\n",
       "      <td>S</td>\n",
       "    </tr>\n",
       "    <tr>\n",
       "      <th>AAACCTGTCCGGCACA-1-T59</th>\n",
       "      <td>Metastasis</td>\n",
       "      <td>Advanced stage</td>\n",
       "      <td>CHT</td>\n",
       "      <td>Recurrence</td>\n",
       "      <td>IV</td>\n",
       "      <td>Geistlinger_59</td>\n",
       "      <td>Omentum</td>\n",
       "      <td>Geistlinger</td>\n",
       "      <td>513</td>\n",
       "      <td>513</td>\n",
       "      <td>...</td>\n",
       "      <td>CancerMSK</td>\n",
       "      <td>CancerMSK</td>\n",
       "      <td>SEACell-7</td>\n",
       "      <td>Metastasis_CHT</td>\n",
       "      <td>0</td>\n",
       "      <td>3</td>\n",
       "      <td>0</td>\n",
       "      <td>-0.015525</td>\n",
       "      <td>-0.026617</td>\n",
       "      <td>G1</td>\n",
       "    </tr>\n",
       "    <tr>\n",
       "      <th>AAACCTGTCGGCGGTT-1-T59</th>\n",
       "      <td>Metastasis</td>\n",
       "      <td>Advanced stage</td>\n",
       "      <td>CHT</td>\n",
       "      <td>Recurrence</td>\n",
       "      <td>IV</td>\n",
       "      <td>Geistlinger_59</td>\n",
       "      <td>Omentum</td>\n",
       "      <td>Geistlinger</td>\n",
       "      <td>1542</td>\n",
       "      <td>1542</td>\n",
       "      <td>...</td>\n",
       "      <td>CancerMSK</td>\n",
       "      <td>CancerMSK</td>\n",
       "      <td>SEACell-2</td>\n",
       "      <td>Metastasis_CHT</td>\n",
       "      <td>0</td>\n",
       "      <td>3</td>\n",
       "      <td>0</td>\n",
       "      <td>-0.036711</td>\n",
       "      <td>-0.051121</td>\n",
       "      <td>G1</td>\n",
       "    </tr>\n",
       "    <tr>\n",
       "      <th>AAACGGGAGGCACATG-1-T59</th>\n",
       "      <td>Metastasis</td>\n",
       "      <td>Advanced stage</td>\n",
       "      <td>CHT</td>\n",
       "      <td>Recurrence</td>\n",
       "      <td>IV</td>\n",
       "      <td>Geistlinger_59</td>\n",
       "      <td>Omentum</td>\n",
       "      <td>Geistlinger</td>\n",
       "      <td>1555</td>\n",
       "      <td>1555</td>\n",
       "      <td>...</td>\n",
       "      <td>CancerMSK</td>\n",
       "      <td>CancerMSK</td>\n",
       "      <td>SEACell-6</td>\n",
       "      <td>Metastasis_CHT</td>\n",
       "      <td>0</td>\n",
       "      <td>3</td>\n",
       "      <td>0</td>\n",
       "      <td>-0.022536</td>\n",
       "      <td>-0.015806</td>\n",
       "      <td>G1</td>\n",
       "    </tr>\n",
       "    <tr>\n",
       "      <th>...</th>\n",
       "      <td>...</td>\n",
       "      <td>...</td>\n",
       "      <td>...</td>\n",
       "      <td>...</td>\n",
       "      <td>...</td>\n",
       "      <td>...</td>\n",
       "      <td>...</td>\n",
       "      <td>...</td>\n",
       "      <td>...</td>\n",
       "      <td>...</td>\n",
       "      <td>...</td>\n",
       "      <td>...</td>\n",
       "      <td>...</td>\n",
       "      <td>...</td>\n",
       "      <td>...</td>\n",
       "      <td>...</td>\n",
       "      <td>...</td>\n",
       "      <td>...</td>\n",
       "      <td>...</td>\n",
       "      <td>...</td>\n",
       "      <td>...</td>\n",
       "    </tr>\n",
       "    <tr>\n",
       "      <th>SPECTRUM-OV-118_S1_CD45N_PELVIC_PERITONEUM_TTTGGTTTCTGGGCCA</th>\n",
       "      <td>Metastasis</td>\n",
       "      <td>Advanced stage</td>\n",
       "      <td>Naive</td>\n",
       "      <td>Unknown</td>\n",
       "      <td>IVB</td>\n",
       "      <td>Vasquez_118</td>\n",
       "      <td>Peritoneum</td>\n",
       "      <td>Vasquez</td>\n",
       "      <td>2214</td>\n",
       "      <td>2214</td>\n",
       "      <td>...</td>\n",
       "      <td>CancerMSK</td>\n",
       "      <td>CancerMSK</td>\n",
       "      <td>SEACell-108</td>\n",
       "      <td>Metastasis_Naive</td>\n",
       "      <td>60</td>\n",
       "      <td>5</td>\n",
       "      <td>0</td>\n",
       "      <td>0.008888</td>\n",
       "      <td>-0.058712</td>\n",
       "      <td>S</td>\n",
       "    </tr>\n",
       "    <tr>\n",
       "      <th>SPECTRUM-OV-118_S1_CD45N_PELVIC_PERITONEUM_TTTGTTGAGGTCTGGA</th>\n",
       "      <td>Metastasis</td>\n",
       "      <td>Advanced stage</td>\n",
       "      <td>Naive</td>\n",
       "      <td>Unknown</td>\n",
       "      <td>IVB</td>\n",
       "      <td>Vasquez_118</td>\n",
       "      <td>Peritoneum</td>\n",
       "      <td>Vasquez</td>\n",
       "      <td>2387</td>\n",
       "      <td>2387</td>\n",
       "      <td>...</td>\n",
       "      <td>CancerMSK</td>\n",
       "      <td>CancerMSK</td>\n",
       "      <td>SEACell-42</td>\n",
       "      <td>Metastasis_Naive</td>\n",
       "      <td>60</td>\n",
       "      <td>5</td>\n",
       "      <td>0</td>\n",
       "      <td>-0.046429</td>\n",
       "      <td>-0.089719</td>\n",
       "      <td>G1</td>\n",
       "    </tr>\n",
       "    <tr>\n",
       "      <th>SPECTRUM-OV-118_S1_CD45N_PELVIC_PERITONEUM_TTTGTTGCACGTCTCT</th>\n",
       "      <td>Metastasis</td>\n",
       "      <td>Advanced stage</td>\n",
       "      <td>Naive</td>\n",
       "      <td>Unknown</td>\n",
       "      <td>IVB</td>\n",
       "      <td>Vasquez_118</td>\n",
       "      <td>Peritoneum</td>\n",
       "      <td>Vasquez</td>\n",
       "      <td>1003</td>\n",
       "      <td>1003</td>\n",
       "      <td>...</td>\n",
       "      <td>CancerMSK</td>\n",
       "      <td>CancerMSK</td>\n",
       "      <td>SEACell-117</td>\n",
       "      <td>Metastasis_Naive</td>\n",
       "      <td>60</td>\n",
       "      <td>5</td>\n",
       "      <td>0</td>\n",
       "      <td>0.016156</td>\n",
       "      <td>-0.047764</td>\n",
       "      <td>S</td>\n",
       "    </tr>\n",
       "    <tr>\n",
       "      <th>SPECTRUM-OV-118_S1_CD45N_PELVIC_PERITONEUM_TTTGTTGCACTTGAAC</th>\n",
       "      <td>Metastasis</td>\n",
       "      <td>Advanced stage</td>\n",
       "      <td>Naive</td>\n",
       "      <td>Unknown</td>\n",
       "      <td>IVB</td>\n",
       "      <td>Vasquez_118</td>\n",
       "      <td>Peritoneum</td>\n",
       "      <td>Vasquez</td>\n",
       "      <td>1875</td>\n",
       "      <td>1875</td>\n",
       "      <td>...</td>\n",
       "      <td>CancerMSK</td>\n",
       "      <td>CancerMSK</td>\n",
       "      <td>SEACell-45</td>\n",
       "      <td>Metastasis_Naive</td>\n",
       "      <td>60</td>\n",
       "      <td>5</td>\n",
       "      <td>0</td>\n",
       "      <td>-0.014554</td>\n",
       "      <td>-0.077061</td>\n",
       "      <td>G1</td>\n",
       "    </tr>\n",
       "    <tr>\n",
       "      <th>SPECTRUM-OV-118_S1_CD45N_PELVIC_PERITONEUM_TTTGTTGCAGAAGCGT</th>\n",
       "      <td>Metastasis</td>\n",
       "      <td>Advanced stage</td>\n",
       "      <td>Naive</td>\n",
       "      <td>Unknown</td>\n",
       "      <td>IVB</td>\n",
       "      <td>Vasquez_118</td>\n",
       "      <td>Peritoneum</td>\n",
       "      <td>Vasquez</td>\n",
       "      <td>2156</td>\n",
       "      <td>2156</td>\n",
       "      <td>...</td>\n",
       "      <td>CancerMSK</td>\n",
       "      <td>CancerMSK</td>\n",
       "      <td>SEACell-13</td>\n",
       "      <td>Metastasis_Naive</td>\n",
       "      <td>60</td>\n",
       "      <td>5</td>\n",
       "      <td>0</td>\n",
       "      <td>-0.011684</td>\n",
       "      <td>-0.094378</td>\n",
       "      <td>G1</td>\n",
       "    </tr>\n",
       "  </tbody>\n",
       "</table>\n",
       "<p>401107 rows × 27 columns</p>\n",
       "</div>"
      ],
      "text/plain": [
       "                                                        tissue  \\\n",
       "AAACCTGAGACTTGAA-1-T59                              Metastasis   \n",
       "AAACCTGCACACCGCA-1-T59                              Metastasis   \n",
       "AAACCTGTCCGGCACA-1-T59                              Metastasis   \n",
       "AAACCTGTCGGCGGTT-1-T59                              Metastasis   \n",
       "AAACGGGAGGCACATG-1-T59                              Metastasis   \n",
       "...                                                        ...   \n",
       "SPECTRUM-OV-118_S1_CD45N_PELVIC_PERITONEUM_TTTG...  Metastasis   \n",
       "SPECTRUM-OV-118_S1_CD45N_PELVIC_PERITONEUM_TTTG...  Metastasis   \n",
       "SPECTRUM-OV-118_S1_CD45N_PELVIC_PERITONEUM_TTTG...  Metastasis   \n",
       "SPECTRUM-OV-118_S1_CD45N_PELVIC_PERITONEUM_TTTG...  Metastasis   \n",
       "SPECTRUM-OV-118_S1_CD45N_PELVIC_PERITONEUM_TTTG...  Metastasis   \n",
       "\n",
       "                                                   developmental_stage  \\\n",
       "AAACCTGAGACTTGAA-1-T59                                  Advanced stage   \n",
       "AAACCTGCACACCGCA-1-T59                                  Advanced stage   \n",
       "AAACCTGTCCGGCACA-1-T59                                  Advanced stage   \n",
       "AAACCTGTCGGCGGTT-1-T59                                  Advanced stage   \n",
       "AAACGGGAGGCACATG-1-T59                                  Advanced stage   \n",
       "...                                                                ...   \n",
       "SPECTRUM-OV-118_S1_CD45N_PELVIC_PERITONEUM_TTTG...      Advanced stage   \n",
       "SPECTRUM-OV-118_S1_CD45N_PELVIC_PERITONEUM_TTTG...      Advanced stage   \n",
       "SPECTRUM-OV-118_S1_CD45N_PELVIC_PERITONEUM_TTTG...      Advanced stage   \n",
       "SPECTRUM-OV-118_S1_CD45N_PELVIC_PERITONEUM_TTTG...      Advanced stage   \n",
       "SPECTRUM-OV-118_S1_CD45N_PELVIC_PERITONEUM_TTTG...      Advanced stage   \n",
       "\n",
       "                                                   treatment  recurrence  \\\n",
       "AAACCTGAGACTTGAA-1-T59                                   CHT  Recurrence   \n",
       "AAACCTGCACACCGCA-1-T59                                   CHT  Recurrence   \n",
       "AAACCTGTCCGGCACA-1-T59                                   CHT  Recurrence   \n",
       "AAACCTGTCGGCGGTT-1-T59                                   CHT  Recurrence   \n",
       "AAACGGGAGGCACATG-1-T59                                   CHT  Recurrence   \n",
       "...                                                      ...         ...   \n",
       "SPECTRUM-OV-118_S1_CD45N_PELVIC_PERITONEUM_TTTG...     Naive     Unknown   \n",
       "SPECTRUM-OV-118_S1_CD45N_PELVIC_PERITONEUM_TTTG...     Naive     Unknown   \n",
       "SPECTRUM-OV-118_S1_CD45N_PELVIC_PERITONEUM_TTTG...     Naive     Unknown   \n",
       "SPECTRUM-OV-118_S1_CD45N_PELVIC_PERITONEUM_TTTG...     Naive     Unknown   \n",
       "SPECTRUM-OV-118_S1_CD45N_PELVIC_PERITONEUM_TTTG...     Naive     Unknown   \n",
       "\n",
       "                                                   tumor_stage  \\\n",
       "AAACCTGAGACTTGAA-1-T59                                      IV   \n",
       "AAACCTGCACACCGCA-1-T59                                      IV   \n",
       "AAACCTGTCCGGCACA-1-T59                                      IV   \n",
       "AAACCTGTCGGCGGTT-1-T59                                      IV   \n",
       "AAACGGGAGGCACATG-1-T59                                      IV   \n",
       "...                                                        ...   \n",
       "SPECTRUM-OV-118_S1_CD45N_PELVIC_PERITONEUM_TTTG...         IVB   \n",
       "SPECTRUM-OV-118_S1_CD45N_PELVIC_PERITONEUM_TTTG...         IVB   \n",
       "SPECTRUM-OV-118_S1_CD45N_PELVIC_PERITONEUM_TTTG...         IVB   \n",
       "SPECTRUM-OV-118_S1_CD45N_PELVIC_PERITONEUM_TTTG...         IVB   \n",
       "SPECTRUM-OV-118_S1_CD45N_PELVIC_PERITONEUM_TTTG...         IVB   \n",
       "\n",
       "                                                          paper_ID  \\\n",
       "AAACCTGAGACTTGAA-1-T59                              Geistlinger_59   \n",
       "AAACCTGCACACCGCA-1-T59                              Geistlinger_59   \n",
       "AAACCTGTCCGGCACA-1-T59                              Geistlinger_59   \n",
       "AAACCTGTCGGCGGTT-1-T59                              Geistlinger_59   \n",
       "AAACGGGAGGCACATG-1-T59                              Geistlinger_59   \n",
       "...                                                            ...   \n",
       "SPECTRUM-OV-118_S1_CD45N_PELVIC_PERITONEUM_TTTG...     Vasquez_118   \n",
       "SPECTRUM-OV-118_S1_CD45N_PELVIC_PERITONEUM_TTTG...     Vasquez_118   \n",
       "SPECTRUM-OV-118_S1_CD45N_PELVIC_PERITONEUM_TTTG...     Vasquez_118   \n",
       "SPECTRUM-OV-118_S1_CD45N_PELVIC_PERITONEUM_TTTG...     Vasquez_118   \n",
       "SPECTRUM-OV-118_S1_CD45N_PELVIC_PERITONEUM_TTTG...     Vasquez_118   \n",
       "\n",
       "                                                   anatomical_location  \\\n",
       "AAACCTGAGACTTGAA-1-T59                                         Omentum   \n",
       "AAACCTGCACACCGCA-1-T59                                         Omentum   \n",
       "AAACCTGTCCGGCACA-1-T59                                         Omentum   \n",
       "AAACCTGTCGGCGGTT-1-T59                                         Omentum   \n",
       "AAACGGGAGGCACATG-1-T59                                         Omentum   \n",
       "...                                                                ...   \n",
       "SPECTRUM-OV-118_S1_CD45N_PELVIC_PERITONEUM_TTTG...          Peritoneum   \n",
       "SPECTRUM-OV-118_S1_CD45N_PELVIC_PERITONEUM_TTTG...          Peritoneum   \n",
       "SPECTRUM-OV-118_S1_CD45N_PELVIC_PERITONEUM_TTTG...          Peritoneum   \n",
       "SPECTRUM-OV-118_S1_CD45N_PELVIC_PERITONEUM_TTTG...          Peritoneum   \n",
       "SPECTRUM-OV-118_S1_CD45N_PELVIC_PERITONEUM_TTTG...          Peritoneum   \n",
       "\n",
       "                                                        dataset  n_genes  \\\n",
       "AAACCTGAGACTTGAA-1-T59                              Geistlinger      599   \n",
       "AAACCTGCACACCGCA-1-T59                              Geistlinger     6225   \n",
       "AAACCTGTCCGGCACA-1-T59                              Geistlinger      513   \n",
       "AAACCTGTCGGCGGTT-1-T59                              Geistlinger     1542   \n",
       "AAACGGGAGGCACATG-1-T59                              Geistlinger     1555   \n",
       "...                                                         ...      ...   \n",
       "SPECTRUM-OV-118_S1_CD45N_PELVIC_PERITONEUM_TTTG...      Vasquez     2214   \n",
       "SPECTRUM-OV-118_S1_CD45N_PELVIC_PERITONEUM_TTTG...      Vasquez     2387   \n",
       "SPECTRUM-OV-118_S1_CD45N_PELVIC_PERITONEUM_TTTG...      Vasquez     1003   \n",
       "SPECTRUM-OV-118_S1_CD45N_PELVIC_PERITONEUM_TTTG...      Vasquez     1875   \n",
       "SPECTRUM-OV-118_S1_CD45N_PELVIC_PERITONEUM_TTTG...      Vasquez     2156   \n",
       "\n",
       "                                                    n_genes_by_counts  ...  \\\n",
       "AAACCTGAGACTTGAA-1-T59                                            599  ...   \n",
       "AAACCTGCACACCGCA-1-T59                                           6225  ...   \n",
       "AAACCTGTCCGGCACA-1-T59                                            513  ...   \n",
       "AAACCTGTCGGCGGTT-1-T59                                           1542  ...   \n",
       "AAACGGGAGGCACATG-1-T59                                           1555  ...   \n",
       "...                                                               ...  ...   \n",
       "SPECTRUM-OV-118_S1_CD45N_PELVIC_PERITONEUM_TTTG...               2214  ...   \n",
       "SPECTRUM-OV-118_S1_CD45N_PELVIC_PERITONEUM_TTTG...               2387  ...   \n",
       "SPECTRUM-OV-118_S1_CD45N_PELVIC_PERITONEUM_TTTG...               1003  ...   \n",
       "SPECTRUM-OV-118_S1_CD45N_PELVIC_PERITONEUM_TTTG...               1875  ...   \n",
       "SPECTRUM-OV-118_S1_CD45N_PELVIC_PERITONEUM_TTTG...               2156  ...   \n",
       "\n",
       "                                                          max  cell_types  \\\n",
       "AAACCTGAGACTTGAA-1-T59                              CancerMSK   CancerMSK   \n",
       "AAACCTGCACACCGCA-1-T59                              CancerMSK   CancerMSK   \n",
       "AAACCTGTCCGGCACA-1-T59                              CancerMSK   CancerMSK   \n",
       "AAACCTGTCGGCGGTT-1-T59                              CancerMSK   CancerMSK   \n",
       "AAACGGGAGGCACATG-1-T59                              CancerMSK   CancerMSK   \n",
       "...                                                       ...         ...   \n",
       "SPECTRUM-OV-118_S1_CD45N_PELVIC_PERITONEUM_TTTG...  CancerMSK   CancerMSK   \n",
       "SPECTRUM-OV-118_S1_CD45N_PELVIC_PERITONEUM_TTTG...  CancerMSK   CancerMSK   \n",
       "SPECTRUM-OV-118_S1_CD45N_PELVIC_PERITONEUM_TTTG...  CancerMSK   CancerMSK   \n",
       "SPECTRUM-OV-118_S1_CD45N_PELVIC_PERITONEUM_TTTG...  CancerMSK   CancerMSK   \n",
       "SPECTRUM-OV-118_S1_CD45N_PELVIC_PERITONEUM_TTTG...  CancerMSK   CancerMSK   \n",
       "\n",
       "                                                        SEACell  \\\n",
       "AAACCTGAGACTTGAA-1-T59                                SEACell-7   \n",
       "AAACCTGCACACCGCA-1-T59                                SEACell-3   \n",
       "AAACCTGTCCGGCACA-1-T59                                SEACell-7   \n",
       "AAACCTGTCGGCGGTT-1-T59                                SEACell-2   \n",
       "AAACGGGAGGCACATG-1-T59                                SEACell-6   \n",
       "...                                                         ...   \n",
       "SPECTRUM-OV-118_S1_CD45N_PELVIC_PERITONEUM_TTTG...  SEACell-108   \n",
       "SPECTRUM-OV-118_S1_CD45N_PELVIC_PERITONEUM_TTTG...   SEACell-42   \n",
       "SPECTRUM-OV-118_S1_CD45N_PELVIC_PERITONEUM_TTTG...  SEACell-117   \n",
       "SPECTRUM-OV-118_S1_CD45N_PELVIC_PERITONEUM_TTTG...   SEACell-45   \n",
       "SPECTRUM-OV-118_S1_CD45N_PELVIC_PERITONEUM_TTTG...   SEACell-13   \n",
       "\n",
       "                                                    tissue-treatment  \\\n",
       "AAACCTGAGACTTGAA-1-T59                                Metastasis_CHT   \n",
       "AAACCTGCACACCGCA-1-T59                                Metastasis_CHT   \n",
       "AAACCTGTCCGGCACA-1-T59                                Metastasis_CHT   \n",
       "AAACCTGTCGGCGGTT-1-T59                                Metastasis_CHT   \n",
       "AAACGGGAGGCACATG-1-T59                                Metastasis_CHT   \n",
       "...                                                              ...   \n",
       "SPECTRUM-OV-118_S1_CD45N_PELVIC_PERITONEUM_TTTG...  Metastasis_Naive   \n",
       "SPECTRUM-OV-118_S1_CD45N_PELVIC_PERITONEUM_TTTG...  Metastasis_Naive   \n",
       "SPECTRUM-OV-118_S1_CD45N_PELVIC_PERITONEUM_TTTG...  Metastasis_Naive   \n",
       "SPECTRUM-OV-118_S1_CD45N_PELVIC_PERITONEUM_TTTG...  Metastasis_Naive   \n",
       "SPECTRUM-OV-118_S1_CD45N_PELVIC_PERITONEUM_TTTG...  Metastasis_Naive   \n",
       "\n",
       "                                                    _scvi_batch  _scvi_labels  \\\n",
       "AAACCTGAGACTTGAA-1-T59                                        0             3   \n",
       "AAACCTGCACACCGCA-1-T59                                        0             3   \n",
       "AAACCTGTCCGGCACA-1-T59                                        0             3   \n",
       "AAACCTGTCGGCGGTT-1-T59                                        0             3   \n",
       "AAACGGGAGGCACATG-1-T59                                        0             3   \n",
       "...                                                         ...           ...   \n",
       "SPECTRUM-OV-118_S1_CD45N_PELVIC_PERITONEUM_TTTG...           60             5   \n",
       "SPECTRUM-OV-118_S1_CD45N_PELVIC_PERITONEUM_TTTG...           60             5   \n",
       "SPECTRUM-OV-118_S1_CD45N_PELVIC_PERITONEUM_TTTG...           60             5   \n",
       "SPECTRUM-OV-118_S1_CD45N_PELVIC_PERITONEUM_TTTG...           60             5   \n",
       "SPECTRUM-OV-118_S1_CD45N_PELVIC_PERITONEUM_TTTG...           60             5   \n",
       "\n",
       "                                                    concat_batch   S_score  \\\n",
       "AAACCTGAGACTTGAA-1-T59                                         0 -0.003934   \n",
       "AAACCTGCACACCGCA-1-T59                                         0  0.020012   \n",
       "AAACCTGTCCGGCACA-1-T59                                         0 -0.015525   \n",
       "AAACCTGTCGGCGGTT-1-T59                                         0 -0.036711   \n",
       "AAACGGGAGGCACATG-1-T59                                         0 -0.022536   \n",
       "...                                                          ...       ...   \n",
       "SPECTRUM-OV-118_S1_CD45N_PELVIC_PERITONEUM_TTTG...             0  0.008888   \n",
       "SPECTRUM-OV-118_S1_CD45N_PELVIC_PERITONEUM_TTTG...             0 -0.046429   \n",
       "SPECTRUM-OV-118_S1_CD45N_PELVIC_PERITONEUM_TTTG...             0  0.016156   \n",
       "SPECTRUM-OV-118_S1_CD45N_PELVIC_PERITONEUM_TTTG...             0 -0.014554   \n",
       "SPECTRUM-OV-118_S1_CD45N_PELVIC_PERITONEUM_TTTG...             0 -0.011684   \n",
       "\n",
       "                                                   G2M_score phase  \n",
       "AAACCTGAGACTTGAA-1-T59                             -0.035056    G1  \n",
       "AAACCTGCACACCGCA-1-T59                              0.003426     S  \n",
       "AAACCTGTCCGGCACA-1-T59                             -0.026617    G1  \n",
       "AAACCTGTCGGCGGTT-1-T59                             -0.051121    G1  \n",
       "AAACGGGAGGCACATG-1-T59                             -0.015806    G1  \n",
       "...                                                      ...   ...  \n",
       "SPECTRUM-OV-118_S1_CD45N_PELVIC_PERITONEUM_TTTG... -0.058712     S  \n",
       "SPECTRUM-OV-118_S1_CD45N_PELVIC_PERITONEUM_TTTG... -0.089719    G1  \n",
       "SPECTRUM-OV-118_S1_CD45N_PELVIC_PERITONEUM_TTTG... -0.047764     S  \n",
       "SPECTRUM-OV-118_S1_CD45N_PELVIC_PERITONEUM_TTTG... -0.077061    G1  \n",
       "SPECTRUM-OV-118_S1_CD45N_PELVIC_PERITONEUM_TTTG... -0.094378    G1  \n",
       "\n",
       "[401107 rows x 27 columns]"
      ]
     },
     "execution_count": 7,
     "metadata": {},
     "output_type": "execute_result"
    }
   ],
   "source": [
    "adata.obs"
   ]
  },
  {
   "cell_type": "code",
   "execution_count": null,
   "metadata": {},
   "outputs": [
    {
     "data": {
      "text/plain": [
       "AnnData object with n_obs × n_vars = 401106 × 5192\n",
       "    obs: 'ID', 'sample_name', 'tissue', 'developmental_stage', 'treatment', 'recurrence', 'tumor_stage', 'paper_ID', 'anatomical_location', 'patient_id', 'dataset', 'cell_type', 'cell_subtype', 'sample_ID', 'n_genes', 'n_genes_by_counts', 'total_counts', 'total_counts_mt', 'pct_counts_mt', 'CancerMSK', 'EndothelialMSK', 'FibroblastsMSK', 'HematopoieticMSK', 'cell_labels_ratio', 'max', 'assignment', 'leiden-1.8', 'SEACell', 'tissue-treatment', '_scvi_batch', '_scvi_labels', 'concat_batch', 'S_score', 'G2M_score', 'phase', 'SEACell_patient_tissue', 'SEACell_seed1', 'SEACell_seed1_patient_tissue', 'SEACell_seed2', 'SEACell_seed2_patient_tissue'\n",
       "    uns: '_scvi_manager_uuid', '_scvi_uuid', 'dataset_colors', 'neighbors', 'paper_ID_colors', 'pca', 'phase_colors', 'tissue-treatment_colors', 'tissue_colors', 'treatment_colors', 'umap'\n",
       "    obsm: 'X_pca', 'X_umap', 'corrected_latent', 'latent'\n",
       "    varm: 'PCs'\n",
       "    obsp: 'connectivities', 'distances'"
      ]
     },
     "execution_count": 8,
     "metadata": {},
     "output_type": "execute_result"
    }
   ],
   "source": [
    "adata_ma"
   ]
  },
  {
   "cell_type": "code",
   "execution_count": null,
   "id": "d265c5f0-cccf-4db5-a3ec-d876e204e84c",
   "metadata": {},
   "outputs": [],
   "source": [
    "# %%\n",
    "\n",
    "import numpy as np\n",
    "from sklearn import metrics\n",
    "\n",
    "def purity_score(y_true, y_pred):\n",
    "    # compute contingency matrix (also called confusion matrix)\n",
    "    contingency_matrix = metrics.cluster.contingency_matrix(y_true, y_pred)\n",
    "    # return purity\n",
    "    return np.sum(np.amax(contingency_matrix, axis=0)) / np.sum(contingency_matrix) "
   ]
  },
  {
   "cell_type": "code",
   "execution_count": null,
   "id": "461a3cf2-2e17-4add-9019-d5d5b4df50b2",
   "metadata": {},
   "outputs": [],
   "source": [
    "#%%\n",
    "\n",
    "import pandas as pd\n",
    "def celltype_frac(x, col_name):\n",
    "    val_counts = x[col_name].value_counts()\n",
    "    return val_counts.values[0] / val_counts.values.sum()\n",
    "\n",
    "\n",
    "def compute_celltype_purity(ad, col_name):\n",
    "    \"\"\"\n",
    "    Compute the purity (prevalence of most abundant value) of the specified col_name from ad.obs within each metacell.\n",
    "    @param: ad - AnnData object with SEACell assignment and col_name in ad.obs dataframe\n",
    "    @param: col_name - (str) column name within ad.obs representing celltype groupings for each cell.\n",
    "    \"\"\"\n",
    "\n",
    "    celltype_fraction = ad.obs.groupby('SEACell_patient_tissue').apply(lambda x: celltype_frac(x, col_name))\n",
    "    celltype = ad.obs.groupby('SEACell_patient_tissue').apply(lambda x: x[col_name].value_counts().index[0])\n",
    "\n",
    "    return pd.concat([celltype, celltype_fraction], axis=1).rename(columns={0: col_name, 1: f'{col_name}_purity'})"
   ]
  },
  {
   "cell_type": "code",
   "execution_count": null,
   "id": "09d6b438-6654-471b-86e9-fd84cf0ec58f",
   "metadata": {},
   "outputs": [
    {
     "ename": "KeyError",
     "evalue": "'SEACell2_patient_tissue'",
     "output_type": "error",
     "traceback": [
      "\u001b[0;31m---------------------------------------------------------------------------\u001b[0m",
      "\u001b[0;31mKeyError\u001b[0m                                  Traceback (most recent call last)",
      "File \u001b[0;32m/usr/local/conda/envs/downstream/lib/python3.11/site-packages/pandas/core/indexes/base.py:3805\u001b[0m, in \u001b[0;36mIndex.get_loc\u001b[0;34m(self, key)\u001b[0m\n\u001b[1;32m   3804\u001b[0m \u001b[39mtry\u001b[39;00m:\n\u001b[0;32m-> 3805\u001b[0m     \u001b[39mreturn\u001b[39;00m \u001b[39mself\u001b[39;49m\u001b[39m.\u001b[39;49m_engine\u001b[39m.\u001b[39;49mget_loc(casted_key)\n\u001b[1;32m   3806\u001b[0m \u001b[39mexcept\u001b[39;00m \u001b[39mKeyError\u001b[39;00m \u001b[39mas\u001b[39;00m err:\n",
      "File \u001b[0;32mindex.pyx:167\u001b[0m, in \u001b[0;36mpandas._libs.index.IndexEngine.get_loc\u001b[0;34m()\u001b[0m\n",
      "File \u001b[0;32mindex.pyx:196\u001b[0m, in \u001b[0;36mpandas._libs.index.IndexEngine.get_loc\u001b[0;34m()\u001b[0m\n",
      "File \u001b[0;32mpandas/_libs/hashtable_class_helper.pxi:7081\u001b[0m, in \u001b[0;36mpandas._libs.hashtable.PyObjectHashTable.get_item\u001b[0;34m()\u001b[0m\n",
      "File \u001b[0;32mpandas/_libs/hashtable_class_helper.pxi:7089\u001b[0m, in \u001b[0;36mpandas._libs.hashtable.PyObjectHashTable.get_item\u001b[0;34m()\u001b[0m\n",
      "\u001b[0;31mKeyError\u001b[0m: 'SEACell2_patient_tissue'",
      "\nThe above exception was the direct cause of the following exception:\n",
      "\u001b[0;31mKeyError\u001b[0m                                  Traceback (most recent call last)",
      "File \u001b[1;32m/group/testa/Users/vittorio.aiello/singularity/ovarian/atlas_project/utils/test.py:3\u001b[0m\n\u001b[1;32m      1\u001b[0m \u001b[39m#%%\u001b[39;00m\n\u001b[0;32m----> 3\u001b[0m purity \u001b[39m=\u001b[39m compute_celltype_purity(adata_ma, \u001b[39m\"\u001b[39;49m\u001b[39mSEACell2_patient_tissue\u001b[39;49m\u001b[39m\"\u001b[39;49m)\n",
      "File \u001b[1;32m/group/testa/Users/vittorio.aiello/singularity/ovarian/atlas_project/utils/test.py:15\u001b[0m\n\u001b[1;32m      8\u001b[0m \u001b[39mdef\u001b[39;00m\u001b[39m \u001b[39m\u001b[39mcompute_celltype_purity\u001b[39m(ad, col_name):\n\u001b[1;32m      9\u001b[0m \u001b[39m    \u001b[39m\u001b[39m\"\"\"\u001b[39;00m\n\u001b[1;32m     10\u001b[0m \u001b[39m    Compute the purity (prevalence of most abundant value) of the specified col_name from ad.obs within each metacell.\u001b[39;00m\n\u001b[1;32m     11\u001b[0m \u001b[39m    @param: ad - AnnData object with SEACell assignment and col_name in ad.obs dataframe\u001b[39;00m\n\u001b[1;32m     12\u001b[0m \u001b[39m    @param: col_name - (str) column name within ad.obs representing celltype groupings for each cell.\u001b[39;00m\n\u001b[1;32m     13\u001b[0m \u001b[39m    \"\"\"\u001b[39;00m\n\u001b[0;32m---> 15\u001b[0m     celltype_fraction \u001b[39m=\u001b[39m ad\u001b[39m.\u001b[39;49mobs\u001b[39m.\u001b[39;49mgroupby(\u001b[39m'\u001b[39;49m\u001b[39mSEACell_patient_tissue\u001b[39;49m\u001b[39m'\u001b[39;49m)\u001b[39m.\u001b[39;49mapply(\u001b[39mlambda\u001b[39;49;00m x: celltype_frac(x, col_name))\n\u001b[1;32m     16\u001b[0m     celltype \u001b[39m=\u001b[39m ad\u001b[39m.\u001b[39mobs\u001b[39m.\u001b[39mgroupby(\u001b[39m'\u001b[39m\u001b[39mSEACell_patient_tissue\u001b[39m\u001b[39m'\u001b[39m)\u001b[39m.\u001b[39mapply(\u001b[39mlambda\u001b[39;00m x: x[col_name]\u001b[39m.\u001b[39mvalue_counts()\u001b[39m.\u001b[39mindex[\u001b[39m0\u001b[39m])\n\u001b[1;32m     18\u001b[0m     \u001b[39mreturn\u001b[39;00m pd\u001b[39m.\u001b[39mconcat([celltype, celltype_fraction], axis\u001b[39m=\u001b[39m\u001b[39m1\u001b[39m)\u001b[39m.\u001b[39mrename(columns\u001b[39m=\u001b[39m{\u001b[39m0\u001b[39m: col_name, \u001b[39m1\u001b[39m: \u001b[39mf\u001b[39m\u001b[39m'\u001b[39m\u001b[39m{\u001b[39;00mcol_name\u001b[39m}\u001b[39;00m\u001b[39m_purity\u001b[39m\u001b[39m'\u001b[39m})\n",
      "File \u001b[0;32m/usr/local/conda/envs/downstream/lib/python3.11/site-packages/pandas/core/groupby/groupby.py:1824\u001b[0m, in \u001b[0;36mGroupBy.apply\u001b[0;34m(self, func, include_groups, *args, **kwargs)\u001b[0m\n\u001b[1;32m   1822\u001b[0m \u001b[39mwith\u001b[39;00m option_context(\u001b[39m\"\u001b[39m\u001b[39mmode.chained_assignment\u001b[39m\u001b[39m\"\u001b[39m, \u001b[39mNone\u001b[39;00m):\n\u001b[1;32m   1823\u001b[0m     \u001b[39mtry\u001b[39;00m:\n\u001b[0;32m-> 1824\u001b[0m         result \u001b[39m=\u001b[39m \u001b[39mself\u001b[39;49m\u001b[39m.\u001b[39;49m_python_apply_general(f, \u001b[39mself\u001b[39;49m\u001b[39m.\u001b[39;49m_selected_obj)\n\u001b[1;32m   1825\u001b[0m         \u001b[39mif\u001b[39;00m (\n\u001b[1;32m   1826\u001b[0m             \u001b[39mnot\u001b[39;00m \u001b[39misinstance\u001b[39m(\u001b[39mself\u001b[39m\u001b[39m.\u001b[39mobj, Series)\n\u001b[1;32m   1827\u001b[0m             \u001b[39mand\u001b[39;00m \u001b[39mself\u001b[39m\u001b[39m.\u001b[39m_selection \u001b[39mis\u001b[39;00m \u001b[39mNone\u001b[39;00m\n\u001b[1;32m   1828\u001b[0m             \u001b[39mand\u001b[39;00m \u001b[39mself\u001b[39m\u001b[39m.\u001b[39m_selected_obj\u001b[39m.\u001b[39mshape \u001b[39m!=\u001b[39m \u001b[39mself\u001b[39m\u001b[39m.\u001b[39m_obj_with_exclusions\u001b[39m.\u001b[39mshape\n\u001b[1;32m   1829\u001b[0m         ):\n\u001b[1;32m   1830\u001b[0m             warnings\u001b[39m.\u001b[39mwarn(\n\u001b[1;32m   1831\u001b[0m                 message\u001b[39m=\u001b[39m_apply_groupings_depr\u001b[39m.\u001b[39mformat(\n\u001b[1;32m   1832\u001b[0m                     \u001b[39mtype\u001b[39m(\u001b[39mself\u001b[39m)\u001b[39m.\u001b[39m\u001b[39m__name__\u001b[39m, \u001b[39m\"\u001b[39m\u001b[39mapply\u001b[39m\u001b[39m\"\u001b[39m\n\u001b[0;32m   (...)\u001b[0m\n\u001b[1;32m   1835\u001b[0m                 stacklevel\u001b[39m=\u001b[39mfind_stack_level(),\n\u001b[1;32m   1836\u001b[0m             )\n",
      "File \u001b[0;32m/usr/local/conda/envs/downstream/lib/python3.11/site-packages/pandas/core/groupby/groupby.py:1885\u001b[0m, in \u001b[0;36mGroupBy._python_apply_general\u001b[0;34m(self, f, data, not_indexed_same, is_transform, is_agg)\u001b[0m\n\u001b[1;32m   1850\u001b[0m \u001b[39m@final\u001b[39m\n\u001b[1;32m   1851\u001b[0m \u001b[39mdef\u001b[39;00m\u001b[39m \u001b[39m\u001b[39m_python_apply_general\u001b[39m(\n\u001b[1;32m   1852\u001b[0m     \u001b[39mself\u001b[39m,\n\u001b[0;32m   (...)\u001b[0m\n\u001b[1;32m   1857\u001b[0m     is_agg: \u001b[39mbool\u001b[39m \u001b[39m=\u001b[39m \u001b[39mFalse\u001b[39;00m,\n\u001b[1;32m   1858\u001b[0m ) \u001b[39m-\u001b[39m\u001b[39m>\u001b[39m NDFrameT:\n\u001b[1;32m   1859\u001b[0m \u001b[39m    \u001b[39m\u001b[39m\"\"\"\u001b[39;00m\n\u001b[1;32m   1860\u001b[0m \u001b[39m    Apply function f in python space\u001b[39;00m\n\u001b[1;32m   1861\u001b[0m \n\u001b[0;32m   (...)\u001b[0m\n\u001b[1;32m   1883\u001b[0m \u001b[39m        data after applying f\u001b[39;00m\n\u001b[1;32m   1884\u001b[0m \u001b[39m    \"\"\"\u001b[39;00m\n\u001b[0;32m-> 1885\u001b[0m     values, mutated \u001b[39m=\u001b[39m \u001b[39mself\u001b[39;49m\u001b[39m.\u001b[39;49m_grouper\u001b[39m.\u001b[39;49mapply_groupwise(f, data, \u001b[39mself\u001b[39;49m\u001b[39m.\u001b[39;49maxis)\n\u001b[1;32m   1886\u001b[0m     \u001b[39mif\u001b[39;00m not_indexed_same \u001b[39mis\u001b[39;00m \u001b[39mNone\u001b[39;00m:\n\u001b[1;32m   1887\u001b[0m         not_indexed_same \u001b[39m=\u001b[39m mutated\n",
      "File \u001b[0;32m/usr/local/conda/envs/downstream/lib/python3.11/site-packages/pandas/core/groupby/ops.py:919\u001b[0m, in \u001b[0;36mBaseGrouper.apply_groupwise\u001b[0;34m(self, f, data, axis)\u001b[0m\n\u001b[1;32m    917\u001b[0m \u001b[39m# group might be modified\u001b[39;00m\n\u001b[1;32m    918\u001b[0m group_axes \u001b[39m=\u001b[39m group\u001b[39m.\u001b[39maxes\n\u001b[0;32m--> 919\u001b[0m res \u001b[39m=\u001b[39m f(group)\n\u001b[1;32m    920\u001b[0m \u001b[39mif\u001b[39;00m \u001b[39mnot\u001b[39;00m mutated \u001b[39mand\u001b[39;00m \u001b[39mnot\u001b[39;00m _is_indexed_like(res, group_axes, axis):\n\u001b[1;32m    921\u001b[0m     mutated \u001b[39m=\u001b[39m \u001b[39mTrue\u001b[39;00m\n",
      "File \u001b[1;32m/group/testa/Users/vittorio.aiello/singularity/ovarian/atlas_project/utils/test.py:15\u001b[0m\n\u001b[1;32m      8\u001b[0m \u001b[39mdef\u001b[39;00m\u001b[39m \u001b[39m\u001b[39mcompute_celltype_purity\u001b[39m(ad, col_name):\n\u001b[1;32m      9\u001b[0m \u001b[39m    \u001b[39m\u001b[39m\"\"\"\u001b[39;00m\n\u001b[1;32m     10\u001b[0m \u001b[39m    Compute the purity (prevalence of most abundant value) of the specified col_name from ad.obs within each metacell.\u001b[39;00m\n\u001b[1;32m     11\u001b[0m \u001b[39m    @param: ad - AnnData object with SEACell assignment and col_name in ad.obs dataframe\u001b[39;00m\n\u001b[1;32m     12\u001b[0m \u001b[39m    @param: col_name - (str) column name within ad.obs representing celltype groupings for each cell.\u001b[39;00m\n\u001b[1;32m     13\u001b[0m \u001b[39m    \"\"\"\u001b[39;00m\n\u001b[0;32m---> 15\u001b[0m     celltype_fraction \u001b[39m=\u001b[39m ad\u001b[39m.\u001b[39mobs\u001b[39m.\u001b[39mgroupby(\u001b[39m'\u001b[39m\u001b[39mSEACell_patient_tissue\u001b[39m\u001b[39m'\u001b[39m)\u001b[39m.\u001b[39mapply(\u001b[39mlambda\u001b[39;00m x: celltype_frac(x, col_name))\n\u001b[1;32m     16\u001b[0m     celltype \u001b[39m=\u001b[39m ad\u001b[39m.\u001b[39mobs\u001b[39m.\u001b[39mgroupby(\u001b[39m'\u001b[39m\u001b[39mSEACell_patient_tissue\u001b[39m\u001b[39m'\u001b[39m)\u001b[39m.\u001b[39mapply(\u001b[39mlambda\u001b[39;00m x: x[col_name]\u001b[39m.\u001b[39mvalue_counts()\u001b[39m.\u001b[39mindex[\u001b[39m0\u001b[39m])\n\u001b[1;32m     18\u001b[0m     \u001b[39mreturn\u001b[39;00m pd\u001b[39m.\u001b[39mconcat([celltype, celltype_fraction], axis\u001b[39m=\u001b[39m\u001b[39m1\u001b[39m)\u001b[39m.\u001b[39mrename(columns\u001b[39m=\u001b[39m{\u001b[39m0\u001b[39m: col_name, \u001b[39m1\u001b[39m: \u001b[39mf\u001b[39m\u001b[39m'\u001b[39m\u001b[39m{\u001b[39;00mcol_name\u001b[39m}\u001b[39;00m\u001b[39m_purity\u001b[39m\u001b[39m'\u001b[39m})\n",
      "File \u001b[1;32m/group/testa/Users/vittorio.aiello/singularity/ovarian/atlas_project/utils/test.py:4\u001b[0m\n\u001b[1;32m      3\u001b[0m \u001b[39mdef\u001b[39;00m\u001b[39m \u001b[39m\u001b[39mcelltype_frac\u001b[39m(x, col_name):\n\u001b[0;32m----> 4\u001b[0m     val_counts \u001b[39m=\u001b[39m x[col_name]\u001b[39m.\u001b[39mvalue_counts()\n\u001b[1;32m      5\u001b[0m     \u001b[39mreturn\u001b[39;00m val_counts\u001b[39m.\u001b[39mvalues[\u001b[39m0\u001b[39m] \u001b[39m/\u001b[39m val_counts\u001b[39m.\u001b[39mvalues\u001b[39m.\u001b[39msum()\n",
      "File \u001b[0;32m/usr/local/conda/envs/downstream/lib/python3.11/site-packages/pandas/core/frame.py:4102\u001b[0m, in \u001b[0;36mDataFrame.__getitem__\u001b[0;34m(self, key)\u001b[0m\n\u001b[1;32m   4100\u001b[0m \u001b[39mif\u001b[39;00m \u001b[39mself\u001b[39m\u001b[39m.\u001b[39mcolumns\u001b[39m.\u001b[39mnlevels \u001b[39m>\u001b[39m \u001b[39m1\u001b[39m:\n\u001b[1;32m   4101\u001b[0m     \u001b[39mreturn\u001b[39;00m \u001b[39mself\u001b[39m\u001b[39m.\u001b[39m_getitem_multilevel(key)\n\u001b[0;32m-> 4102\u001b[0m indexer \u001b[39m=\u001b[39m \u001b[39mself\u001b[39;49m\u001b[39m.\u001b[39;49mcolumns\u001b[39m.\u001b[39;49mget_loc(key)\n\u001b[1;32m   4103\u001b[0m \u001b[39mif\u001b[39;00m is_integer(indexer):\n\u001b[1;32m   4104\u001b[0m     indexer \u001b[39m=\u001b[39m [indexer]\n",
      "File \u001b[0;32m/usr/local/conda/envs/downstream/lib/python3.11/site-packages/pandas/core/indexes/base.py:3812\u001b[0m, in \u001b[0;36mIndex.get_loc\u001b[0;34m(self, key)\u001b[0m\n\u001b[1;32m   3807\u001b[0m     \u001b[39mif\u001b[39;00m \u001b[39misinstance\u001b[39m(casted_key, \u001b[39mslice\u001b[39m) \u001b[39mor\u001b[39;00m (\n\u001b[1;32m   3808\u001b[0m         \u001b[39misinstance\u001b[39m(casted_key, abc\u001b[39m.\u001b[39mIterable)\n\u001b[1;32m   3809\u001b[0m         \u001b[39mand\u001b[39;00m \u001b[39many\u001b[39m(\u001b[39misinstance\u001b[39m(x, \u001b[39mslice\u001b[39m) \u001b[39mfor\u001b[39;00m x \u001b[39min\u001b[39;00m casted_key)\n\u001b[1;32m   3810\u001b[0m     ):\n\u001b[1;32m   3811\u001b[0m         \u001b[39mraise\u001b[39;00m InvalidIndexError(key)\n\u001b[0;32m-> 3812\u001b[0m     \u001b[39mraise\u001b[39;00m \u001b[39mKeyError\u001b[39;00m(key) \u001b[39mfrom\u001b[39;00m\u001b[39m \u001b[39m\u001b[39merr\u001b[39;00m\n\u001b[1;32m   3813\u001b[0m \u001b[39mexcept\u001b[39;00m \u001b[39mTypeError\u001b[39;00m:\n\u001b[1;32m   3814\u001b[0m     \u001b[39m# If we have a listlike key, _check_indexing_error will raise\u001b[39;00m\n\u001b[1;32m   3815\u001b[0m     \u001b[39m#  InvalidIndexError. Otherwise we fall through and re-raise\u001b[39;00m\n\u001b[1;32m   3816\u001b[0m     \u001b[39m#  the TypeError.\u001b[39;00m\n\u001b[1;32m   3817\u001b[0m     \u001b[39mself\u001b[39m\u001b[39m.\u001b[39m_check_indexing_error(key)\n",
      "\u001b[0;31mKeyError\u001b[0m: 'SEACell2_patient_tissue'"
     ]
    }
   ],
   "source": [
    "#%%\n",
    "\n",
    "purity = compute_celltype_purity(adata_ma, \"SEACell2_patient_tissue\")"
   ]
  },
  {
   "cell_type": "code",
   "execution_count": null,
   "id": "0e74cbaa-c938-4b82-b2f7-c6af79daa2f5",
   "metadata": {},
   "outputs": [
    {
     "name": "stderr",
     "output_type": "stream",
     "text": [
      "<ipython-input-10-20d7f649aeed>:15: DeprecationWarning: DataFrameGroupBy.apply operated on the grouping columns. This behavior is deprecated, and in a future version of pandas the grouping columns will be excluded from the operation. Either pass `include_groups=False` to exclude the groupings or explicitly select the grouping columns after groupby to silence this warning.\n",
      "  celltype_fraction = ad.obs.groupby('SEACell_patient_tissue').apply(lambda x: celltype_frac(x, col_name))\n",
      "<ipython-input-10-20d7f649aeed>:16: DeprecationWarning: DataFrameGroupBy.apply operated on the grouping columns. This behavior is deprecated, and in a future version of pandas the grouping columns will be excluded from the operation. Either pass `include_groups=False` to exclude the groupings or explicitly select the grouping columns after groupby to silence this warning.\n",
      "  celltype = ad.obs.groupby('SEACell_patient_tissue').apply(lambda x: x[col_name].value_counts().index[0])\n",
      "<ipython-input-10-20d7f649aeed>:15: DeprecationWarning: DataFrameGroupBy.apply operated on the grouping columns. This behavior is deprecated, and in a future version of pandas the grouping columns will be excluded from the operation. Either pass `include_groups=False` to exclude the groupings or explicitly select the grouping columns after groupby to silence this warning.\n",
      "  celltype_fraction = ad.obs.groupby('SEACell_patient_tissue').apply(lambda x: celltype_frac(x, col_name))\n",
      "<ipython-input-10-20d7f649aeed>:16: DeprecationWarning: DataFrameGroupBy.apply operated on the grouping columns. This behavior is deprecated, and in a future version of pandas the grouping columns will be excluded from the operation. Either pass `include_groups=False` to exclude the groupings or explicitly select the grouping columns after groupby to silence this warning.\n",
      "  celltype = ad.obs.groupby('SEACell_patient_tissue').apply(lambda x: x[col_name].value_counts().index[0])\n"
     ]
    }
   ],
   "source": [
    "# %%\n",
    "\n",
    "purity_seed1 = compute_celltype_purity(adata_ma, \"SEACell_seed1_patient_tissue\")\n",
    "purity_seed2 = compute_celltype_purity(adata_ma, \"SEACell_seed2_patient_tissue\")\n",
    "#purity_seed3 = compute_celltype_purity(adata_ma, \"SEACell_seed3_patient_tissue\")"
   ]
  },
  {
   "cell_type": "code",
   "execution_count": null,
   "metadata": {},
   "outputs": [
    {
     "data": {
      "text/plain": [
       "array([[<Axes: title={'center': 'SEACell_seed1_patient_tissue_purity'}>]],\n",
       "      dtype=object)"
      ]
     },
     "execution_count": 13,
     "metadata": {},
     "output_type": "execute_result"
    },
    {
     "data": {
      "image/png": "[encoded data removed]",
      "text/plain": [
       "<Figure size 640x480 with 1 Axes>"
      ]
     },
     "metadata": {},
     "output_type": "display_data"
    }
   ],
   "source": [
    "purity_seed1.hist()"
   ]
  },
  {
   "cell_type": "code",
   "execution_count": null,
   "metadata": {},
   "outputs": [
    {
     "data": {
      "text/plain": [
       "array([[<Axes: title={'center': 'SEACell_seed2_patient_tissue_purity'}>]],\n",
       "      dtype=object)"
      ]
     },
     "execution_count": 14,
     "metadata": {},
     "output_type": "execute_result"
    },
    {
     "data": {
      "image/png": "[encoded data removed]",
      "text/plain": [
       "<Figure size 640x480 with 1 Axes>"
      ]
     },
     "metadata": {},
     "output_type": "display_data"
    }
   ],
   "source": [
    "purity_seed2.hist()"
   ]
  },
  {
   "cell_type": "code",
   "execution_count": null,
   "id": "642c8417-af94-44ec-9bae-867931527bc9",
   "metadata": {},
   "outputs": [],
   "source": [
    "# %%\n",
    "\n",
    "def compute_celltype_purity(ad, col_name, starting):\n",
    "    \"\"\"\n",
    "    Compute the purity (prevalence of most abundant value) of the specified col_name from ad.obs within each metacell.\n",
    "    @param: ad - AnnData object with SEACell assignment and col_name in ad.obs dataframe\n",
    "    @param: col_name - (str) column name within ad.obs representing celltype groupings for each cell.\n",
    "    \"\"\"\n",
    "\n",
    "    celltype_fraction = ad.obs.groupby(starting).apply(lambda x: celltype_frac(x, col_name))\n",
    "    celltype = ad.obs.groupby(starting).apply(lambda x: x[col_name].value_counts().index[0])\n",
    "\n",
    "    return pd.concat([celltype, celltype_fraction], axis=1).rename(columns={0: col_name, 1: f'{col_name}_purity'})"
   ]
  },
  {
   "cell_type": "code",
   "execution_count": null,
   "id": "220f43e4-b80f-440f-a314-9c7a181dd349",
   "metadata": {},
   "outputs": [
    {
     "name": "stderr",
     "output_type": "stream",
     "text": [
      "<ipython-input-15-e486e53fe515>:9: DeprecationWarning: DataFrameGroupBy.apply operated on the grouping columns. This behavior is deprecated, and in a future version of pandas the grouping columns will be excluded from the operation. Either pass `include_groups=False` to exclude the groupings or explicitly select the grouping columns after groupby to silence this warning.\n",
      "  celltype_fraction = ad.obs.groupby(starting).apply(lambda x: celltype_frac(x, col_name))\n",
      "<ipython-input-15-e486e53fe515>:10: DeprecationWarning: DataFrameGroupBy.apply operated on the grouping columns. This behavior is deprecated, and in a future version of pandas the grouping columns will be excluded from the operation. Either pass `include_groups=False` to exclude the groupings or explicitly select the grouping columns after groupby to silence this warning.\n",
      "  celltype = ad.obs.groupby(starting).apply(lambda x: x[col_name].value_counts().index[0])\n",
      "<ipython-input-15-e486e53fe515>:9: DeprecationWarning: DataFrameGroupBy.apply operated on the grouping columns. This behavior is deprecated, and in a future version of pandas the grouping columns will be excluded from the operation. Either pass `include_groups=False` to exclude the groupings or explicitly select the grouping columns after groupby to silence this warning.\n",
      "  celltype_fraction = ad.obs.groupby(starting).apply(lambda x: celltype_frac(x, col_name))\n",
      "<ipython-input-15-e486e53fe515>:10: DeprecationWarning: DataFrameGroupBy.apply operated on the grouping columns. This behavior is deprecated, and in a future version of pandas the grouping columns will be excluded from the operation. Either pass `include_groups=False` to exclude the groupings or explicitly select the grouping columns after groupby to silence this warning.\n",
      "  celltype = ad.obs.groupby(starting).apply(lambda x: x[col_name].value_counts().index[0])\n"
     ]
    }
   ],
   "source": [
    "# %%\n",
    "\n",
    "purity_seed1 = compute_celltype_purity(adata_ma, \"SEACell_seed1_patient_tissue\",  \"SEACell_seed1_patient_tissue\")\n",
    "purity_seed2 = compute_celltype_purity(adata_ma, \"SEACell_seed2_patient_tissue\",  \"SEACell_seed1_patient_tissue\")\n",
    "#purity_seed3 = compute_celltype_purity(adata_ma, \"SEACell_seed3_patient_tissue\",  \"SEACell_seed1_patient_tissue\")"
   ]
  },
  {
   "cell_type": "code",
   "execution_count": null,
   "metadata": {},
   "outputs": [
    {
     "data": {
      "text/html": [
       "<div>\n",
       "<style scoped>\n",
       "    .dataframe tbody tr th:only-of-type {\n",
       "        vertical-align: middle;\n",
       "    }\n",
       "\n",
       "    .dataframe tbody tr th {\n",
       "        vertical-align: top;\n",
       "    }\n",
       "\n",
       "    .dataframe thead th {\n",
       "        text-align: right;\n",
       "    }\n",
       "</style>\n",
       "<table border=\"1\" class=\"dataframe\">\n",
       "  <thead>\n",
       "    <tr style=\"text-align: right;\">\n",
       "      <th></th>\n",
       "      <th>SEACell_seed1_patient_tissue</th>\n",
       "      <th>SEACell_seed1_patient_tissue_purity</th>\n",
       "    </tr>\n",
       "    <tr>\n",
       "      <th>SEACell_seed1_patient_tissue</th>\n",
       "      <th></th>\n",
       "      <th></th>\n",
       "    </tr>\n",
       "  </thead>\n",
       "  <tbody>\n",
       "    <tr>\n",
       "      <th>SEACell-0_Geistlinger_59_Metastasis</th>\n",
       "      <td>SEACell-0_Geistlinger_59_Metastasis</td>\n",
       "      <td>1.0</td>\n",
       "    </tr>\n",
       "    <tr>\n",
       "      <th>SEACell-0_Geistlinger_76_Metastasis</th>\n",
       "      <td>SEACell-0_Geistlinger_76_Metastasis</td>\n",
       "      <td>1.0</td>\n",
       "    </tr>\n",
       "    <tr>\n",
       "      <th>SEACell-0_Geistlinger_77_Metastasis</th>\n",
       "      <td>SEACell-0_Geistlinger_77_Metastasis</td>\n",
       "      <td>1.0</td>\n",
       "    </tr>\n",
       "    <tr>\n",
       "      <th>SEACell-0_Geistlinger_89_Metastasis</th>\n",
       "      <td>SEACell-0_Geistlinger_89_Metastasis</td>\n",
       "      <td>1.0</td>\n",
       "    </tr>\n",
       "    <tr>\n",
       "      <th>SEACell-0_Loret_1_Ascites</th>\n",
       "      <td>SEACell-0_Loret_1_Ascites</td>\n",
       "      <td>1.0</td>\n",
       "    </tr>\n",
       "    <tr>\n",
       "      <th>...</th>\n",
       "      <td>...</td>\n",
       "      <td>...</td>\n",
       "    </tr>\n",
       "    <tr>\n",
       "      <th>nan_Zhang_349_Metastasis</th>\n",
       "      <td>nan_Zhang_349_Metastasis</td>\n",
       "      <td>1.0</td>\n",
       "    </tr>\n",
       "    <tr>\n",
       "      <th>nan_Zhang_372_Metastasis</th>\n",
       "      <td>nan_Zhang_372_Metastasis</td>\n",
       "      <td>1.0</td>\n",
       "    </tr>\n",
       "    <tr>\n",
       "      <th>nan_Zhang_3_Metastasis</th>\n",
       "      <td>nan_Zhang_3_Metastasis</td>\n",
       "      <td>1.0</td>\n",
       "    </tr>\n",
       "    <tr>\n",
       "      <th>nan_Zhang_540_Metastasis</th>\n",
       "      <td>nan_Zhang_540_Metastasis</td>\n",
       "      <td>1.0</td>\n",
       "    </tr>\n",
       "    <tr>\n",
       "      <th>nan_Zhang_87_Metastasis</th>\n",
       "      <td>nan_Zhang_87_Metastasis</td>\n",
       "      <td>1.0</td>\n",
       "    </tr>\n",
       "  </tbody>\n",
       "</table>\n",
       "<p>9067 rows × 2 columns</p>\n",
       "</div>"
      ],
      "text/plain": [
       "                                            SEACell_seed1_patient_tissue  \\\n",
       "SEACell_seed1_patient_tissue                                               \n",
       "SEACell-0_Geistlinger_59_Metastasis  SEACell-0_Geistlinger_59_Metastasis   \n",
       "SEACell-0_Geistlinger_76_Metastasis  SEACell-0_Geistlinger_76_Metastasis   \n",
       "SEACell-0_Geistlinger_77_Metastasis  SEACell-0_Geistlinger_77_Metastasis   \n",
       "SEACell-0_Geistlinger_89_Metastasis  SEACell-0_Geistlinger_89_Metastasis   \n",
       "SEACell-0_Loret_1_Ascites                      SEACell-0_Loret_1_Ascites   \n",
       "...                                                                  ...   \n",
       "nan_Zhang_349_Metastasis                        nan_Zhang_349_Metastasis   \n",
       "nan_Zhang_372_Metastasis                        nan_Zhang_372_Metastasis   \n",
       "nan_Zhang_3_Metastasis                            nan_Zhang_3_Metastasis   \n",
       "nan_Zhang_540_Metastasis                        nan_Zhang_540_Metastasis   \n",
       "nan_Zhang_87_Metastasis                          nan_Zhang_87_Metastasis   \n",
       "\n",
       "                                     SEACell_seed1_patient_tissue_purity  \n",
       "SEACell_seed1_patient_tissue                                              \n",
       "SEACell-0_Geistlinger_59_Metastasis                                  1.0  \n",
       "SEACell-0_Geistlinger_76_Metastasis                                  1.0  \n",
       "SEACell-0_Geistlinger_77_Metastasis                                  1.0  \n",
       "SEACell-0_Geistlinger_89_Metastasis                                  1.0  \n",
       "SEACell-0_Loret_1_Ascites                                            1.0  \n",
       "...                                                                  ...  \n",
       "nan_Zhang_349_Metastasis                                             1.0  \n",
       "nan_Zhang_372_Metastasis                                             1.0  \n",
       "nan_Zhang_3_Metastasis                                               1.0  \n",
       "nan_Zhang_540_Metastasis                                             1.0  \n",
       "nan_Zhang_87_Metastasis                                              1.0  \n",
       "\n",
       "[9067 rows x 2 columns]"
      ]
     },
     "execution_count": 17,
     "metadata": {},
     "output_type": "execute_result"
    }
   ],
   "source": [
    "purity_seed1"
   ]
  },
  {
   "cell_type": "code",
   "execution_count": null,
   "metadata": {},
   "outputs": [
    {
     "data": {
      "text/plain": [
       "array([[<Axes: title={'center': 'SEACell_seed1_patient_tissue_purity'}>]],\n",
       "      dtype=object)"
      ]
     },
     "execution_count": 18,
     "metadata": {},
     "output_type": "execute_result"
    },
    {
     "data": {
      "image/png": "[encoded data removed]",
      "text/plain": [
       "<Figure size 640x480 with 1 Axes>"
      ]
     },
     "metadata": {},
     "output_type": "display_data"
    }
   ],
   "source": [
    "purity_seed1.hist()"
   ]
  }
 ],
 "metadata": {
  "language_info": {
   "codemirror_mode": {
    "name": "ipython",
    "version": 3
   },
   "file_extension": ".py",
   "mimetype": "text/x-python",
   "name": "python",
   "nbconvert_exporter": "python",
   "pygments_lexer": "ipython3",
   "version": 3
  }
 },
 "nbformat": 4,
 "nbformat_minor": 2
}
