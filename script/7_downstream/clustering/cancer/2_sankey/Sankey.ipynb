{
 "cells": [
  {
   "cell_type": "code",
   "execution_count": 4,
   "id": "da6e334d",
   "metadata": {},
   "outputs": [
    {
     "name": "stderr",
     "output_type": "stream",
     "text": [
      "\n",
      "Bad key \"text.kerning_factor\" on line 4 in\n",
      "/home/marta.sallese/miniconda3/envs/scvi_plots/lib/python3.9/site-packages/matplotlib/mpl-data/stylelib/_classic_test_patch.mplstyle.\n",
      "You probably need to get an updated matplotlibrc file from\n",
      "http://github.com/matplotlib/matplotlib/blob/master/matplotlibrc.template\n",
      "or from the matplotlib source distribution\n"
     ]
    }
   ],
   "source": [
    "import scanpy as sc\n",
    "import pandas as pd\n",
    "import numpy as np\n",
    "import kaleido"
   ]
  },
  {
   "cell_type": "code",
   "execution_count": 1,
   "id": "dfd432da",
   "metadata": {},
   "outputs": [],
   "source": [
    "import matplotlib"
   ]
  },
  {
   "cell_type": "code",
   "execution_count": 2,
   "id": "4423c0f1",
   "metadata": {},
   "outputs": [],
   "source": [
    "import plotly.express as px"
   ]
  },
  {
   "cell_type": "code",
   "execution_count": 5,
   "id": "b85d797b",
   "metadata": {},
   "outputs": [
    {
     "name": "stdout",
     "output_type": "stream",
     "text": [
      "-----\n",
      "anndata     0.8.0\n",
      "scanpy      1.9.2\n",
      "-----\n",
      "PIL                         9.4.0\n",
      "anyio                       NA\n",
      "asttokens                   NA\n",
      "attr                        22.2.0\n",
      "babel                       2.11.0\n",
      "backcall                    0.2.0\n",
      "beta_ufunc                  NA\n",
      "binom_ufunc                 NA\n",
      "brotli                      NA\n",
      "certifi                     2023.07.22\n",
      "cffi                        1.15.0\n",
      "charset_normalizer          2.1.1\n",
      "colorama                    0.4.6\n",
      "comm                        0.1.2\n",
      "cycler                      0.10.0\n",
      "cython_runtime              NA\n",
      "dateutil                    2.8.2\n",
      "debugpy                     1.5.1\n",
      "decorator                   5.1.1\n",
      "defusedxml                  0.7.1\n",
      "entrypoints                 0.4\n",
      "executing                   1.2.0\n",
      "fastjsonschema              NA\n",
      "google                      NA\n",
      "h5py                        3.6.0\n",
      "hypergeom_ufunc             NA\n",
      "idna                        3.4\n",
      "igraph                      0.10.4\n",
      "ipykernel                   6.19.2\n",
      "ipython_genutils            0.2.0\n",
      "jedi                        0.18.2\n",
      "jinja2                      3.1.2\n",
      "joblib                      1.2.0\n",
      "json5                       NA\n",
      "jsonschema                  4.17.3\n",
      "jupyter_server              1.23.6\n",
      "jupyterlab_server           2.19.0\n",
      "kaleido                     0.2.1\n",
      "kiwisolver                  1.4.2\n",
      "leidenalg                   0.9.1\n",
      "llvmlite                    0.39.1\n",
      "markupsafe                  2.1.1\n",
      "matplotlib                  2.2.5\n",
      "matplotlib_inline           0.1.6\n",
      "mpl_toolkits                NA\n",
      "natsort                     8.2.0\n",
      "nbformat                    5.7.3\n",
      "nbinom_ufunc                NA\n",
      "numba                       0.56.4\n",
      "numpy                       1.22.3\n",
      "packaging                   23.0\n",
      "pandas                      1.4.2\n",
      "parso                       0.8.3\n",
      "pexpect                     4.8.0\n",
      "pickleshare                 0.7.5\n",
      "pkg_resources               NA\n",
      "platformdirs                3.0.0\n",
      "plotly                      5.16.1\n",
      "prometheus_client           NA\n",
      "prompt_toolkit              3.0.36\n",
      "psutil                      5.9.0\n",
      "ptyprocess                  0.7.0\n",
      "pure_eval                   0.2.2\n",
      "pvectorc                    NA\n",
      "pydev_ipython               NA\n",
      "pydevconsole                NA\n",
      "pydevd                      2.6.0\n",
      "pydevd_concurrency_analyser NA\n",
      "pydevd_file_utils           NA\n",
      "pydevd_plugins              NA\n",
      "pydevd_tracing              NA\n",
      "pygments                    2.14.0\n",
      "pyparsing                   3.0.9\n",
      "pyrsistent                  NA\n",
      "pytz                        2022.7.1\n",
      "requests                    2.28.2\n",
      "rfc3339_validator           0.1.4\n",
      "rfc3986_validator           0.1.1\n",
      "scipy                       1.8.1\n",
      "send2trash                  NA\n",
      "session_info                1.0.0\n",
      "setuptools                  65.6.3\n",
      "six                         1.16.0\n",
      "sklearn                     1.1.1\n",
      "sniffio                     1.3.0\n",
      "socks                       1.7.1\n",
      "stack_data                  0.6.2\n",
      "terminado                   0.17.1\n",
      "texttable                   1.6.7\n",
      "threadpoolctl               3.1.0\n",
      "tornado                     6.1\n",
      "traitlets                   5.9.0\n",
      "typing_extensions           NA\n",
      "urllib3                     1.26.14\n",
      "wcwidth                     0.2.6\n",
      "websocket                   1.5.1\n",
      "yaml                        6.0\n",
      "zipp                        NA\n",
      "zmq                         19.0.2\n",
      "-----\n",
      "IPython             8.10.0\n",
      "jupyter_client      7.0.6\n",
      "jupyter_core        5.2.0\n",
      "jupyterlab          3.6.5\n",
      "notebook            6.5.2\n",
      "-----\n",
      "Python 3.9.16 (main, Jan 11 2023, 16:05:54) [GCC 11.2.0]\n",
      "Linux-4.18.0-305.3.1.el8.x86_64-x86_64-with-glibc2.31\n",
      "-----\n",
      "Session information updated at 2023-09-30 17:44\n"
     ]
    }
   ],
   "source": [
    "sc.logging.print_versions()"
   ]
  },
  {
   "cell_type": "code",
   "execution_count": 6,
   "id": "f1599039",
   "metadata": {},
   "outputs": [],
   "source": [
    "adata = sc.read('/group/testa/Project/OvarianAtlas/Integrated_data_hdg_new/seacells_cancer_hdg_patients_batch_corr_scgen_tissuetreat.h5ad')"
   ]
  },
  {
   "cell_type": "code",
   "execution_count": 7,
   "id": "b2396b10",
   "metadata": {},
   "outputs": [
    {
     "data": {
      "text/plain": [
       "AnnData object with n_obs × n_vars = 8735 × 17054\n",
       "    obs: 'tissue', 'developmental_stage', 'treatment', 'recurrence', 'tumor_stage', 'paper_ID', 'anatomical_location', 'dataset', 'SEACell', '# Single Cells', 'tissue-treatment', '_scvi_batch', '_scvi_labels', 'concat_batch'\n",
       "    uns: '_scvi_manager_uuid', '_scvi_uuid'\n",
       "    obsm: 'corrected_latent', 'latent'"
      ]
     },
     "execution_count": 7,
     "metadata": {},
     "output_type": "execute_result"
    }
   ],
   "source": [
    "adata"
   ]
  },
  {
   "cell_type": "code",
   "execution_count": 8,
   "id": "87eb766d",
   "metadata": {},
   "outputs": [],
   "source": [
    "adata.obs = adata.obs.drop(columns=['_scvi_batch', '_scvi_labels', 'concat_batch'])"
   ]
  },
  {
   "cell_type": "code",
   "execution_count": 9,
   "id": "2600b944",
   "metadata": {},
   "outputs": [],
   "source": [
    "hvg = pd.read_csv('/home/marta.sallese/ov_cancer_atlas/Atlas_scripts/HVG/atlas_cancer_hdg_dispersion_patients.csv',  index_col=0)"
   ]
  },
  {
   "cell_type": "code",
   "execution_count": 10,
   "id": "903a4c94",
   "metadata": {},
   "outputs": [
    {
     "data": {
      "text/html": [
       "<div>\n",
       "<style scoped>\n",
       "    .dataframe tbody tr th:only-of-type {\n",
       "        vertical-align: middle;\n",
       "    }\n",
       "\n",
       "    .dataframe tbody tr th {\n",
       "        vertical-align: top;\n",
       "    }\n",
       "\n",
       "    .dataframe thead th {\n",
       "        text-align: right;\n",
       "    }\n",
       "</style>\n",
       "<table border=\"1\" class=\"dataframe\">\n",
       "  <thead>\n",
       "    <tr style=\"text-align: right;\">\n",
       "      <th></th>\n",
       "      <th>highly_variable</th>\n",
       "    </tr>\n",
       "  </thead>\n",
       "  <tbody>\n",
       "    <tr>\n",
       "      <th>FAM87B</th>\n",
       "      <td>True</td>\n",
       "    </tr>\n",
       "    <tr>\n",
       "      <th>SAMD11</th>\n",
       "      <td>True</td>\n",
       "    </tr>\n",
       "    <tr>\n",
       "      <th>PLEKHN1</th>\n",
       "      <td>True</td>\n",
       "    </tr>\n",
       "    <tr>\n",
       "      <th>HES4</th>\n",
       "      <td>True</td>\n",
       "    </tr>\n",
       "    <tr>\n",
       "      <th>ISG15</th>\n",
       "      <td>True</td>\n",
       "    </tr>\n",
       "    <tr>\n",
       "      <th>...</th>\n",
       "      <td>...</td>\n",
       "    </tr>\n",
       "    <tr>\n",
       "      <th>MT-ND3</th>\n",
       "      <td>True</td>\n",
       "    </tr>\n",
       "    <tr>\n",
       "      <th>MT-ND4L</th>\n",
       "      <td>True</td>\n",
       "    </tr>\n",
       "    <tr>\n",
       "      <th>MT-ND5</th>\n",
       "      <td>True</td>\n",
       "    </tr>\n",
       "    <tr>\n",
       "      <th>MT-ND6</th>\n",
       "      <td>True</td>\n",
       "    </tr>\n",
       "    <tr>\n",
       "      <th>MT-CYB</th>\n",
       "      <td>True</td>\n",
       "    </tr>\n",
       "  </tbody>\n",
       "</table>\n",
       "<p>5028 rows × 1 columns</p>\n",
       "</div>"
      ],
      "text/plain": [
       "         highly_variable\n",
       "FAM87B              True\n",
       "SAMD11              True\n",
       "PLEKHN1             True\n",
       "HES4                True\n",
       "ISG15               True\n",
       "...                  ...\n",
       "MT-ND3              True\n",
       "MT-ND4L             True\n",
       "MT-ND5              True\n",
       "MT-ND6              True\n",
       "MT-CYB              True\n",
       "\n",
       "[5028 rows x 1 columns]"
      ]
     },
     "execution_count": 10,
     "metadata": {},
     "output_type": "execute_result"
    }
   ],
   "source": [
    "hvg[hvg.highly_variable]"
   ]
  },
  {
   "cell_type": "code",
   "execution_count": 11,
   "id": "28abca64",
   "metadata": {},
   "outputs": [
    {
     "data": {
      "text/plain": [
       "5028"
      ]
     },
     "execution_count": 11,
     "metadata": {},
     "output_type": "execute_result"
    }
   ],
   "source": [
    "hvg.highly_variable.sum()"
   ]
  },
  {
   "cell_type": "code",
   "execution_count": 12,
   "id": "42a6b47c",
   "metadata": {},
   "outputs": [
    {
     "data": {
      "text/html": [
       "<div>\n",
       "<style scoped>\n",
       "    .dataframe tbody tr th:only-of-type {\n",
       "        vertical-align: middle;\n",
       "    }\n",
       "\n",
       "    .dataframe tbody tr th {\n",
       "        vertical-align: top;\n",
       "    }\n",
       "\n",
       "    .dataframe thead th {\n",
       "        text-align: right;\n",
       "    }\n",
       "</style>\n",
       "<table border=\"1\" class=\"dataframe\">\n",
       "  <thead>\n",
       "    <tr style=\"text-align: right;\">\n",
       "      <th></th>\n",
       "    </tr>\n",
       "  </thead>\n",
       "  <tbody>\n",
       "    <tr>\n",
       "      <th>FAM87B</th>\n",
       "    </tr>\n",
       "    <tr>\n",
       "      <th>LINC00115</th>\n",
       "    </tr>\n",
       "    <tr>\n",
       "      <th>FAM41C</th>\n",
       "    </tr>\n",
       "    <tr>\n",
       "      <th>SAMD11</th>\n",
       "    </tr>\n",
       "    <tr>\n",
       "      <th>NOC2L</th>\n",
       "    </tr>\n",
       "    <tr>\n",
       "      <th>...</th>\n",
       "    </tr>\n",
       "    <tr>\n",
       "      <th>MT-ND4L</th>\n",
       "    </tr>\n",
       "    <tr>\n",
       "      <th>MT-ND4</th>\n",
       "    </tr>\n",
       "    <tr>\n",
       "      <th>MT-ND5</th>\n",
       "    </tr>\n",
       "    <tr>\n",
       "      <th>MT-ND6</th>\n",
       "    </tr>\n",
       "    <tr>\n",
       "      <th>MT-CYB</th>\n",
       "    </tr>\n",
       "  </tbody>\n",
       "</table>\n",
       "<p>17054 rows × 0 columns</p>\n",
       "</div>"
      ],
      "text/plain": [
       "Empty DataFrame\n",
       "Columns: []\n",
       "Index: [FAM87B, LINC00115, FAM41C, SAMD11, NOC2L, KLHL17, PLEKHN1, HES4, ISG15, AGRN, RNF223, C1orf159, TTLL10, TNFRSF18, TNFRSF4, SDF4, B3GALT6, UBE2J2, SCNN1D, ACAP3, PUSL1, TAS1R3, DVL1, MXRA8, AURKAIP1, CCNL2, MRPL20, ANKRD65, VWA1, ATAD3C, ATAD3B, ATAD3A, TMEM240, SSU72, MIB2, MMP23B, CDK11B, SLC35E2B, CDK11A, NADK, GNB1, CALML6, TMEM52, GABRD, PRKCZ, SKI, MORN1, RER1, PEX10, PLCH2, PANK4, HES5, TNFRSF14, MMEL1, TTC34, PRDM16, ARHGEF16, MEGF6, TPRG1L, WRAP73, TP73, CCDC27, SMIM1, LRRC47, CEP104, DFFB, C1orf174, LINC01134, AJAP1, NPHP4, KCNAB2, CHD5, RPL22, RNF207, ICMT, LINC00337, GPR153, ACOT7, HES2, ESPN, TNFRSF25, PLEKHG5, NOL9, TAS1R1, ZBTB48, KLHL21, PHF13, THAP3, DNAJC11, CAMTA1, VAMP3, PER3, UTS2, TNFRSF9, PARK7, ERRFI1, SLC45A1, RERE, ENO1, CA6, ...]\n",
       "\n",
       "[17054 rows x 0 columns]"
      ]
     },
     "execution_count": 12,
     "metadata": {},
     "output_type": "execute_result"
    }
   ],
   "source": [
    "adata.var"
   ]
  },
  {
   "cell_type": "code",
   "execution_count": 13,
   "id": "e04bda0f",
   "metadata": {},
   "outputs": [],
   "source": [
    "adata.var['highly_variable']=hvg.highly_variable"
   ]
  },
  {
   "cell_type": "code",
   "execution_count": 14,
   "id": "efbcdf1c",
   "metadata": {},
   "outputs": [
    {
     "data": {
      "text/html": [
       "<div>\n",
       "<style scoped>\n",
       "    .dataframe tbody tr th:only-of-type {\n",
       "        vertical-align: middle;\n",
       "    }\n",
       "\n",
       "    .dataframe tbody tr th {\n",
       "        vertical-align: top;\n",
       "    }\n",
       "\n",
       "    .dataframe thead th {\n",
       "        text-align: right;\n",
       "    }\n",
       "</style>\n",
       "<table border=\"1\" class=\"dataframe\">\n",
       "  <thead>\n",
       "    <tr style=\"text-align: right;\">\n",
       "      <th></th>\n",
       "      <th>highly_variable</th>\n",
       "    </tr>\n",
       "  </thead>\n",
       "  <tbody>\n",
       "    <tr>\n",
       "      <th>FAM87B</th>\n",
       "      <td>True</td>\n",
       "    </tr>\n",
       "    <tr>\n",
       "      <th>LINC00115</th>\n",
       "      <td>NaN</td>\n",
       "    </tr>\n",
       "    <tr>\n",
       "      <th>FAM41C</th>\n",
       "      <td>NaN</td>\n",
       "    </tr>\n",
       "    <tr>\n",
       "      <th>SAMD11</th>\n",
       "      <td>True</td>\n",
       "    </tr>\n",
       "    <tr>\n",
       "      <th>NOC2L</th>\n",
       "      <td>NaN</td>\n",
       "    </tr>\n",
       "    <tr>\n",
       "      <th>...</th>\n",
       "      <td>...</td>\n",
       "    </tr>\n",
       "    <tr>\n",
       "      <th>MT-ND4L</th>\n",
       "      <td>True</td>\n",
       "    </tr>\n",
       "    <tr>\n",
       "      <th>MT-ND4</th>\n",
       "      <td>NaN</td>\n",
       "    </tr>\n",
       "    <tr>\n",
       "      <th>MT-ND5</th>\n",
       "      <td>True</td>\n",
       "    </tr>\n",
       "    <tr>\n",
       "      <th>MT-ND6</th>\n",
       "      <td>True</td>\n",
       "    </tr>\n",
       "    <tr>\n",
       "      <th>MT-CYB</th>\n",
       "      <td>True</td>\n",
       "    </tr>\n",
       "  </tbody>\n",
       "</table>\n",
       "<p>17054 rows × 1 columns</p>\n",
       "</div>"
      ],
      "text/plain": [
       "          highly_variable\n",
       "FAM87B               True\n",
       "LINC00115             NaN\n",
       "FAM41C                NaN\n",
       "SAMD11               True\n",
       "NOC2L                 NaN\n",
       "...                   ...\n",
       "MT-ND4L              True\n",
       "MT-ND4                NaN\n",
       "MT-ND5               True\n",
       "MT-ND6               True\n",
       "MT-CYB               True\n",
       "\n",
       "[17054 rows x 1 columns]"
      ]
     },
     "execution_count": 14,
     "metadata": {},
     "output_type": "execute_result"
    }
   ],
   "source": [
    "adata.var"
   ]
  },
  {
   "cell_type": "code",
   "execution_count": 15,
   "id": "36926caf",
   "metadata": {},
   "outputs": [],
   "source": [
    "adata.var.highly_variable = adata.var.highly_variable.fillna(False)"
   ]
  },
  {
   "cell_type": "code",
   "execution_count": 16,
   "id": "509c0497",
   "metadata": {},
   "outputs": [
    {
     "data": {
      "text/html": [
       "<div>\n",
       "<style scoped>\n",
       "    .dataframe tbody tr th:only-of-type {\n",
       "        vertical-align: middle;\n",
       "    }\n",
       "\n",
       "    .dataframe tbody tr th {\n",
       "        vertical-align: top;\n",
       "    }\n",
       "\n",
       "    .dataframe thead th {\n",
       "        text-align: right;\n",
       "    }\n",
       "</style>\n",
       "<table border=\"1\" class=\"dataframe\">\n",
       "  <thead>\n",
       "    <tr style=\"text-align: right;\">\n",
       "      <th></th>\n",
       "      <th>highly_variable</th>\n",
       "    </tr>\n",
       "  </thead>\n",
       "  <tbody>\n",
       "    <tr>\n",
       "      <th>FAM87B</th>\n",
       "      <td>True</td>\n",
       "    </tr>\n",
       "    <tr>\n",
       "      <th>LINC00115</th>\n",
       "      <td>False</td>\n",
       "    </tr>\n",
       "    <tr>\n",
       "      <th>FAM41C</th>\n",
       "      <td>False</td>\n",
       "    </tr>\n",
       "    <tr>\n",
       "      <th>SAMD11</th>\n",
       "      <td>True</td>\n",
       "    </tr>\n",
       "    <tr>\n",
       "      <th>NOC2L</th>\n",
       "      <td>False</td>\n",
       "    </tr>\n",
       "    <tr>\n",
       "      <th>...</th>\n",
       "      <td>...</td>\n",
       "    </tr>\n",
       "    <tr>\n",
       "      <th>MT-ND4L</th>\n",
       "      <td>True</td>\n",
       "    </tr>\n",
       "    <tr>\n",
       "      <th>MT-ND4</th>\n",
       "      <td>False</td>\n",
       "    </tr>\n",
       "    <tr>\n",
       "      <th>MT-ND5</th>\n",
       "      <td>True</td>\n",
       "    </tr>\n",
       "    <tr>\n",
       "      <th>MT-ND6</th>\n",
       "      <td>True</td>\n",
       "    </tr>\n",
       "    <tr>\n",
       "      <th>MT-CYB</th>\n",
       "      <td>True</td>\n",
       "    </tr>\n",
       "  </tbody>\n",
       "</table>\n",
       "<p>17054 rows × 1 columns</p>\n",
       "</div>"
      ],
      "text/plain": [
       "           highly_variable\n",
       "FAM87B                True\n",
       "LINC00115            False\n",
       "FAM41C               False\n",
       "SAMD11                True\n",
       "NOC2L                False\n",
       "...                    ...\n",
       "MT-ND4L               True\n",
       "MT-ND4               False\n",
       "MT-ND5                True\n",
       "MT-ND6                True\n",
       "MT-CYB                True\n",
       "\n",
       "[17054 rows x 1 columns]"
      ]
     },
     "execution_count": 16,
     "metadata": {},
     "output_type": "execute_result"
    }
   ],
   "source": [
    "adata.var"
   ]
  },
  {
   "cell_type": "code",
   "execution_count": 17,
   "id": "943317e7",
   "metadata": {},
   "outputs": [],
   "source": [
    "# you can skip this passage if you specify use_highly_variable = True when computing embeddings\n",
    "# adata.raw = adata\n",
    "# adata = adata[:, adata.var.highly_variable]"
   ]
  },
  {
   "cell_type": "code",
   "execution_count": 18,
   "id": "85d23e4e",
   "metadata": {},
   "outputs": [
    {
     "data": {
      "text/plain": [
       "Index(['FAM87B', 'LINC00115', 'FAM41C', 'SAMD11', 'NOC2L', 'KLHL17', 'PLEKHN1',\n",
       "       'HES4', 'ISG15', 'AGRN',\n",
       "       ...\n",
       "       'MT-CO2', 'MT-ATP8', 'MT-ATP6', 'MT-CO3', 'MT-ND3', 'MT-ND4L', 'MT-ND4',\n",
       "       'MT-ND5', 'MT-ND6', 'MT-CYB'],\n",
       "      dtype='object', length=17054)"
      ]
     },
     "execution_count": 18,
     "metadata": {},
     "output_type": "execute_result"
    }
   ],
   "source": [
    "adata.var_names"
   ]
  },
  {
   "cell_type": "code",
   "execution_count": 19,
   "id": "195d78af",
   "metadata": {},
   "outputs": [
    {
     "name": "stdout",
     "output_type": "stream",
     "text": [
      "WARNING: genes are not in var_names and ignored: ['UHRF1', 'MLF1IP', 'CASP8AP2']\n",
      "WARNING: genes are not in var_names and ignored: ['FAM64A', 'HN1']\n"
     ]
    },
    {
     "name": "stderr",
     "output_type": "stream",
     "text": [
      "/home/marta.sallese/miniconda3/envs/scvi_plots/lib/python3.9/site-packages/scanpy/tools/_score_genes.py:151: FutureWarning: Passing a set as an indexer is deprecated and will raise in a future version. Use a list instead.\n",
      "  for cut in np.unique(obs_cut.loc[gene_list]):\n",
      "/home/marta.sallese/miniconda3/envs/scvi_plots/lib/python3.9/site-packages/scanpy/tools/_score_genes.py:151: FutureWarning: Passing a set as an indexer is deprecated and will raise in a future version. Use a list instead.\n",
      "  for cut in np.unique(obs_cut.loc[gene_list]):\n"
     ]
    }
   ],
   "source": [
    "cell_cycle_genes = [x.strip() for x in open('/home/marta.sallese/ov_cancer_atlas/regev_lab_cell_cycle_genes.txt')]\n",
    "\n",
    "s_genes = cell_cycle_genes[:43]\n",
    "g2m_genes = cell_cycle_genes[43:]\n",
    "cell_cycle_genes = [x for x in cell_cycle_genes if x in adata.var_names]\n",
    "\n",
    "sc.tl.score_genes_cell_cycle(adata, s_genes=s_genes, g2m_genes=g2m_genes)"
   ]
  },
  {
   "cell_type": "code",
   "execution_count": 20,
   "id": "a1869c55",
   "metadata": {
    "scrolled": false
   },
   "outputs": [
    {
     "data": {
      "text/html": [
       "<div>\n",
       "<style scoped>\n",
       "    .dataframe tbody tr th:only-of-type {\n",
       "        vertical-align: middle;\n",
       "    }\n",
       "\n",
       "    .dataframe tbody tr th {\n",
       "        vertical-align: top;\n",
       "    }\n",
       "\n",
       "    .dataframe thead th {\n",
       "        text-align: right;\n",
       "    }\n",
       "</style>\n",
       "<table border=\"1\" class=\"dataframe\">\n",
       "  <thead>\n",
       "    <tr style=\"text-align: right;\">\n",
       "      <th></th>\n",
       "      <th>tissue</th>\n",
       "      <th>developmental_stage</th>\n",
       "      <th>treatment</th>\n",
       "      <th>recurrence</th>\n",
       "      <th>tumor_stage</th>\n",
       "      <th>paper_ID</th>\n",
       "      <th>anatomical_location</th>\n",
       "      <th>dataset</th>\n",
       "      <th>SEACell</th>\n",
       "      <th># Single Cells</th>\n",
       "      <th>tissue-treatment</th>\n",
       "      <th>S_score</th>\n",
       "      <th>G2M_score</th>\n",
       "      <th>phase</th>\n",
       "    </tr>\n",
       "    <tr>\n",
       "      <th>SEACell_patient_tissue</th>\n",
       "      <th></th>\n",
       "      <th></th>\n",
       "      <th></th>\n",
       "      <th></th>\n",
       "      <th></th>\n",
       "      <th></th>\n",
       "      <th></th>\n",
       "      <th></th>\n",
       "      <th></th>\n",
       "      <th></th>\n",
       "      <th></th>\n",
       "      <th></th>\n",
       "      <th></th>\n",
       "      <th></th>\n",
       "    </tr>\n",
       "  </thead>\n",
       "  <tbody>\n",
       "    <tr>\n",
       "      <th>SEACell-5_Geistlinger_59_Metastasis</th>\n",
       "      <td>Metastasis</td>\n",
       "      <td>Advanced stage</td>\n",
       "      <td>CHT</td>\n",
       "      <td>Recurrence</td>\n",
       "      <td>IV</td>\n",
       "      <td>Geistlinger_59</td>\n",
       "      <td>Omentum</td>\n",
       "      <td>Geistlinger</td>\n",
       "      <td>SEACell-5</td>\n",
       "      <td>99</td>\n",
       "      <td>Metastasis_CHT</td>\n",
       "      <td>0.410004</td>\n",
       "      <td>0.408496</td>\n",
       "      <td>S</td>\n",
       "    </tr>\n",
       "    <tr>\n",
       "      <th>SEACell-7_Geistlinger_59_Metastasis</th>\n",
       "      <td>Metastasis</td>\n",
       "      <td>Advanced stage</td>\n",
       "      <td>CHT</td>\n",
       "      <td>Recurrence</td>\n",
       "      <td>IV</td>\n",
       "      <td>Geistlinger_59</td>\n",
       "      <td>Omentum</td>\n",
       "      <td>Geistlinger</td>\n",
       "      <td>SEACell-7</td>\n",
       "      <td>106</td>\n",
       "      <td>Metastasis_CHT</td>\n",
       "      <td>0.988536</td>\n",
       "      <td>1.013172</td>\n",
       "      <td>G2M</td>\n",
       "    </tr>\n",
       "    <tr>\n",
       "      <th>SEACell-2_Geistlinger_59_Metastasis</th>\n",
       "      <td>Metastasis</td>\n",
       "      <td>Advanced stage</td>\n",
       "      <td>CHT</td>\n",
       "      <td>Recurrence</td>\n",
       "      <td>IV</td>\n",
       "      <td>Geistlinger_59</td>\n",
       "      <td>Omentum</td>\n",
       "      <td>Geistlinger</td>\n",
       "      <td>SEACell-2</td>\n",
       "      <td>109</td>\n",
       "      <td>Metastasis_CHT</td>\n",
       "      <td>0.584550</td>\n",
       "      <td>0.331832</td>\n",
       "      <td>S</td>\n",
       "    </tr>\n",
       "    <tr>\n",
       "      <th>SEACell-8_Geistlinger_59_Metastasis</th>\n",
       "      <td>Metastasis</td>\n",
       "      <td>Advanced stage</td>\n",
       "      <td>CHT</td>\n",
       "      <td>Recurrence</td>\n",
       "      <td>IV</td>\n",
       "      <td>Geistlinger_59</td>\n",
       "      <td>Omentum</td>\n",
       "      <td>Geistlinger</td>\n",
       "      <td>SEACell-8</td>\n",
       "      <td>73</td>\n",
       "      <td>Metastasis_CHT</td>\n",
       "      <td>0.523011</td>\n",
       "      <td>0.375947</td>\n",
       "      <td>S</td>\n",
       "    </tr>\n",
       "    <tr>\n",
       "      <th>SEACell-6_Geistlinger_59_Metastasis</th>\n",
       "      <td>Metastasis</td>\n",
       "      <td>Advanced stage</td>\n",
       "      <td>CHT</td>\n",
       "      <td>Recurrence</td>\n",
       "      <td>IV</td>\n",
       "      <td>Geistlinger_59</td>\n",
       "      <td>Omentum</td>\n",
       "      <td>Geistlinger</td>\n",
       "      <td>SEACell-6</td>\n",
       "      <td>50</td>\n",
       "      <td>Metastasis_CHT</td>\n",
       "      <td>0.614094</td>\n",
       "      <td>0.672671</td>\n",
       "      <td>G2M</td>\n",
       "    </tr>\n",
       "    <tr>\n",
       "      <th>...</th>\n",
       "      <td>...</td>\n",
       "      <td>...</td>\n",
       "      <td>...</td>\n",
       "      <td>...</td>\n",
       "      <td>...</td>\n",
       "      <td>...</td>\n",
       "      <td>...</td>\n",
       "      <td>...</td>\n",
       "      <td>...</td>\n",
       "      <td>...</td>\n",
       "      <td>...</td>\n",
       "      <td>...</td>\n",
       "      <td>...</td>\n",
       "      <td>...</td>\n",
       "    </tr>\n",
       "    <tr>\n",
       "      <th>SEACell-88_Vasquez_118_Metastasis</th>\n",
       "      <td>Metastasis</td>\n",
       "      <td>Advanced stage</td>\n",
       "      <td>Naive</td>\n",
       "      <td>Unknown</td>\n",
       "      <td>IVB</td>\n",
       "      <td>Vasquez_118</td>\n",
       "      <td>Peritoneum</td>\n",
       "      <td>Vasquez</td>\n",
       "      <td>SEACell-88</td>\n",
       "      <td>9</td>\n",
       "      <td>Metastasis_Naive</td>\n",
       "      <td>-0.127419</td>\n",
       "      <td>-0.772315</td>\n",
       "      <td>G1</td>\n",
       "    </tr>\n",
       "    <tr>\n",
       "      <th>SEACell-67_Vasquez_118_Metastasis</th>\n",
       "      <td>Metastasis</td>\n",
       "      <td>Advanced stage</td>\n",
       "      <td>Naive</td>\n",
       "      <td>Unknown</td>\n",
       "      <td>IVB</td>\n",
       "      <td>Vasquez_118</td>\n",
       "      <td>Peritoneum</td>\n",
       "      <td>Vasquez</td>\n",
       "      <td>SEACell-67</td>\n",
       "      <td>7</td>\n",
       "      <td>Metastasis_Naive</td>\n",
       "      <td>-0.015085</td>\n",
       "      <td>-0.760213</td>\n",
       "      <td>G1</td>\n",
       "    </tr>\n",
       "    <tr>\n",
       "      <th>SEACell-32_Vasquez_118_Metastasis</th>\n",
       "      <td>Metastasis</td>\n",
       "      <td>Advanced stage</td>\n",
       "      <td>Naive</td>\n",
       "      <td>Unknown</td>\n",
       "      <td>IVB</td>\n",
       "      <td>Vasquez_118</td>\n",
       "      <td>Peritoneum</td>\n",
       "      <td>Vasquez</td>\n",
       "      <td>SEACell-32</td>\n",
       "      <td>4</td>\n",
       "      <td>Metastasis_Naive</td>\n",
       "      <td>0.065926</td>\n",
       "      <td>-0.537457</td>\n",
       "      <td>S</td>\n",
       "    </tr>\n",
       "    <tr>\n",
       "      <th>SEACell-49_Vasquez_118_Metastasis</th>\n",
       "      <td>Metastasis</td>\n",
       "      <td>Advanced stage</td>\n",
       "      <td>Naive</td>\n",
       "      <td>Unknown</td>\n",
       "      <td>IVB</td>\n",
       "      <td>Vasquez_118</td>\n",
       "      <td>Peritoneum</td>\n",
       "      <td>Vasquez</td>\n",
       "      <td>SEACell-49</td>\n",
       "      <td>5</td>\n",
       "      <td>Metastasis_Naive</td>\n",
       "      <td>-0.229594</td>\n",
       "      <td>-0.456819</td>\n",
       "      <td>G1</td>\n",
       "    </tr>\n",
       "    <tr>\n",
       "      <th>SEACell-111_Vasquez_118_Metastasis</th>\n",
       "      <td>Metastasis</td>\n",
       "      <td>Advanced stage</td>\n",
       "      <td>Naive</td>\n",
       "      <td>Unknown</td>\n",
       "      <td>IVB</td>\n",
       "      <td>Vasquez_118</td>\n",
       "      <td>Peritoneum</td>\n",
       "      <td>Vasquez</td>\n",
       "      <td>SEACell-111</td>\n",
       "      <td>3</td>\n",
       "      <td>Metastasis_Naive</td>\n",
       "      <td>0.112488</td>\n",
       "      <td>0.101100</td>\n",
       "      <td>S</td>\n",
       "    </tr>\n",
       "  </tbody>\n",
       "</table>\n",
       "<p>8735 rows × 14 columns</p>\n",
       "</div>"
      ],
      "text/plain": [
       "                                         tissue developmental_stage treatment  \\\n",
       "SEACell_patient_tissue                                                          \n",
       "SEACell-5_Geistlinger_59_Metastasis  Metastasis      Advanced stage       CHT   \n",
       "SEACell-7_Geistlinger_59_Metastasis  Metastasis      Advanced stage       CHT   \n",
       "SEACell-2_Geistlinger_59_Metastasis  Metastasis      Advanced stage       CHT   \n",
       "SEACell-8_Geistlinger_59_Metastasis  Metastasis      Advanced stage       CHT   \n",
       "SEACell-6_Geistlinger_59_Metastasis  Metastasis      Advanced stage       CHT   \n",
       "...                                         ...                 ...       ...   \n",
       "SEACell-88_Vasquez_118_Metastasis    Metastasis      Advanced stage     Naive   \n",
       "SEACell-67_Vasquez_118_Metastasis    Metastasis      Advanced stage     Naive   \n",
       "SEACell-32_Vasquez_118_Metastasis    Metastasis      Advanced stage     Naive   \n",
       "SEACell-49_Vasquez_118_Metastasis    Metastasis      Advanced stage     Naive   \n",
       "SEACell-111_Vasquez_118_Metastasis   Metastasis      Advanced stage     Naive   \n",
       "\n",
       "                                     recurrence tumor_stage        paper_ID  \\\n",
       "SEACell_patient_tissue                                                        \n",
       "SEACell-5_Geistlinger_59_Metastasis  Recurrence          IV  Geistlinger_59   \n",
       "SEACell-7_Geistlinger_59_Metastasis  Recurrence          IV  Geistlinger_59   \n",
       "SEACell-2_Geistlinger_59_Metastasis  Recurrence          IV  Geistlinger_59   \n",
       "SEACell-8_Geistlinger_59_Metastasis  Recurrence          IV  Geistlinger_59   \n",
       "SEACell-6_Geistlinger_59_Metastasis  Recurrence          IV  Geistlinger_59   \n",
       "...                                         ...         ...             ...   \n",
       "SEACell-88_Vasquez_118_Metastasis       Unknown         IVB     Vasquez_118   \n",
       "SEACell-67_Vasquez_118_Metastasis       Unknown         IVB     Vasquez_118   \n",
       "SEACell-32_Vasquez_118_Metastasis       Unknown         IVB     Vasquez_118   \n",
       "SEACell-49_Vasquez_118_Metastasis       Unknown         IVB     Vasquez_118   \n",
       "SEACell-111_Vasquez_118_Metastasis      Unknown         IVB     Vasquez_118   \n",
       "\n",
       "                                    anatomical_location      dataset  \\\n",
       "SEACell_patient_tissue                                                 \n",
       "SEACell-5_Geistlinger_59_Metastasis             Omentum  Geistlinger   \n",
       "SEACell-7_Geistlinger_59_Metastasis             Omentum  Geistlinger   \n",
       "SEACell-2_Geistlinger_59_Metastasis             Omentum  Geistlinger   \n",
       "SEACell-8_Geistlinger_59_Metastasis             Omentum  Geistlinger   \n",
       "SEACell-6_Geistlinger_59_Metastasis             Omentum  Geistlinger   \n",
       "...                                                 ...          ...   \n",
       "SEACell-88_Vasquez_118_Metastasis            Peritoneum      Vasquez   \n",
       "SEACell-67_Vasquez_118_Metastasis            Peritoneum      Vasquez   \n",
       "SEACell-32_Vasquez_118_Metastasis            Peritoneum      Vasquez   \n",
       "SEACell-49_Vasquez_118_Metastasis            Peritoneum      Vasquez   \n",
       "SEACell-111_Vasquez_118_Metastasis           Peritoneum      Vasquez   \n",
       "\n",
       "                                         SEACell  # Single Cells  \\\n",
       "SEACell_patient_tissue                                             \n",
       "SEACell-5_Geistlinger_59_Metastasis    SEACell-5              99   \n",
       "SEACell-7_Geistlinger_59_Metastasis    SEACell-7             106   \n",
       "SEACell-2_Geistlinger_59_Metastasis    SEACell-2             109   \n",
       "SEACell-8_Geistlinger_59_Metastasis    SEACell-8              73   \n",
       "SEACell-6_Geistlinger_59_Metastasis    SEACell-6              50   \n",
       "...                                          ...             ...   \n",
       "SEACell-88_Vasquez_118_Metastasis     SEACell-88               9   \n",
       "SEACell-67_Vasquez_118_Metastasis     SEACell-67               7   \n",
       "SEACell-32_Vasquez_118_Metastasis     SEACell-32               4   \n",
       "SEACell-49_Vasquez_118_Metastasis     SEACell-49               5   \n",
       "SEACell-111_Vasquez_118_Metastasis   SEACell-111               3   \n",
       "\n",
       "                                     tissue-treatment   S_score  G2M_score  \\\n",
       "SEACell_patient_tissue                                                       \n",
       "SEACell-5_Geistlinger_59_Metastasis    Metastasis_CHT  0.410004   0.408496   \n",
       "SEACell-7_Geistlinger_59_Metastasis    Metastasis_CHT  0.988536   1.013172   \n",
       "SEACell-2_Geistlinger_59_Metastasis    Metastasis_CHT  0.584550   0.331832   \n",
       "SEACell-8_Geistlinger_59_Metastasis    Metastasis_CHT  0.523011   0.375947   \n",
       "SEACell-6_Geistlinger_59_Metastasis    Metastasis_CHT  0.614094   0.672671   \n",
       "...                                               ...       ...        ...   \n",
       "SEACell-88_Vasquez_118_Metastasis    Metastasis_Naive -0.127419  -0.772315   \n",
       "SEACell-67_Vasquez_118_Metastasis    Metastasis_Naive -0.015085  -0.760213   \n",
       "SEACell-32_Vasquez_118_Metastasis    Metastasis_Naive  0.065926  -0.537457   \n",
       "SEACell-49_Vasquez_118_Metastasis    Metastasis_Naive -0.229594  -0.456819   \n",
       "SEACell-111_Vasquez_118_Metastasis   Metastasis_Naive  0.112488   0.101100   \n",
       "\n",
       "                                    phase  \n",
       "SEACell_patient_tissue                     \n",
       "SEACell-5_Geistlinger_59_Metastasis     S  \n",
       "SEACell-7_Geistlinger_59_Metastasis   G2M  \n",
       "SEACell-2_Geistlinger_59_Metastasis     S  \n",
       "SEACell-8_Geistlinger_59_Metastasis     S  \n",
       "SEACell-6_Geistlinger_59_Metastasis   G2M  \n",
       "...                                   ...  \n",
       "SEACell-88_Vasquez_118_Metastasis      G1  \n",
       "SEACell-67_Vasquez_118_Metastasis      G1  \n",
       "SEACell-32_Vasquez_118_Metastasis       S  \n",
       "SEACell-49_Vasquez_118_Metastasis      G1  \n",
       "SEACell-111_Vasquez_118_Metastasis      S  \n",
       "\n",
       "[8735 rows x 14 columns]"
      ]
     },
     "execution_count": 20,
     "metadata": {},
     "output_type": "execute_result"
    }
   ],
   "source": [
    "adata.obs"
   ]
  },
  {
   "cell_type": "markdown",
   "id": "2e33d365",
   "metadata": {},
   "source": [
    "## I will now split the dataset by tissue type (Primary, Ascites, Metastasis) and compute the embeddings separately. Then on each of them I will perform leiden clustering and Sankey plots"
   ]
  },
  {
   "cell_type": "markdown",
   "id": "465e342b",
   "metadata": {},
   "source": [
    "### Primary "
   ]
  },
  {
   "cell_type": "code",
   "execution_count": 21,
   "id": "c13f4c1d",
   "metadata": {},
   "outputs": [],
   "source": [
    "adata_pr = adata[(adata.obs['tissue'] == 'Primary')]"
   ]
  },
  {
   "cell_type": "code",
   "execution_count": 26,
   "id": "5402f546",
   "metadata": {},
   "outputs": [
    {
     "data": {
      "text/plain": [
       "AnnData object with n_obs × n_vars = 3750 × 17054\n",
       "    obs: 'tissue', 'developmental_stage', 'treatment', 'recurrence', 'tumor_stage', 'paper_ID', 'anatomical_location', 'dataset', 'SEACell', '# Single Cells', 'tissue-treatment', 'S_score', 'G2M_score', 'phase'\n",
       "    var: 'highly_variable'\n",
       "    uns: '_scvi_manager_uuid', '_scvi_uuid', 'pca', 'neighbors', 'umap'\n",
       "    obsm: 'corrected_latent', 'latent', 'X_pca', 'X_umap'\n",
       "    varm: 'PCs'\n",
       "    obsp: 'distances', 'connectivities'"
      ]
     },
     "execution_count": 26,
     "metadata": {},
     "output_type": "execute_result"
    }
   ],
   "source": [
    "adata_pr"
   ]
  },
  {
   "cell_type": "code",
   "execution_count": 27,
   "id": "7560018c",
   "metadata": {},
   "outputs": [],
   "source": [
    "sc.tl.pca(adata_pr, use_highly_variable = True)"
   ]
  },
  {
   "cell_type": "code",
   "execution_count": 28,
   "id": "32b322c9",
   "metadata": {},
   "outputs": [],
   "source": [
    "sc.pp.neighbors(adata_pr, n_neighbors=10, n_pcs=50)\n",
    "sc.tl.umap(adata_pr)"
   ]
  },
  {
   "cell_type": "code",
   "execution_count": 29,
   "id": "1a78e7a2",
   "metadata": {},
   "outputs": [],
   "source": [
    "leidenTotal=[]\n",
    "for i in np.arange(0.1, 0.4, 0.03):\n",
    "    sc.tl.leiden(adata_pr,resolution = i,key_added=\"leiden-{}\".format(round(i,2)))\n",
    "    leidenTotal.append(\"leiden-{}\".format(round(i,2)))"
   ]
  },
  {
   "cell_type": "code",
   "execution_count": 30,
   "id": "7794940f",
   "metadata": {},
   "outputs": [
    {
     "data": {
      "text/plain": [
       "['leiden-0.1',\n",
       " 'leiden-0.13',\n",
       " 'leiden-0.16',\n",
       " 'leiden-0.19',\n",
       " 'leiden-0.22',\n",
       " 'leiden-0.25',\n",
       " 'leiden-0.28',\n",
       " 'leiden-0.31',\n",
       " 'leiden-0.34',\n",
       " 'leiden-0.37',\n",
       " 'leiden-0.4']"
      ]
     },
     "execution_count": 30,
     "metadata": {},
     "output_type": "execute_result"
    }
   ],
   "source": [
    "leidenTotal"
   ]
  },
  {
   "cell_type": "code",
   "execution_count": 35,
   "id": "de8df8cc",
   "metadata": {},
   "outputs": [],
   "source": [
    "LeidenDF = adata_pr.obs[[i for i in adata_pr.obs.columns if \"leiden-\" in i]]"
   ]
  },
  {
   "cell_type": "code",
   "execution_count": 36,
   "id": "ef3bdca2",
   "metadata": {},
   "outputs": [
    {
     "name": "stderr",
     "output_type": "stream",
     "text": [
      "/tmp/ipykernel_2106781/880194041.py:1: SettingWithCopyWarning: \n",
      "A value is trying to be set on a copy of a slice from a DataFrame.\n",
      "Try using .loc[row_indexer,col_indexer] = value instead\n",
      "\n",
      "See the caveats in the documentation: https://pandas.pydata.org/pandas-docs/stable/user_guide/indexing.html#returning-a-view-versus-a-copy\n",
      "  LeidenDF[\"color\"] = LeidenDF[\"leiden-0.25\"].astype(int)\n"
     ]
    }
   ],
   "source": [
    "LeidenDF[\"color\"] = LeidenDF[\"leiden-0.25\"].astype(int)"
   ]
  },
  {
   "cell_type": "code",
   "execution_count": 37,
   "id": "b0825d8a",
   "metadata": {},
   "outputs": [
    {
     "name": "stderr",
     "output_type": "stream",
     "text": [
      "/tmp/ipykernel_2106781/928002017.py:1: SettingWithCopyWarning: \n",
      "A value is trying to be set on a copy of a slice from a DataFrame.\n",
      "Try using .loc[row_indexer,col_indexer] = value instead\n",
      "\n",
      "See the caveats in the documentation: https://pandas.pydata.org/pandas-docs/stable/user_guide/indexing.html#returning-a-view-versus-a-copy\n",
      "  LeidenDF[\"treatment\"] = adata_pr.obs[\"treatment\"]\n",
      "/tmp/ipykernel_2106781/928002017.py:2: SettingWithCopyWarning: \n",
      "A value is trying to be set on a copy of a slice from a DataFrame.\n",
      "Try using .loc[row_indexer,col_indexer] = value instead\n",
      "\n",
      "See the caveats in the documentation: https://pandas.pydata.org/pandas-docs/stable/user_guide/indexing.html#returning-a-view-versus-a-copy\n",
      "  LeidenDF[\"treatment\"] = LeidenDF[\"treatment\"].replace({\"Naive\":0, \"NACT\":1, \"CHT\":2})\n"
     ]
    }
   ],
   "source": [
    "LeidenDF[\"treatment\"] = adata_pr.obs[\"treatment\"]\n",
    "LeidenDF[\"treatment\"] = LeidenDF[\"treatment\"].replace({\"Naive\":0, \"NACT\":1, \"CHT\":2})"
   ]
  },
  {
   "cell_type": "code",
   "execution_count": 38,
   "id": "bc31b027",
   "metadata": {},
   "outputs": [
    {
     "data": {
      "text/plain": [
       "['IIIC', 'IIIB', 'IC', 'IIB', 'IVA', 'IVB']\n",
       "Categories (6, object): ['IC', 'IIB', 'IIIB', 'IIIC', 'IVA', 'IVB']"
      ]
     },
     "execution_count": 38,
     "metadata": {},
     "output_type": "execute_result"
    }
   ],
   "source": [
    "adata_pr.obs.tumor_stage.unique()"
   ]
  },
  {
   "cell_type": "code",
   "execution_count": 39,
   "id": "a3a7d89c",
   "metadata": {},
   "outputs": [
    {
     "name": "stderr",
     "output_type": "stream",
     "text": [
      "/tmp/ipykernel_2106781/2914976512.py:1: SettingWithCopyWarning: \n",
      "A value is trying to be set on a copy of a slice from a DataFrame.\n",
      "Try using .loc[row_indexer,col_indexer] = value instead\n",
      "\n",
      "See the caveats in the documentation: https://pandas.pydata.org/pandas-docs/stable/user_guide/indexing.html#returning-a-view-versus-a-copy\n",
      "  LeidenDF[\"tumor_stage\"] = adata_pr.obs[\"tumor_stage\"]\n",
      "/tmp/ipykernel_2106781/2914976512.py:2: SettingWithCopyWarning: \n",
      "A value is trying to be set on a copy of a slice from a DataFrame.\n",
      "Try using .loc[row_indexer,col_indexer] = value instead\n",
      "\n",
      "See the caveats in the documentation: https://pandas.pydata.org/pandas-docs/stable/user_guide/indexing.html#returning-a-view-versus-a-copy\n",
      "  LeidenDF[\"tumor_stage\"] = LeidenDF[\"tumor_stage\"].replace({\"IIIC\":0, \"IIIB\":1, \"IC\":2, \"IIB\":3, \"IVA\":4,\"IVB\":5})\n"
     ]
    }
   ],
   "source": [
    "LeidenDF[\"tumor_stage\"] = adata_pr.obs[\"tumor_stage\"]\n",
    "LeidenDF[\"tumor_stage\"] = LeidenDF[\"tumor_stage\"].replace({\"IIIC\":0, \"IIIB\":1, \"IC\":2, \"IIB\":3, \"IVA\":4,\"IVB\":5})"
   ]
  },
  {
   "cell_type": "code",
   "execution_count": 40,
   "id": "13f9e399",
   "metadata": {},
   "outputs": [
    {
     "data": {
      "text/plain": [
       "['G2M', 'S', 'G1']\n",
       "Categories (3, object): ['G1', 'G2M', 'S']"
      ]
     },
     "execution_count": 40,
     "metadata": {},
     "output_type": "execute_result"
    }
   ],
   "source": [
    "adata_pr.obs.phase.unique()"
   ]
  },
  {
   "cell_type": "code",
   "execution_count": 41,
   "id": "0443af08",
   "metadata": {},
   "outputs": [
    {
     "name": "stderr",
     "output_type": "stream",
     "text": [
      "/tmp/ipykernel_2106781/1336350546.py:1: SettingWithCopyWarning: \n",
      "A value is trying to be set on a copy of a slice from a DataFrame.\n",
      "Try using .loc[row_indexer,col_indexer] = value instead\n",
      "\n",
      "See the caveats in the documentation: https://pandas.pydata.org/pandas-docs/stable/user_guide/indexing.html#returning-a-view-versus-a-copy\n",
      "  LeidenDF[\"phase\"] = adata_pr.obs[\"phase\"]\n",
      "/tmp/ipykernel_2106781/1336350546.py:2: SettingWithCopyWarning: \n",
      "A value is trying to be set on a copy of a slice from a DataFrame.\n",
      "Try using .loc[row_indexer,col_indexer] = value instead\n",
      "\n",
      "See the caveats in the documentation: https://pandas.pydata.org/pandas-docs/stable/user_guide/indexing.html#returning-a-view-versus-a-copy\n",
      "  LeidenDF[\"phase\"] = LeidenDF[\"phase\"].replace({\"G1\":0, \"G2M\":1, \"S\":2})\n"
     ]
    }
   ],
   "source": [
    "LeidenDF[\"phase\"] = adata_pr.obs[\"phase\"]\n",
    "LeidenDF[\"phase\"] = LeidenDF[\"phase\"].replace({\"G1\":0, \"G2M\":1, \"S\":2})"
   ]
  },
  {
   "cell_type": "code",
   "execution_count": 42,
   "id": "d44ea137",
   "metadata": {},
   "outputs": [
    {
     "data": {
      "text/plain": [
       "['Recurrence', 'Sensitive', 'Unknown']\n",
       "Categories (3, object): ['Recurrence', 'Sensitive', 'Unknown']"
      ]
     },
     "execution_count": 42,
     "metadata": {},
     "output_type": "execute_result"
    }
   ],
   "source": [
    "adata_pr.obs.recurrence.unique()"
   ]
  },
  {
   "cell_type": "code",
   "execution_count": 43,
   "id": "ef863d0a",
   "metadata": {},
   "outputs": [
    {
     "name": "stderr",
     "output_type": "stream",
     "text": [
      "/tmp/ipykernel_2106781/1664838428.py:1: SettingWithCopyWarning: \n",
      "A value is trying to be set on a copy of a slice from a DataFrame.\n",
      "Try using .loc[row_indexer,col_indexer] = value instead\n",
      "\n",
      "See the caveats in the documentation: https://pandas.pydata.org/pandas-docs/stable/user_guide/indexing.html#returning-a-view-versus-a-copy\n",
      "  LeidenDF[\"recurrence\"] = adata_pr.obs[\"recurrence\"]\n",
      "/tmp/ipykernel_2106781/1664838428.py:2: SettingWithCopyWarning: \n",
      "A value is trying to be set on a copy of a slice from a DataFrame.\n",
      "Try using .loc[row_indexer,col_indexer] = value instead\n",
      "\n",
      "See the caveats in the documentation: https://pandas.pydata.org/pandas-docs/stable/user_guide/indexing.html#returning-a-view-versus-a-copy\n",
      "  LeidenDF[\"recurrence\"] = LeidenDF[\"recurrence\"].replace({\"Recurrence\":0, \"Sensitive\":1, \"Unknown\":2})\n"
     ]
    }
   ],
   "source": [
    "LeidenDF[\"recurrence\"] = adata_pr.obs[\"recurrence\"]\n",
    "LeidenDF[\"recurrence\"] = LeidenDF[\"recurrence\"].replace({\"Recurrence\":0, \"Sensitive\":1, \"Unknown\":2})"
   ]
  },
  {
   "cell_type": "code",
   "execution_count": 39,
   "id": "bebbc151",
   "metadata": {
    "scrolled": false
   },
   "outputs": [],
   "source": [
    "# LeidenDF[]\n",
    "\n",
    "fig = px.parallel_categories(LeidenDF, \n",
    "                             dimensions=[i for i in adata_pr.obs.columns if \"leiden-\" in i],\n",
    "                             color_continuous_scale=px.colors.sequential.Agsunset,color=\"color\",\n",
    "                             width=1000,height=700)\n",
    "# fig.write_image('/home/marta.sallese/ov_cancer_atlas/DEA/Sankeys/cancer_primary_leiden.png')\n",
    "fig.write_html('/home/marta.sallese/ov_cancer_atlas/DEA/Sankeys/cancer_primary_leiden.html')\n",
    "# fig.show()"
   ]
  },
  {
   "cell_type": "code",
   "execution_count": 41,
   "id": "02c4a192",
   "metadata": {},
   "outputs": [],
   "source": [
    "# LeidenDF[]\n",
    "\n",
    "fig = px.parallel_categories(LeidenDF, \n",
    "                             dimensions=[i for i in adata_pr.obs.columns if \"leiden-\" in i],\n",
    "                             color_continuous_scale=px.colors.sequential.Agsunset,color=\"treatment\",\n",
    "                             width=1000,height=700)\n",
    "# fig.write_image('/home/marta.sallese/ov_cancer_atlas/DEA/Sankeys/cancer_primary_treatment.png')\n",
    "fig.write_html('/home/marta.sallese/ov_cancer_atlas/DEA/Sankeys/cancer_primary_treatment.html')\n",
    "# fig.show()"
   ]
  },
  {
   "cell_type": "code",
   "execution_count": 42,
   "id": "10504a62",
   "metadata": {},
   "outputs": [],
   "source": [
    "# LeidenDF[]\n",
    "\n",
    "fig = px.parallel_categories(LeidenDF, \n",
    "                             dimensions=[i for i in adata_pr.obs.columns if \"leiden-\" in i],\n",
    "                             color_continuous_scale=px.colors.sequential.Agsunset,color=\"phase\",\n",
    "                             width=1000,height=700)\n",
    "# fig.write_image('/home/marta.sallese/ov_cancer_atlas/DEA/Sankeys/cancer_primary_cellcycle.png')\n",
    "fig.write_html('/home/marta.sallese/ov_cancer_atlas/DEA/Sankeys/cancer_primary_cellcycle.html')\n",
    "# fig.show()"
   ]
  },
  {
   "cell_type": "code",
   "execution_count": 44,
   "id": "045ac21f",
   "metadata": {},
   "outputs": [],
   "source": [
    "# LeidenDF[]\n",
    "\n",
    "fig = px.parallel_categories(LeidenDF, \n",
    "                             dimensions=[i for i in adata_pr.obs.columns if \"leiden-\" in i],\n",
    "                             color_continuous_scale=px.colors.sequential.Agsunset,color=\"tumor_stage\",\n",
    "                             width=1000,height=700)\n",
    "# fig.write_image('/home/marta.sallese/ov_cancer_atlas/DEA/Sankeys/cancer_primary_tumorstage.png')\n",
    "fig.write_html('/home/marta.sallese/ov_cancer_atlas/DEA/Sankeys/cancer_primary_tumorstage.html')\n",
    "# fig.show()"
   ]
  },
  {
   "cell_type": "code",
   "execution_count": 45,
   "id": "e71ea7ba",
   "metadata": {},
   "outputs": [],
   "source": [
    "# LeidenDF[]\n",
    "\n",
    "fig = px.parallel_categories(LeidenDF, \n",
    "                             dimensions=[i for i in adata_pr.obs.columns if \"leiden-\" in i],\n",
    "                             color_continuous_scale=px.colors.sequential.Agsunset,color=\"recurrence\",\n",
    "                             width=1000,height=700)\n",
    "# fig.write_image('/home/marta.sallese/ov_cancer_atlas/DEA/Sankeys/cancer_primary_recurrence.png')\n",
    "fig.write_html('/home/marta.sallese/ov_cancer_atlas/DEA/Sankeys/cancer_primary_recurrence.html')\n",
    "# fig.show()"
   ]
  },
  {
   "cell_type": "code",
   "execution_count": null,
   "id": "fb4036c1",
   "metadata": {},
   "outputs": [],
   "source": [
    "# selected leiden to see ontologies: 0.13, 0.25, 0.37\n",
    "# final choice 0.25"
   ]
  },
  {
   "cell_type": "markdown",
   "id": "ece5afbc",
   "metadata": {},
   "source": [
    "### Ascites"
   ]
  },
  {
   "cell_type": "code",
   "execution_count": 69,
   "id": "ec099756",
   "metadata": {},
   "outputs": [],
   "source": [
    "adata_as = sc.read('/group/testa/Project/OvarianAtlas/Dea/Cancer_seacells/Ascites/adata_ascites_filtered_embeddings.h5ad')"
   ]
  },
  {
   "cell_type": "code",
   "execution_count": 70,
   "id": "97aa4ca1",
   "metadata": {},
   "outputs": [
    {
     "data": {
      "text/plain": [
       "AnnData object with n_obs × n_vars = 772 × 17054\n",
       "    obs: 'tissue', 'developmental_stage', 'treatment', 'recurrence', 'tumor_stage', 'paper_ID', 'anatomical_location', 'dataset', 'SEACell', '# Single Cells', 'tissue-treatment', 'S_score', 'G2M_score', 'phase', 'total_counts_seacell', 'leiden-0.1', 'leiden-0.2', 'leiden-0.3', 'leiden-0.4', 'leiden-0.5', 'leiden-0.6', 'leiden-0.7', 'leiden-0.8', 'leiden-0.9'\n",
       "    var: 'highly_variable'\n",
       "    uns: '_scvi_manager_uuid', '_scvi_uuid', 'leiden', 'leiden-0.1_colors', 'leiden-0.2_colors', 'leiden-0.3_colors', 'leiden-0.4_colors', 'leiden-0.5_colors', 'leiden-0.6_colors', 'leiden-0.7_colors', 'leiden-0.8_colors', 'leiden-0.9_colors', 'neighbors', 'pca', 'umap', 'wilcoxon_leiden-0.1', 'wilcoxon_leiden-0.2', 'wilcoxon_leiden-0.3', 'wilcoxon_leiden-0.4', 'wilcoxon_leiden-0.5', 'wilcoxon_leiden-0.6', 'wilcoxon_leiden-0.7', 'wilcoxon_leiden-0.8', 'wilcoxon_leiden-0.9'\n",
       "    obsm: 'X_pca', 'X_umap', 'corrected_latent', 'latent'\n",
       "    varm: 'PCs'\n",
       "    obsp: 'connectivities', 'distances'"
      ]
     },
     "execution_count": 70,
     "metadata": {},
     "output_type": "execute_result"
    }
   ],
   "source": [
    "adata_as"
   ]
  },
  {
   "cell_type": "code",
   "execution_count": 71,
   "id": "b05dc23c",
   "metadata": {},
   "outputs": [],
   "source": [
    "LeidenDF = adata_as.obs[[i for i in adata_as.obs.columns if \"leiden-\" in i]]"
   ]
  },
  {
   "cell_type": "code",
   "execution_count": 72,
   "id": "736f7544",
   "metadata": {},
   "outputs": [
    {
     "name": "stderr",
     "output_type": "stream",
     "text": [
      "/tmp/ipykernel_2106781/995309661.py:1: SettingWithCopyWarning:\n",
      "\n",
      "\n",
      "A value is trying to be set on a copy of a slice from a DataFrame.\n",
      "Try using .loc[row_indexer,col_indexer] = value instead\n",
      "\n",
      "See the caveats in the documentation: https://pandas.pydata.org/pandas-docs/stable/user_guide/indexing.html#returning-a-view-versus-a-copy\n",
      "\n"
     ]
    }
   ],
   "source": [
    "LeidenDF[\"color\"] = LeidenDF[\"leiden-0.5\"].astype(int)"
   ]
  },
  {
   "cell_type": "code",
   "execution_count": 73,
   "id": "c1e0c1f2",
   "metadata": {},
   "outputs": [
    {
     "name": "stderr",
     "output_type": "stream",
     "text": [
      "/tmp/ipykernel_2106781/2120274199.py:1: SettingWithCopyWarning:\n",
      "\n",
      "\n",
      "A value is trying to be set on a copy of a slice from a DataFrame.\n",
      "Try using .loc[row_indexer,col_indexer] = value instead\n",
      "\n",
      "See the caveats in the documentation: https://pandas.pydata.org/pandas-docs/stable/user_guide/indexing.html#returning-a-view-versus-a-copy\n",
      "\n"
     ]
    }
   ],
   "source": [
    "LeidenDF[\"treatment\"] = adata_as.obs[\"treatment\"]"
   ]
  },
  {
   "cell_type": "code",
   "execution_count": 74,
   "id": "b076b479",
   "metadata": {},
   "outputs": [
    {
     "name": "stderr",
     "output_type": "stream",
     "text": [
      "/tmp/ipykernel_2106781/1696152066.py:1: SettingWithCopyWarning:\n",
      "\n",
      "\n",
      "A value is trying to be set on a copy of a slice from a DataFrame.\n",
      "Try using .loc[row_indexer,col_indexer] = value instead\n",
      "\n",
      "See the caveats in the documentation: https://pandas.pydata.org/pandas-docs/stable/user_guide/indexing.html#returning-a-view-versus-a-copy\n",
      "\n"
     ]
    }
   ],
   "source": [
    "LeidenDF[\"treatment\"] = LeidenDF[\"treatment\"].replace({\"Naive\":0, \"NACT\":1, \"CHT\":2})"
   ]
  },
  {
   "cell_type": "code",
   "execution_count": 75,
   "id": "a1a02936",
   "metadata": {},
   "outputs": [
    {
     "data": {
      "text/plain": [
       "['IIIC', 'IIIB', 'IVA', 'IVB']\n",
       "Categories (4, object): ['IIIB', 'IIIC', 'IVA', 'IVB']"
      ]
     },
     "execution_count": 75,
     "metadata": {},
     "output_type": "execute_result"
    }
   ],
   "source": [
    "adata_as.obs.tumor_stage.unique()"
   ]
  },
  {
   "cell_type": "code",
   "execution_count": 76,
   "id": "9df680a9",
   "metadata": {},
   "outputs": [
    {
     "name": "stderr",
     "output_type": "stream",
     "text": [
      "/tmp/ipykernel_2106781/2074490481.py:1: SettingWithCopyWarning:\n",
      "\n",
      "\n",
      "A value is trying to be set on a copy of a slice from a DataFrame.\n",
      "Try using .loc[row_indexer,col_indexer] = value instead\n",
      "\n",
      "See the caveats in the documentation: https://pandas.pydata.org/pandas-docs/stable/user_guide/indexing.html#returning-a-view-versus-a-copy\n",
      "\n",
      "/tmp/ipykernel_2106781/2074490481.py:2: SettingWithCopyWarning:\n",
      "\n",
      "\n",
      "A value is trying to be set on a copy of a slice from a DataFrame.\n",
      "Try using .loc[row_indexer,col_indexer] = value instead\n",
      "\n",
      "See the caveats in the documentation: https://pandas.pydata.org/pandas-docs/stable/user_guide/indexing.html#returning-a-view-versus-a-copy\n",
      "\n"
     ]
    }
   ],
   "source": [
    "LeidenDF[\"tumor_stage\"] = adata_as.obs[\"tumor_stage\"]\n",
    "LeidenDF[\"tumor_stage\"] = LeidenDF[\"tumor_stage\"].replace({\"IIIB\":0, \"IIIC\":1, \"IVA\":2,\"IVB\":3})"
   ]
  },
  {
   "cell_type": "code",
   "execution_count": 77,
   "id": "d9954ee7",
   "metadata": {},
   "outputs": [
    {
     "data": {
      "text/plain": [
       "['G2M', 'G1', 'S']\n",
       "Categories (3, object): ['G1', 'G2M', 'S']"
      ]
     },
     "execution_count": 77,
     "metadata": {},
     "output_type": "execute_result"
    }
   ],
   "source": [
    "adata_as.obs.phase.unique()"
   ]
  },
  {
   "cell_type": "code",
   "execution_count": 78,
   "id": "49e11d29",
   "metadata": {},
   "outputs": [
    {
     "name": "stderr",
     "output_type": "stream",
     "text": [
      "/tmp/ipykernel_2106781/2418658085.py:1: SettingWithCopyWarning:\n",
      "\n",
      "\n",
      "A value is trying to be set on a copy of a slice from a DataFrame.\n",
      "Try using .loc[row_indexer,col_indexer] = value instead\n",
      "\n",
      "See the caveats in the documentation: https://pandas.pydata.org/pandas-docs/stable/user_guide/indexing.html#returning-a-view-versus-a-copy\n",
      "\n",
      "/tmp/ipykernel_2106781/2418658085.py:2: SettingWithCopyWarning:\n",
      "\n",
      "\n",
      "A value is trying to be set on a copy of a slice from a DataFrame.\n",
      "Try using .loc[row_indexer,col_indexer] = value instead\n",
      "\n",
      "See the caveats in the documentation: https://pandas.pydata.org/pandas-docs/stable/user_guide/indexing.html#returning-a-view-versus-a-copy\n",
      "\n"
     ]
    }
   ],
   "source": [
    "LeidenDF[\"phase\"] = adata_as.obs[\"phase\"]\n",
    "LeidenDF[\"phase\"] = LeidenDF[\"phase\"].replace({\"G1\":0, \"G2M\":1, \"S\":2})"
   ]
  },
  {
   "cell_type": "code",
   "execution_count": 79,
   "id": "95e600a0",
   "metadata": {},
   "outputs": [
    {
     "data": {
      "text/plain": [
       "['Recurrence', 'Unknown']\n",
       "Categories (2, object): ['Recurrence', 'Unknown']"
      ]
     },
     "execution_count": 79,
     "metadata": {},
     "output_type": "execute_result"
    }
   ],
   "source": [
    "adata_as.obs.recurrence.unique()"
   ]
  },
  {
   "cell_type": "code",
   "execution_count": 80,
   "id": "8b088303",
   "metadata": {},
   "outputs": [
    {
     "name": "stderr",
     "output_type": "stream",
     "text": [
      "/tmp/ipykernel_2106781/3599162756.py:1: SettingWithCopyWarning:\n",
      "\n",
      "\n",
      "A value is trying to be set on a copy of a slice from a DataFrame.\n",
      "Try using .loc[row_indexer,col_indexer] = value instead\n",
      "\n",
      "See the caveats in the documentation: https://pandas.pydata.org/pandas-docs/stable/user_guide/indexing.html#returning-a-view-versus-a-copy\n",
      "\n",
      "/tmp/ipykernel_2106781/3599162756.py:2: SettingWithCopyWarning:\n",
      "\n",
      "\n",
      "A value is trying to be set on a copy of a slice from a DataFrame.\n",
      "Try using .loc[row_indexer,col_indexer] = value instead\n",
      "\n",
      "See the caveats in the documentation: https://pandas.pydata.org/pandas-docs/stable/user_guide/indexing.html#returning-a-view-versus-a-copy\n",
      "\n"
     ]
    }
   ],
   "source": [
    "LeidenDF[\"recurrence\"] = adata_as.obs[\"recurrence\"]\n",
    "LeidenDF[\"recurrence\"] = LeidenDF[\"recurrence\"].replace({\"Recurrence\":0, \"Unknown\":1})"
   ]
  },
  {
   "cell_type": "code",
   "execution_count": 87,
   "id": "6f9919b8",
   "metadata": {},
   "outputs": [],
   "source": [
    "# LeidenDF[]\n",
    "\n",
    "fig = px.parallel_categories(LeidenDF, \n",
    "                             dimensions=[i for i in adata_as.obs.columns if \"leiden-\" in i],\n",
    "                             color_continuous_scale=px.colors.sequential.Agsunset,color=\"color\",\n",
    "                             width=1000,height=700)\n",
    "#fig.write_image('/home/marta.sallese/ov_cancer_atlas/DEA/Sankeys/cancer_ascites_leiden.png')\n",
    "fig.write_html('/home/marta.sallese/ov_cancer_atlas/DEA/Sankeys/cancer_ascites_leiden.html')\n",
    "#fig.show()"
   ]
  },
  {
   "cell_type": "code",
   "execution_count": 82,
   "id": "8cd918f8",
   "metadata": {},
   "outputs": [],
   "source": [
    "# LeidenDF[]\n",
    "\n",
    "fig = px.parallel_categories(LeidenDF, \n",
    "                             dimensions=[i for i in adata_as.obs.columns if \"leiden-\" in i],\n",
    "                             color_continuous_scale=px.colors.sequential.Agsunset,color=\"treatment\",\n",
    "                             width=1000,height=700)\n",
    "#fig.write_image('/home/marta.sallese/ov_cancer_atlas/DEA/Sankeys/cancer_ascites_treatment.png')\n",
    "fig.write_html('/home/marta.sallese/ov_cancer_atlas/DEA/Sankeys/cancer_ascites_treatment.html')\n",
    "# fig.show()"
   ]
  },
  {
   "cell_type": "code",
   "execution_count": 83,
   "id": "26c1ac3d",
   "metadata": {},
   "outputs": [],
   "source": [
    "# LeidenDF[]\n",
    "\n",
    "fig = px.parallel_categories(LeidenDF, \n",
    "                             dimensions=[i for i in adata_as.obs.columns if \"leiden-\" in i],\n",
    "                             color_continuous_scale=px.colors.sequential.Agsunset,color=\"tumor_stage\",\n",
    "                             width=1000,height=700)\n",
    "#fig.write_image('/home/marta.sallese/ov_cancer_atlas/DEA/Sankeys/cancer_ascites_tumorstage.png')\n",
    "fig.write_html('/home/marta.sallese/ov_cancer_atlas/DEA/Sankeys/cancer_ascites_tumorstage.html')\n",
    "# fig.show()"
   ]
  },
  {
   "cell_type": "code",
   "execution_count": 84,
   "id": "24d48ecb",
   "metadata": {},
   "outputs": [],
   "source": [
    "# LeidenDF[]\n",
    "\n",
    "fig = px.parallel_categories(LeidenDF, \n",
    "                             dimensions=[i for i in adata_as.obs.columns if \"leiden-\" in i],\n",
    "                             color_continuous_scale=px.colors.sequential.Agsunset,color=\"phase\",\n",
    "                             width=1000,height=700)\n",
    "#fig.write_image('/home/marta.sallese/ov_cancer_atlas/DEA/Sankeys/cancer_ascites_cellcycle.png')\n",
    "fig.write_html('/home/marta.sallese/ov_cancer_atlas/DEA/Sankeys/cancer_ascites_cellcycle.html')\n",
    "# fig.show()"
   ]
  },
  {
   "cell_type": "code",
   "execution_count": 85,
   "id": "7310da07",
   "metadata": {},
   "outputs": [],
   "source": [
    "# LeidenDF[]\n",
    "\n",
    "fig = px.parallel_categories(LeidenDF, \n",
    "                             dimensions=[i for i in adata_as.obs.columns if \"leiden-\" in i],\n",
    "                             color_continuous_scale=px.colors.sequential.Agsunset,color=\"recurrence\",\n",
    "                             width=1000,height=700)\n",
    "#fig.write_image('/home/marta.sallese/ov_cancer_atlas/DEA/Sankeys/cancer_ascites_recurrence.png')\n",
    "fig.write_html('/home/marta.sallese/ov_cancer_atlas/DEA/Sankeys/cancer_ascites_recurrence.html')\n",
    "# fig.show()"
   ]
  },
  {
   "cell_type": "code",
   "execution_count": null,
   "id": "84c7d20a",
   "metadata": {},
   "outputs": [],
   "source": [
    "# selected leiden to see ontologies\n",
    "# chosen leiden 0.5"
   ]
  },
  {
   "cell_type": "markdown",
   "id": "ffc9147a",
   "metadata": {},
   "source": [
    "### Metastasis"
   ]
  },
  {
   "cell_type": "code",
   "execution_count": 45,
   "id": "a5c32c42",
   "metadata": {},
   "outputs": [],
   "source": [
    "adata_mt = adata[(adata.obs['tissue'] == 'Metastasis')]"
   ]
  },
  {
   "cell_type": "code",
   "execution_count": 46,
   "id": "1ea61919",
   "metadata": {},
   "outputs": [
    {
     "data": {
      "text/plain": [
       "View of AnnData object with n_obs × n_vars = 4004 × 17054\n",
       "    obs: 'tissue', 'developmental_stage', 'treatment', 'recurrence', 'tumor_stage', 'paper_ID', 'anatomical_location', 'dataset', 'SEACell', '# Single Cells', 'tissue-treatment', 'S_score', 'G2M_score', 'phase'\n",
       "    var: 'highly_variable'\n",
       "    uns: '_scvi_manager_uuid', '_scvi_uuid'\n",
       "    obsm: 'corrected_latent', 'latent'"
      ]
     },
     "execution_count": 46,
     "metadata": {},
     "output_type": "execute_result"
    }
   ],
   "source": [
    "adata_mt"
   ]
  },
  {
   "cell_type": "code",
   "execution_count": 47,
   "id": "b1022695",
   "metadata": {},
   "outputs": [],
   "source": [
    "sc.tl.pca(adata_mt, use_highly_variable = True)\n",
    "sc.pp.neighbors(adata_mt, n_neighbors=10, n_pcs=50)\n",
    "sc.tl.umap(adata_mt)"
   ]
  },
  {
   "cell_type": "code",
   "execution_count": 48,
   "id": "ba738365",
   "metadata": {},
   "outputs": [],
   "source": [
    "leidenTotal=[]\n",
    "for i in np.arange(0.2, 0.4, 0.02):\n",
    "    sc.tl.leiden(adata_mt,resolution = i,key_added=\"leiden-{}\".format(round(i,2)))\n",
    "    leidenTotal.append(\"leiden-{}\".format(round(i,2)))"
   ]
  },
  {
   "cell_type": "code",
   "execution_count": 49,
   "id": "cb49c4b5",
   "metadata": {},
   "outputs": [
    {
     "data": {
      "text/plain": [
       "['leiden-0.2',\n",
       " 'leiden-0.22',\n",
       " 'leiden-0.24',\n",
       " 'leiden-0.26',\n",
       " 'leiden-0.28',\n",
       " 'leiden-0.3',\n",
       " 'leiden-0.32',\n",
       " 'leiden-0.34',\n",
       " 'leiden-0.36',\n",
       " 'leiden-0.38']"
      ]
     },
     "execution_count": 49,
     "metadata": {},
     "output_type": "execute_result"
    }
   ],
   "source": [
    "leidenTotal"
   ]
  },
  {
   "cell_type": "code",
   "execution_count": 50,
   "id": "0b74cdef",
   "metadata": {},
   "outputs": [],
   "source": [
    "LeidenDF = adata_mt.obs[[i for i in adata_mt.obs.columns if \"leiden-\" in i]]"
   ]
  },
  {
   "cell_type": "code",
   "execution_count": 51,
   "id": "083078b4",
   "metadata": {},
   "outputs": [
    {
     "name": "stderr",
     "output_type": "stream",
     "text": [
      "/tmp/ipykernel_2106781/2077511126.py:1: SettingWithCopyWarning: \n",
      "A value is trying to be set on a copy of a slice from a DataFrame.\n",
      "Try using .loc[row_indexer,col_indexer] = value instead\n",
      "\n",
      "See the caveats in the documentation: https://pandas.pydata.org/pandas-docs/stable/user_guide/indexing.html#returning-a-view-versus-a-copy\n",
      "  LeidenDF[\"color\"] = LeidenDF[\"leiden-0.3\"].astype(int)\n"
     ]
    }
   ],
   "source": [
    "LeidenDF[\"color\"] = LeidenDF[\"leiden-0.3\"].astype(int)"
   ]
  },
  {
   "cell_type": "code",
   "execution_count": 52,
   "id": "b265d733",
   "metadata": {},
   "outputs": [
    {
     "name": "stderr",
     "output_type": "stream",
     "text": [
      "/tmp/ipykernel_2106781/3208906183.py:1: SettingWithCopyWarning: \n",
      "A value is trying to be set on a copy of a slice from a DataFrame.\n",
      "Try using .loc[row_indexer,col_indexer] = value instead\n",
      "\n",
      "See the caveats in the documentation: https://pandas.pydata.org/pandas-docs/stable/user_guide/indexing.html#returning-a-view-versus-a-copy\n",
      "  LeidenDF[\"treatment\"] = adata_mt.obs[\"treatment\"]\n"
     ]
    }
   ],
   "source": [
    "LeidenDF[\"treatment\"] = adata_mt.obs[\"treatment\"]"
   ]
  },
  {
   "cell_type": "code",
   "execution_count": 53,
   "id": "b368108e",
   "metadata": {},
   "outputs": [
    {
     "name": "stderr",
     "output_type": "stream",
     "text": [
      "/tmp/ipykernel_2106781/1696152066.py:1: SettingWithCopyWarning: \n",
      "A value is trying to be set on a copy of a slice from a DataFrame.\n",
      "Try using .loc[row_indexer,col_indexer] = value instead\n",
      "\n",
      "See the caveats in the documentation: https://pandas.pydata.org/pandas-docs/stable/user_guide/indexing.html#returning-a-view-versus-a-copy\n",
      "  LeidenDF[\"treatment\"] = LeidenDF[\"treatment\"].replace({\"Naive\":0, \"NACT\":1, \"CHT\":2})\n"
     ]
    }
   ],
   "source": [
    "LeidenDF[\"treatment\"] = LeidenDF[\"treatment\"].replace({\"Naive\":0, \"NACT\":1, \"CHT\":2})"
   ]
  },
  {
   "cell_type": "code",
   "execution_count": 54,
   "id": "391cdcfb",
   "metadata": {},
   "outputs": [
    {
     "data": {
      "text/plain": [
       "['IV', 'IIIC', 'IIIB', 'IVB', 'IVA']\n",
       "Categories (5, object): ['IIIB', 'IIIC', 'IV', 'IVA', 'IVB']"
      ]
     },
     "execution_count": 54,
     "metadata": {},
     "output_type": "execute_result"
    }
   ],
   "source": [
    "adata_mt.obs.tumor_stage.unique()"
   ]
  },
  {
   "cell_type": "code",
   "execution_count": 55,
   "id": "24313f2d",
   "metadata": {},
   "outputs": [
    {
     "name": "stderr",
     "output_type": "stream",
     "text": [
      "/tmp/ipykernel_2106781/3174418450.py:1: SettingWithCopyWarning: \n",
      "A value is trying to be set on a copy of a slice from a DataFrame.\n",
      "Try using .loc[row_indexer,col_indexer] = value instead\n",
      "\n",
      "See the caveats in the documentation: https://pandas.pydata.org/pandas-docs/stable/user_guide/indexing.html#returning-a-view-versus-a-copy\n",
      "  LeidenDF[\"tumor_stage\"] = adata_mt.obs[\"tumor_stage\"]\n",
      "/tmp/ipykernel_2106781/3174418450.py:2: SettingWithCopyWarning: \n",
      "A value is trying to be set on a copy of a slice from a DataFrame.\n",
      "Try using .loc[row_indexer,col_indexer] = value instead\n",
      "\n",
      "See the caveats in the documentation: https://pandas.pydata.org/pandas-docs/stable/user_guide/indexing.html#returning-a-view-versus-a-copy\n",
      "  LeidenDF[\"tumor_stage\"] = LeidenDF[\"tumor_stage\"].replace({\"IV\":0, \"IIIC\":1, \"IIIB\":2, \"IVB\":3,\"IVA\":4})\n"
     ]
    }
   ],
   "source": [
    "LeidenDF[\"tumor_stage\"] = adata_mt.obs[\"tumor_stage\"]\n",
    "LeidenDF[\"tumor_stage\"] = LeidenDF[\"tumor_stage\"].replace({\"IV\":0, \"IIIC\":1, \"IIIB\":2, \"IVB\":3,\"IVA\":4})"
   ]
  },
  {
   "cell_type": "code",
   "execution_count": 56,
   "id": "881b8160",
   "metadata": {},
   "outputs": [
    {
     "data": {
      "text/plain": [
       "array(['S', 'G2M', 'G1'], dtype=object)"
      ]
     },
     "execution_count": 56,
     "metadata": {},
     "output_type": "execute_result"
    }
   ],
   "source": [
    "adata_mt.obs.phase.unique()"
   ]
  },
  {
   "cell_type": "code",
   "execution_count": 57,
   "id": "6703be0c",
   "metadata": {},
   "outputs": [
    {
     "name": "stderr",
     "output_type": "stream",
     "text": [
      "/tmp/ipykernel_2106781/1582533869.py:1: SettingWithCopyWarning: \n",
      "A value is trying to be set on a copy of a slice from a DataFrame.\n",
      "Try using .loc[row_indexer,col_indexer] = value instead\n",
      "\n",
      "See the caveats in the documentation: https://pandas.pydata.org/pandas-docs/stable/user_guide/indexing.html#returning-a-view-versus-a-copy\n",
      "  LeidenDF[\"phase\"] = adata_mt.obs[\"phase\"]\n",
      "/tmp/ipykernel_2106781/1582533869.py:2: SettingWithCopyWarning: \n",
      "A value is trying to be set on a copy of a slice from a DataFrame.\n",
      "Try using .loc[row_indexer,col_indexer] = value instead\n",
      "\n",
      "See the caveats in the documentation: https://pandas.pydata.org/pandas-docs/stable/user_guide/indexing.html#returning-a-view-versus-a-copy\n",
      "  LeidenDF[\"phase\"] = LeidenDF[\"phase\"].replace({\"G1\":0, \"G2M\":1, \"S\":2})\n"
     ]
    }
   ],
   "source": [
    "LeidenDF[\"phase\"] = adata_mt.obs[\"phase\"]\n",
    "LeidenDF[\"phase\"] = LeidenDF[\"phase\"].replace({\"G1\":0, \"G2M\":1, \"S\":2})"
   ]
  },
  {
   "cell_type": "code",
   "execution_count": 58,
   "id": "802d03ab",
   "metadata": {},
   "outputs": [
    {
     "data": {
      "text/plain": [
       "['Recurrence', 'Sensitive', 'Unknown']\n",
       "Categories (3, object): ['Recurrence', 'Sensitive', 'Unknown']"
      ]
     },
     "execution_count": 58,
     "metadata": {},
     "output_type": "execute_result"
    }
   ],
   "source": [
    "adata_mt.obs.recurrence.unique()"
   ]
  },
  {
   "cell_type": "code",
   "execution_count": 59,
   "id": "7f413cbf",
   "metadata": {},
   "outputs": [
    {
     "name": "stderr",
     "output_type": "stream",
     "text": [
      "/tmp/ipykernel_2106781/1440590878.py:1: SettingWithCopyWarning: \n",
      "A value is trying to be set on a copy of a slice from a DataFrame.\n",
      "Try using .loc[row_indexer,col_indexer] = value instead\n",
      "\n",
      "See the caveats in the documentation: https://pandas.pydata.org/pandas-docs/stable/user_guide/indexing.html#returning-a-view-versus-a-copy\n",
      "  LeidenDF[\"recurrence\"] = adata_mt.obs[\"recurrence\"]\n",
      "/tmp/ipykernel_2106781/1440590878.py:2: SettingWithCopyWarning: \n",
      "A value is trying to be set on a copy of a slice from a DataFrame.\n",
      "Try using .loc[row_indexer,col_indexer] = value instead\n",
      "\n",
      "See the caveats in the documentation: https://pandas.pydata.org/pandas-docs/stable/user_guide/indexing.html#returning-a-view-versus-a-copy\n",
      "  LeidenDF[\"recurrence\"] = LeidenDF[\"recurrence\"].replace({\"Recurrence\":0, 'Sensitive':1, \"Unknown\":2})\n"
     ]
    }
   ],
   "source": [
    "LeidenDF[\"recurrence\"] = adata_mt.obs[\"recurrence\"]\n",
    "LeidenDF[\"recurrence\"] = LeidenDF[\"recurrence\"].replace({\"Recurrence\":0, 'Sensitive':1, \"Unknown\":2})"
   ]
  },
  {
   "cell_type": "code",
   "execution_count": 60,
   "id": "a800afec",
   "metadata": {},
   "outputs": [],
   "source": [
    "# LeidenDF[]\n",
    "\n",
    "fig = px.parallel_categories(LeidenDF, \n",
    "                             dimensions=[i for i in adata_mt.obs.columns if \"leiden-\" in i],\n",
    "                             color_continuous_scale=px.colors.sequential.Agsunset,color=\"color\",\n",
    "                             width=1000,height=700)\n",
    "#fig.write_image('/home/marta.sallese/ov_cancer_atlas/DEA/Sankeys/cancer_metastasis_leiden.png')\n",
    "fig.write_html('/home/marta.sallese/ov_cancer_atlas/DEA/Sankeys/cancer_metastasis_leiden.html')\n",
    "# fig.show()"
   ]
  },
  {
   "cell_type": "code",
   "execution_count": 61,
   "id": "b8fb5420",
   "metadata": {},
   "outputs": [],
   "source": [
    "# LeidenDF[]\n",
    "\n",
    "fig = px.parallel_categories(LeidenDF, \n",
    "                             dimensions=[i for i in adata_mt.obs.columns if \"leiden-\" in i],\n",
    "                             color_continuous_scale=px.colors.sequential.Agsunset,color=\"treatment\",\n",
    "                             width=1000,height=700)\n",
    "#fig.write_image('/home/marta.sallese/ov_cancer_atlas/DEA/Sankeys/cancer_metastasis_treatment.png')\n",
    "fig.write_html('/home/marta.sallese/ov_cancer_atlas/DEA/Sankeys/cancer_metastasis_treatment.html')\n",
    "# fig.show()"
   ]
  },
  {
   "cell_type": "code",
   "execution_count": 62,
   "id": "13754456",
   "metadata": {},
   "outputs": [],
   "source": [
    "# LeidenDF[]\n",
    "\n",
    "fig = px.parallel_categories(LeidenDF, \n",
    "                             dimensions=[i for i in adata_mt.obs.columns if \"leiden-\" in i],\n",
    "                             color_continuous_scale=px.colors.sequential.Agsunset,color=\"phase\",\n",
    "                             width=1000,height=700)\n",
    "#fig.write_image('/home/marta.sallese/ov_cancer_atlas/DEA/Sankeys/cancer_metastasis_cellcycle.png')\n",
    "fig.write_html('/home/marta.sallese/ov_cancer_atlas/DEA/Sankeys/cancer_metastasis_cellcycle.html')\n",
    "# fig.show()"
   ]
  },
  {
   "cell_type": "code",
   "execution_count": 63,
   "id": "13e821b8",
   "metadata": {},
   "outputs": [],
   "source": [
    "# LeidenDF[]\n",
    "\n",
    "fig = px.parallel_categories(LeidenDF, \n",
    "                             dimensions=[i for i in adata_mt.obs.columns if \"leiden-\" in i],\n",
    "                             color_continuous_scale=px.colors.sequential.Agsunset,color=\"tumor_stage\",\n",
    "                             width=1000,height=700)\n",
    "#fig.write_image('/home/marta.sallese/ov_cancer_atlas/DEA/Sankeys/cancer_metastasis_tumorstage.png')\n",
    "fig.write_html('/home/marta.sallese/ov_cancer_atlas/DEA/Sankeys/cancer_metastasis_tumorstage.html')\n",
    "# fig.show()"
   ]
  },
  {
   "cell_type": "code",
   "execution_count": 64,
   "id": "69311f2b",
   "metadata": {},
   "outputs": [],
   "source": [
    "color_param = 'anatomical_location'"
   ]
  },
  {
   "cell_type": "code",
   "execution_count": 65,
   "id": "efb5208b",
   "metadata": {},
   "outputs": [
    {
     "name": "stderr",
     "output_type": "stream",
     "text": [
      "/tmp/ipykernel_2106781/2035870667.py:1: SettingWithCopyWarning:\n",
      "\n",
      "\n",
      "A value is trying to be set on a copy of a slice from a DataFrame.\n",
      "Try using .loc[row_indexer,col_indexer] = value instead\n",
      "\n",
      "See the caveats in the documentation: https://pandas.pydata.org/pandas-docs/stable/user_guide/indexing.html#returning-a-view-versus-a-copy\n",
      "\n"
     ]
    }
   ],
   "source": [
    "LeidenDF[color_param] = adata_mt.obs[color_param]"
   ]
  },
  {
   "cell_type": "code",
   "execution_count": 66,
   "id": "6fa800bd",
   "metadata": {},
   "outputs": [
    {
     "data": {
      "text/plain": [
       "{'Bowel',\n",
       " 'Mesentery',\n",
       " 'Omentum',\n",
       " 'Other',\n",
       " 'Peritoneum',\n",
       " 'Upper_quadrant',\n",
       " 'Urinary_bladder'}"
      ]
     },
     "execution_count": 66,
     "metadata": {},
     "output_type": "execute_result"
    }
   ],
   "source": [
    "set(adata_mt.obs[color_param])"
   ]
  },
  {
   "cell_type": "code",
   "execution_count": 67,
   "id": "06fb7813",
   "metadata": {},
   "outputs": [
    {
     "name": "stderr",
     "output_type": "stream",
     "text": [
      "/tmp/ipykernel_2106781/2226268818.py:1: SettingWithCopyWarning:\n",
      "\n",
      "\n",
      "A value is trying to be set on a copy of a slice from a DataFrame.\n",
      "Try using .loc[row_indexer,col_indexer] = value instead\n",
      "\n",
      "See the caveats in the documentation: https://pandas.pydata.org/pandas-docs/stable/user_guide/indexing.html#returning-a-view-versus-a-copy\n",
      "\n"
     ]
    }
   ],
   "source": [
    "LeidenDF[color_param] = LeidenDF[color_param].replace({\"Bowel\":0, \"Mesentery\":1, \"Omentum\":2, \"Other\":3, \"Peritoneum\":4, \"Tumor\":5, \"Upper_quadrant\":6, \"Urinary_bladder\":7})"
   ]
  },
  {
   "cell_type": "code",
   "execution_count": 68,
   "id": "7ac56000",
   "metadata": {},
   "outputs": [],
   "source": [
    "# LeidenDF[]\n",
    "\n",
    "fig = px.parallel_categories(LeidenDF, \n",
    "                             dimensions=[i for i in adata_mt.obs.columns if \"leiden-\" in i],\n",
    "                             color_continuous_scale=px.colors.sequential.Agsunset,color=\"anatomical_location\",\n",
    "                             width=1000,height=700)\n",
    "#fig.write_image('/home/marta.sallese/ov_cancer_atlas/DEA/Sankeys/cancer_metastasis_anatomy.png')\n",
    "fig.write_html('/home/marta.sallese/ov_cancer_atlas/DEA/Sankeys/cancer_metastasis_anatomy.html')\n",
    "# fig.show()"
   ]
  },
  {
   "cell_type": "code",
   "execution_count": null,
   "id": "3fb5bab2",
   "metadata": {},
   "outputs": [],
   "source": [
    "# selected leiden to see ontologies\n",
    "# final choice 0.11"
   ]
  },
  {
   "cell_type": "code",
   "execution_count": null,
   "id": "dfaf8087",
   "metadata": {},
   "outputs": [],
   "source": []
  }
 ],
 "metadata": {
  "kernelspec": {
   "display_name": "scvi_plots",
   "language": "python",
   "name": "scvi_plots"
  },
  "language_info": {
   "codemirror_mode": {
    "name": "ipython",
    "version": 3
   },
   "file_extension": ".py",
   "mimetype": "text/x-python",
   "name": "python",
   "nbconvert_exporter": "python",
   "pygments_lexer": "ipython3",
   "version": "3.9.16"
  }
 },
 "nbformat": 4,
 "nbformat_minor": 5
}
