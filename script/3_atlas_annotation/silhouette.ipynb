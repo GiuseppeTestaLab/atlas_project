{
 "cells": [
  {
   "cell_type": "code",
   "execution_count": 3,
   "metadata": {},
   "outputs": [],
   "source": [
    "import numpy as np\n",
    "from sklearn.cluster import KMeans\n",
    "from sklearn.metrics import silhouette_score\n",
    "from sklearn.preprocessing import StandardScaler"
   ]
  },
  {
   "cell_type": "code",
   "execution_count": 4,
   "metadata": {},
   "outputs": [],
   "source": [
    "# Plotting atlas cells annotated\n",
    "\n",
    "## Import libraries\n",
    "import scanpy as sc\n",
    "import pandas as pd\n",
    "import configparser\n",
    "\n",
    "# Read configuration file\n",
    "config = configparser.ConfigParser()\n",
    "config.read('../../utils/config.ini')\n",
    "\n",
    "utilsPath = config.get('DEFAULT', 'utilsPath')\n",
    "rawPath = config.get('DEFAULT', 'rawPath')\n",
    "figPath = config.get('DEFAULT', 'figPath')\n",
    "\n",
    "## Initialize directories\n",
    "initDir = rawPath + 'atlas_annotated/'\n",
    "\n",
    "## Set figures parameters\n",
    "sc.settings.set_figure_params(dpi_save=300, frameon=False, format='png')\n",
    "sc.settings.set_figure_params(transparent=True)\n",
    "sc.settings.figdir = figPath + \"atlas_annotated/\""
   ]
  },
  {
   "cell_type": "code",
   "execution_count": 5,
   "metadata": {},
   "outputs": [],
   "source": [
    "adata = sc.read(initDir + \"atlas_cancer_embeddings.h5ad\")"
   ]
  },
  {
   "cell_type": "code",
   "execution_count": 6,
   "metadata": {},
   "outputs": [],
   "source": [
    "X = adata.X"
   ]
  },
  {
   "cell_type": "code",
   "execution_count": 7,
   "metadata": {},
   "outputs": [],
   "source": [
    "labels = adata.obs['paper_ID']"
   ]
  },
  {
   "cell_type": "code",
   "execution_count": 8,
   "metadata": {},
   "outputs": [],
   "source": [
    "score = silhouette_score(X, labels)"
   ]
  },
  {
   "cell_type": "code",
   "execution_count": 9,
   "metadata": {},
   "outputs": [
    {
     "name": "stdout",
     "output_type": "stream",
     "text": [
      "Silhouette Score: -0.07881104201078415\n"
     ]
    }
   ],
   "source": [
    "print(f\"Silhouette Score: {score}\")"
   ]
  },
  {
   "cell_type": "code",
   "execution_count": 10,
   "metadata": {},
   "outputs": [],
   "source": [
    "with open('silhouette_score_cancer.txt', 'w') as file:\n",
    "    file.write(f\"Silhouette Score: {score}\\n\")"
   ]
  }
 ],
 "metadata": {
  "kernelspec": {
   "display_name": "scvi",
   "language": "python",
   "name": "python3"
  },
  "language_info": {
   "codemirror_mode": {
    "name": "ipython",
    "version": 3
   },
   "file_extension": ".py",
   "mimetype": "text/x-python",
   "name": "python",
   "nbconvert_exporter": "python",
   "pygments_lexer": "ipython3",
   "version": "3.9.16"
  }
 },
 "nbformat": 4,
 "nbformat_minor": 2
}
