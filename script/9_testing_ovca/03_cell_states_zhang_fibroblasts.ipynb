{
 "cells": [
  {
   "cell_type": "markdown",
   "metadata": {},
   "source": [
    "Connected to downstream (Python 3.11.11)"
   ]
  },
  {
   "cell_type": "code",
   "execution_count": null,
   "id": "9ea1ead7-a35b-4fc8-84b5-8693e372ca76",
   "metadata": {},
   "outputs": [],
   "source": [
    "import os\n",
    "import scanpy as sc\n",
    "import pandas as pd\n",
    "import numpy as np\n",
    "import matplotlib.pyplot as plt\n",
    "import seaborn as sb\n",
    "from matplotlib import colors\n",
    "from matplotlib import rcParams\n",
    "import seaborn as sns\n",
    "from gprofiler import GProfiler\n",
    "import sys\n",
    "from sklearn.neighbors import KNeighborsClassifier"
   ]
  },
  {
   "cell_type": "code",
   "execution_count": null,
   "id": "a0c29bf9-ff3b-4165-b015-93a232c7a2c6",
   "metadata": {},
   "outputs": [],
   "source": [
    "import configparser\n",
    "\n",
    "# Read configuration file\n",
    "config = configparser.ConfigParser()\n",
    "config.read(\"../../utils/config.ini\")\n",
    "\n",
    "rawPath = config.get(\"DEFAULT\", \"rawPath\")\n",
    "scriptsPath = config.get(\"DEFAULT\", \"scriptsPath\")\n",
    "figPath = config.get(\"DEFAULT\", \"figPath\")\n",
    "gprofFolder = scriptsPath + \"9_testing/GProfiler/\"\n",
    "\n",
    "integrationDir = rawPath + 'integration/metacells/cancer/'\n",
    "\n",
    "path = \"/group/testa/Project/OvarianAtlas/atlas_project/raw_data/out_of_sample_extension_backup/out_of_sample_extension/fibroblasts/integrated_query_zheng_seacells_scarches_tissuetreat_predicted_cellstates.h5ad\"\n",
    "adata = sc.read_h5ad(path)"
   ]
  },
  {
   "cell_type": "code",
   "execution_count": null,
   "metadata": {},
   "outputs": [],
   "source": [
    "marta_before_integration = sc.read_h5ad(\"/group/testa/Project/OvarianAtlas/atlas_project/raw_data/metacells_backup/metacells/fibroblasts/seacells_hdg_patients.h5ad\")"
   ]
  },
  {
   "cell_type": "code",
   "execution_count": null,
   "metadata": {},
   "outputs": [
    {
     "data": {
      "text/plain": [
       "AnnData object with n_obs × n_vars = 6639 × 17063\n",
       "    obs: 'ID', 'sample_name', 'tissue', 'developmental_stage', 'treatment', 'recurrence', 'tumor_stage', 'paper_ID', 'anatomical_location', 'patient_id', 'dataset', 'cell_type', 'cell_subtype', 'sample_ID', 'n_genes', 'n_genes_by_counts', 'total_counts', 'total_counts_mt', 'pct_counts_mt', 'CancerMSK', 'EndothelialMSK', 'FibroblastsMSK', 'HematopoieticMSK', 'cell_labels_ratio', 'max', 'assignment', 'leiden-1.8', 'SEACell', '# Single Cells'\n",
       "    layers: 'raw'"
      ]
     },
     "execution_count": 4,
     "metadata": {},
     "output_type": "execute_result"
    }
   ],
   "source": [
    "marta_before_integration"
   ]
  },
  {
   "cell_type": "code",
   "execution_count": null,
   "metadata": {},
   "outputs": [],
   "source": [
    "marta_after_integration = sc.read_h5ad(\"/group/testa/Project/OvarianAtlas/atlas_project/raw_data/integration_backup/integration/metacells/fibroblasts/seacells_hdg_patients_batch_corr_scgen_celltypes_HDG.h5ad\")"
   ]
  },
  {
   "cell_type": "code",
   "execution_count": null,
   "metadata": {},
   "outputs": [
    {
     "data": {
      "text/plain": [
       "AnnData object with n_obs × n_vars = 6639 × 5179\n",
       "    obs: 'ID', 'sample_name', 'tissue', 'developmental_stage', 'treatment', 'recurrence', 'tumor_stage', 'paper_ID', 'anatomical_location', 'patient_id', 'dataset', 'cell_type', 'cell_subtype', 'sample_ID', 'n_genes', 'n_genes_by_counts', 'total_counts', 'total_counts_mt', 'pct_counts_mt', 'CancerMSK', 'EndothelialMSK', 'FibroblastsMSK', 'HematopoieticMSK', 'cell_labels_ratio', 'max', 'assignment', 'leiden-1.8', 'SEACell', '# Single Cells', 'tissue-treatment', 'iCAF', 'mCAF', 'vCAF', 'starCAF', 'cell_types', '_scvi_batch', '_scvi_labels'\n",
       "    uns: '_scvi_manager_uuid', '_scvi_uuid'\n",
       "    obsm: 'corrected_latent', 'latent'"
      ]
     },
     "execution_count": 6,
     "metadata": {},
     "output_type": "execute_result"
    }
   ],
   "source": [
    "marta_after_integration"
   ]
  },
  {
   "cell_type": "code",
   "execution_count": null,
   "metadata": {},
   "outputs": [],
   "source": [
    "marta_after_integration_raw = marta_after_integration.raw.to_adata()"
   ]
  },
  {
   "cell_type": "code",
   "execution_count": null,
   "metadata": {},
   "outputs": [
    {
     "data": {
      "text/plain": [
       "AnnData object with n_obs × n_vars = 6639 × 17063\n",
       "    obs: 'ID', 'sample_name', 'tissue', 'developmental_stage', 'treatment', 'recurrence', 'tumor_stage', 'paper_ID', 'anatomical_location', 'patient_id', 'dataset', 'cell_type', 'cell_subtype', 'sample_ID', 'n_genes', 'n_genes_by_counts', 'total_counts', 'total_counts_mt', 'pct_counts_mt', 'CancerMSK', 'EndothelialMSK', 'FibroblastsMSK', 'HematopoieticMSK', 'cell_labels_ratio', 'max', 'assignment', 'leiden-1.8', 'SEACell', '# Single Cells', 'tissue-treatment', 'iCAF', 'mCAF', 'vCAF', 'starCAF', 'cell_types', '_scvi_batch', '_scvi_labels'\n",
       "    var: 'highly_variable'\n",
       "    uns: '_scvi_manager_uuid', '_scvi_uuid'\n",
       "    obsm: 'corrected_latent', 'latent'"
      ]
     },
     "execution_count": 8,
     "metadata": {},
     "output_type": "execute_result"
    }
   ],
   "source": [
    "marta_after_integration_raw"
   ]
  },
  {
   "cell_type": "code",
   "execution_count": null,
   "metadata": {},
   "outputs": [
    {
     "data": {
      "text/plain": [
       "array([ True,  True,  True, ...,  True,  True,  True])"
      ]
     },
     "execution_count": 9,
     "metadata": {},
     "output_type": "execute_result"
    }
   ],
   "source": [
    "marta_before_integration.obs_names == marta_after_integration_raw.obs_names"
   ]
  },
  {
   "cell_type": "code",
   "execution_count": null,
   "metadata": {},
   "outputs": [
    {
     "data": {
      "text/plain": [
       "True"
      ]
     },
     "execution_count": 10,
     "metadata": {},
     "output_type": "execute_result"
    }
   ],
   "source": [
    "all(marta_before_integration.obs_names == marta_after_integration_raw.obs_names)"
   ]
  },
  {
   "cell_type": "code",
   "execution_count": null,
   "metadata": {},
   "outputs": [
    {
     "data": {
      "text/plain": [
       "True"
      ]
     },
     "execution_count": 11,
     "metadata": {},
     "output_type": "execute_result"
    }
   ],
   "source": [
    "all(marta_before_integration.var_names == marta_after_integration_raw.var_names)"
   ]
  },
  {
   "cell_type": "code",
   "execution_count": null,
   "metadata": {},
   "outputs": [],
   "source": [
    "from scipy.sparse import csr_matrix\n",
    "import numpy as np\n",
    "\n",
    "# Assuming marta_before_integration and marta_after_integration_raw are already defined\n",
    "# and their .X attributes are csr_matrix objects\n",
    "\n",
    "def compare_csr_matrices(matrix1: csr_matrix, matrix2: csr_matrix) -> bool:\n",
    "    \"\"\"\n",
    "    Compare two csr_matrix objects for equality.\n",
    "    \n",
    "    Parameters:\n",
    "    matrix1 (csr_matrix): First sparse matrix.\n",
    "    matrix2 (csr_matrix): Second sparse matrix.\n",
    "    \n",
    "    Returns:\n",
    "    bool: True if the matrices are equal, False otherwise.\n",
    "    \"\"\"\n",
    "    if matrix1.shape != matrix2.shape:\n",
    "        return False\n",
    "    \n",
    "    return (matrix1 != matrix2).nnz == 0\n",
    "\n",
    "# Example usage\n",
    "are_equal = compare_csr_matrices(marta_before_integration.X, marta_after_integration_raw.X)\n"
   ]
  },
  {
   "cell_type": "code",
   "execution_count": null,
   "metadata": {},
   "outputs": [
    {
     "data": {
      "text/plain": [
       "False"
      ]
     },
     "execution_count": 13,
     "metadata": {},
     "output_type": "execute_result"
    }
   ],
   "source": [
    "are_equal"
   ]
  },
  {
   "cell_type": "code",
   "execution_count": null,
   "metadata": {},
   "outputs": [
    {
     "data": {
      "text/plain": [
       "AnnData object with n_obs × n_vars = 6639 × 17063\n",
       "    obs: 'ID', 'sample_name', 'tissue', 'developmental_stage', 'treatment', 'recurrence', 'tumor_stage', 'paper_ID', 'anatomical_location', 'patient_id', 'dataset', 'cell_type', 'cell_subtype', 'sample_ID', 'n_genes', 'n_genes_by_counts', 'total_counts', 'total_counts_mt', 'pct_counts_mt', 'CancerMSK', 'EndothelialMSK', 'FibroblastsMSK', 'HematopoieticMSK', 'cell_labels_ratio', 'max', 'assignment', 'leiden-1.8', 'SEACell', '# Single Cells'\n",
       "    layers: 'raw'"
      ]
     },
     "execution_count": 14,
     "metadata": {},
     "output_type": "execute_result"
    }
   ],
   "source": [
    "marta_before_integration"
   ]
  },
  {
   "cell_type": "code",
   "execution_count": null,
   "metadata": {},
   "outputs": [
    {
     "data": {
      "text/plain": [
       "<Compressed Sparse Row sparse matrix of dtype 'float64'\n",
       "\twith 55854324 stored elements and shape (6639, 17063)>"
      ]
     },
     "execution_count": 15,
     "metadata": {},
     "output_type": "execute_result"
    }
   ],
   "source": [
    "marta_before_integration.X"
   ]
  },
  {
   "cell_type": "code",
   "execution_count": null,
   "metadata": {},
   "outputs": [
    {
     "data": {
      "text/plain": [
       "AnnData object with n_obs × n_vars = 6639 × 17063\n",
       "    obs: 'ID', 'sample_name', 'tissue', 'developmental_stage', 'treatment', 'recurrence', 'tumor_stage', 'paper_ID', 'anatomical_location', 'patient_id', 'dataset', 'cell_type', 'cell_subtype', 'sample_ID', 'n_genes', 'n_genes_by_counts', 'total_counts', 'total_counts_mt', 'pct_counts_mt', 'CancerMSK', 'EndothelialMSK', 'FibroblastsMSK', 'HematopoieticMSK', 'cell_labels_ratio', 'max', 'assignment', 'leiden-1.8', 'SEACell', '# Single Cells'\n",
       "    layers: 'raw'"
      ]
     },
     "execution_count": 16,
     "metadata": {},
     "output_type": "execute_result"
    }
   ],
   "source": [
    "marta_before_integration"
   ]
  },
  {
   "cell_type": "code",
   "execution_count": null,
   "metadata": {},
   "outputs": [
    {
     "ename": "KeyError",
     "evalue": "\"Could not find keys '['MT-C03']' in columns of `adata.obs` or in adata.var_names.\"",
     "output_type": "error",
     "traceback": [
      "\u001b[0;31m---------------------------------------------------------------------------\u001b[0m",
      "\u001b[0;31mKeyError\u001b[0m                                  Traceback (most recent call last)",
      "Cell \u001b[0;32mIn[17], line 1\u001b[0m\n\u001b[0;32m----> 1\u001b[0m sc\u001b[39m.\u001b[39;49mget\u001b[39m.\u001b[39;49mobs_df(marta_before_integration, \u001b[39m\"\u001b[39;49m\u001b[39mMT-C03\u001b[39;49m\u001b[39m\"\u001b[39;49m)\n",
      "File \u001b[0;32m/usr/local/conda/envs/downstream/lib/python3.11/site-packages/scanpy/get/get.py:292\u001b[0m, in \u001b[0;36mobs_df\u001b[0;34m(adata, keys, obsm_keys, layer, gene_symbols, use_raw)\u001b[0m\n\u001b[1;32m    289\u001b[0m     var \u001b[39m=\u001b[39m adata\u001b[39m.\u001b[39mvar\n\u001b[1;32m    290\u001b[0m alias_index \u001b[39m=\u001b[39m pd\u001b[39m.\u001b[39mIndex(var[gene_symbols]) \u001b[39mif\u001b[39;00m gene_symbols \u001b[39mis\u001b[39;00m \u001b[39mnot\u001b[39;00m \u001b[39mNone\u001b[39;00m \u001b[39melse\u001b[39;00m \u001b[39mNone\u001b[39;00m\n\u001b[0;32m--> 292\u001b[0m obs_cols, var_idx_keys, var_symbols \u001b[39m=\u001b[39m _check_indices(\n\u001b[1;32m    293\u001b[0m     adata\u001b[39m.\u001b[39;49mobs,\n\u001b[1;32m    294\u001b[0m     var\u001b[39m.\u001b[39;49mindex,\n\u001b[1;32m    295\u001b[0m     dim\u001b[39m=\u001b[39;49m\u001b[39m\"\u001b[39;49m\u001b[39mobs\u001b[39;49m\u001b[39m\"\u001b[39;49m,\n\u001b[1;32m    296\u001b[0m     keys\u001b[39m=\u001b[39;49mkeys,\n\u001b[1;32m    297\u001b[0m     alias_index\u001b[39m=\u001b[39;49malias_index,\n\u001b[1;32m    298\u001b[0m     use_raw\u001b[39m=\u001b[39;49muse_raw,\n\u001b[1;32m    299\u001b[0m )\n\u001b[1;32m    301\u001b[0m \u001b[39m# Make df\u001b[39;00m\n\u001b[1;32m    302\u001b[0m df \u001b[39m=\u001b[39m pd\u001b[39m.\u001b[39mDataFrame(index\u001b[39m=\u001b[39madata\u001b[39m.\u001b[39mobs_names)\n",
      "File \u001b[0;32m/usr/local/conda/envs/downstream/lib/python3.11/site-packages/scanpy/get/get.py:183\u001b[0m, in \u001b[0;36m_check_indices\u001b[0;34m(dim_df, alt_index, dim, keys, alias_index, use_raw)\u001b[0m\n\u001b[1;32m    181\u001b[0m         not_found\u001b[39m.\u001b[39mappend(key)\n\u001b[1;32m    182\u001b[0m \u001b[39mif\u001b[39;00m \u001b[39mlen\u001b[39m(not_found) \u001b[39m>\u001b[39m \u001b[39m0\u001b[39m:\n\u001b[0;32m--> 183\u001b[0m     \u001b[39mraise\u001b[39;00m \u001b[39mKeyError\u001b[39;00m(\n\u001b[1;32m    184\u001b[0m         \u001b[39mf\u001b[39m\u001b[39m\"\u001b[39m\u001b[39mCould not find keys \u001b[39m\u001b[39m'\u001b[39m\u001b[39m{\u001b[39;00mnot_found\u001b[39m}\u001b[39;00m\u001b[39m'\u001b[39m\u001b[39m in columns of `adata.\u001b[39m\u001b[39m{\u001b[39;00mdim\u001b[39m}\u001b[39;00m\u001b[39m` or in\u001b[39m\u001b[39m\"\u001b[39m\n\u001b[1;32m    185\u001b[0m         \u001b[39mf\u001b[39m\u001b[39m\"\u001b[39m\u001b[39m \u001b[39m\u001b[39m{\u001b[39;00malt_repr\u001b[39m}\u001b[39;00m\u001b[39m.\u001b[39m\u001b[39m{\u001b[39;00malt_search_repr\u001b[39m}\u001b[39;00m\u001b[39m.\u001b[39m\u001b[39m\"\u001b[39m\n\u001b[1;32m    186\u001b[0m     )\n\u001b[1;32m    188\u001b[0m \u001b[39mreturn\u001b[39;00m col_keys, index_keys, index_aliases\n",
      "\u001b[0;31mKeyError\u001b[0m: \"Could not find keys '['MT-C03']' in columns of `adata.obs` or in adata.var_names.\""
     ]
    }
   ],
   "source": [
    "sc.get.obs_df(marta_before_integration, \"MT-C03\")"
   ]
  },
  {
   "cell_type": "code",
   "execution_count": null,
   "metadata": {},
   "outputs": [
    {
     "ename": "KeyError",
     "evalue": "\"Could not find keys '['MT-C03']' in columns of `adata.var` or in adata.obs_names.\"",
     "output_type": "error",
     "traceback": [
      "\u001b[0;31m---------------------------------------------------------------------------\u001b[0m",
      "\u001b[0;31mKeyError\u001b[0m                                  Traceback (most recent call last)",
      "Cell \u001b[0;32mIn[18], line 1\u001b[0m\n\u001b[0;32m----> 1\u001b[0m sc\u001b[39m.\u001b[39;49mget\u001b[39m.\u001b[39;49mvar_df(marta_before_integration, \u001b[39m\"\u001b[39;49m\u001b[39mMT-C03\u001b[39;49m\u001b[39m\"\u001b[39;49m)\n",
      "File \u001b[0;32m/usr/local/conda/envs/downstream/lib/python3.11/site-packages/scanpy/get/get.py:368\u001b[0m, in \u001b[0;36mvar_df\u001b[0;34m(adata, keys, varm_keys, layer)\u001b[0m\n\u001b[1;32m    366\u001b[0m \u001b[39mif\u001b[39;00m \u001b[39misinstance\u001b[39m(keys, \u001b[39mstr\u001b[39m):\n\u001b[1;32m    367\u001b[0m     keys \u001b[39m=\u001b[39m [keys]\n\u001b[0;32m--> 368\u001b[0m var_cols, obs_idx_keys, _ \u001b[39m=\u001b[39m _check_indices(\n\u001b[1;32m    369\u001b[0m     adata\u001b[39m.\u001b[39;49mvar, adata\u001b[39m.\u001b[39;49mobs_names, dim\u001b[39m=\u001b[39;49m\u001b[39m\"\u001b[39;49m\u001b[39mvar\u001b[39;49m\u001b[39m\"\u001b[39;49m, keys\u001b[39m=\u001b[39;49mkeys\n\u001b[1;32m    370\u001b[0m )\n\u001b[1;32m    372\u001b[0m \u001b[39m# initialize df\u001b[39;00m\n\u001b[1;32m    373\u001b[0m df \u001b[39m=\u001b[39m pd\u001b[39m.\u001b[39mDataFrame(index\u001b[39m=\u001b[39madata\u001b[39m.\u001b[39mvar\u001b[39m.\u001b[39mindex)\n",
      "File \u001b[0;32m/usr/local/conda/envs/downstream/lib/python3.11/site-packages/scanpy/get/get.py:183\u001b[0m, in \u001b[0;36m_check_indices\u001b[0;34m(dim_df, alt_index, dim, keys, alias_index, use_raw)\u001b[0m\n\u001b[1;32m    181\u001b[0m         not_found\u001b[39m.\u001b[39mappend(key)\n\u001b[1;32m    182\u001b[0m \u001b[39mif\u001b[39;00m \u001b[39mlen\u001b[39m(not_found) \u001b[39m>\u001b[39m \u001b[39m0\u001b[39m:\n\u001b[0;32m--> 183\u001b[0m     \u001b[39mraise\u001b[39;00m \u001b[39mKeyError\u001b[39;00m(\n\u001b[1;32m    184\u001b[0m         \u001b[39mf\u001b[39m\u001b[39m\"\u001b[39m\u001b[39mCould not find keys \u001b[39m\u001b[39m'\u001b[39m\u001b[39m{\u001b[39;00mnot_found\u001b[39m}\u001b[39;00m\u001b[39m'\u001b[39m\u001b[39m in columns of `adata.\u001b[39m\u001b[39m{\u001b[39;00mdim\u001b[39m}\u001b[39;00m\u001b[39m` or in\u001b[39m\u001b[39m\"\u001b[39m\n\u001b[1;32m    185\u001b[0m         \u001b[39mf\u001b[39m\u001b[39m\"\u001b[39m\u001b[39m \u001b[39m\u001b[39m{\u001b[39;00malt_repr\u001b[39m}\u001b[39;00m\u001b[39m.\u001b[39m\u001b[39m{\u001b[39;00malt_search_repr\u001b[39m}\u001b[39;00m\u001b[39m.\u001b[39m\u001b[39m\"\u001b[39m\n\u001b[1;32m    186\u001b[0m     )\n\u001b[1;32m    188\u001b[0m \u001b[39mreturn\u001b[39;00m col_keys, index_keys, index_aliases\n",
      "\u001b[0;31mKeyError\u001b[0m: \"Could not find keys '['MT-C03']' in columns of `adata.var` or in adata.obs_names.\""
     ]
    }
   ],
   "source": [
    "sc.get.var_df(marta_before_integration, \"MT-C03\")"
   ]
  },
  {
   "cell_type": "code",
   "execution_count": null,
   "metadata": {},
   "outputs": [
    {
     "data": {
      "text/html": [
       "<div>\n",
       "<style scoped>\n",
       "    .dataframe tbody tr th:only-of-type {\n",
       "        vertical-align: middle;\n",
       "    }\n",
       "\n",
       "    .dataframe tbody tr th {\n",
       "        vertical-align: top;\n",
       "    }\n",
       "\n",
       "    .dataframe thead th {\n",
       "        text-align: right;\n",
       "    }\n",
       "</style>\n",
       "<table border=\"1\" class=\"dataframe\">\n",
       "  <thead>\n",
       "    <tr style=\"text-align: right;\">\n",
       "      <th></th>\n",
       "      <th>MT-CO3</th>\n",
       "    </tr>\n",
       "    <tr>\n",
       "      <th>SEACell_patient_tissue</th>\n",
       "      <th></th>\n",
       "    </tr>\n",
       "  </thead>\n",
       "  <tbody>\n",
       "    <tr>\n",
       "      <th>SEACell-137_Geistlinger_59_Metastasis</th>\n",
       "      <td>245.781372</td>\n",
       "    </tr>\n",
       "    <tr>\n",
       "      <th>SEACell-76_Geistlinger_59_Metastasis</th>\n",
       "      <td>673.179871</td>\n",
       "    </tr>\n",
       "    <tr>\n",
       "      <th>SEACell-108_Geistlinger_59_Metastasis</th>\n",
       "      <td>725.450073</td>\n",
       "    </tr>\n",
       "    <tr>\n",
       "      <th>SEACell-135_Geistlinger_59_Metastasis</th>\n",
       "      <td>209.973969</td>\n",
       "    </tr>\n",
       "    <tr>\n",
       "      <th>SEACell-101_Geistlinger_59_Metastasis</th>\n",
       "      <td>368.108002</td>\n",
       "    </tr>\n",
       "    <tr>\n",
       "      <th>...</th>\n",
       "      <td>...</td>\n",
       "    </tr>\n",
       "    <tr>\n",
       "      <th>SEACell-9_Vasquez_118_Metastasis</th>\n",
       "      <td>134.788818</td>\n",
       "    </tr>\n",
       "    <tr>\n",
       "      <th>SEACell-49_Vasquez_118_Metastasis</th>\n",
       "      <td>74.147285</td>\n",
       "    </tr>\n",
       "    <tr>\n",
       "      <th>SEACell-21_Vasquez_118_Metastasis</th>\n",
       "      <td>41.178391</td>\n",
       "    </tr>\n",
       "    <tr>\n",
       "      <th>SEACell-28_Vasquez_118_Metastasis</th>\n",
       "      <td>147.820190</td>\n",
       "    </tr>\n",
       "    <tr>\n",
       "      <th>SEACell-46_Vasquez_118_Metastasis</th>\n",
       "      <td>95.818718</td>\n",
       "    </tr>\n",
       "  </tbody>\n",
       "</table>\n",
       "<p>6639 rows × 1 columns</p>\n",
       "</div>"
      ],
      "text/plain": [
       "                                           MT-CO3\n",
       "SEACell_patient_tissue                           \n",
       "SEACell-137_Geistlinger_59_Metastasis  245.781372\n",
       "SEACell-76_Geistlinger_59_Metastasis   673.179871\n",
       "SEACell-108_Geistlinger_59_Metastasis  725.450073\n",
       "SEACell-135_Geistlinger_59_Metastasis  209.973969\n",
       "SEACell-101_Geistlinger_59_Metastasis  368.108002\n",
       "...                                           ...\n",
       "SEACell-9_Vasquez_118_Metastasis       134.788818\n",
       "SEACell-49_Vasquez_118_Metastasis       74.147285\n",
       "SEACell-21_Vasquez_118_Metastasis       41.178391\n",
       "SEACell-28_Vasquez_118_Metastasis      147.820190\n",
       "SEACell-46_Vasquez_118_Metastasis       95.818718\n",
       "\n",
       "[6639 rows x 1 columns]"
      ]
     },
     "execution_count": 19,
     "metadata": {},
     "output_type": "execute_result"
    }
   ],
   "source": [
    "sc.get.obs_df(marta_before_integration, \"MT-CO3\")"
   ]
  },
  {
   "cell_type": "code",
   "execution_count": null,
   "metadata": {},
   "outputs": [
    {
     "data": {
      "text/html": [
       "<div>\n",
       "<style scoped>\n",
       "    .dataframe tbody tr th:only-of-type {\n",
       "        vertical-align: middle;\n",
       "    }\n",
       "\n",
       "    .dataframe tbody tr th {\n",
       "        vertical-align: top;\n",
       "    }\n",
       "\n",
       "    .dataframe thead th {\n",
       "        text-align: right;\n",
       "    }\n",
       "</style>\n",
       "<table border=\"1\" class=\"dataframe\">\n",
       "  <thead>\n",
       "    <tr style=\"text-align: right;\">\n",
       "      <th></th>\n",
       "      <th>MT-CO3</th>\n",
       "    </tr>\n",
       "    <tr>\n",
       "      <th>SEACell_patient_tissue</th>\n",
       "      <th></th>\n",
       "    </tr>\n",
       "  </thead>\n",
       "  <tbody>\n",
       "    <tr>\n",
       "      <th>SEACell-137_Geistlinger_59_Metastasis</th>\n",
       "      <td>5.508503</td>\n",
       "    </tr>\n",
       "    <tr>\n",
       "      <th>SEACell-76_Geistlinger_59_Metastasis</th>\n",
       "      <td>6.513497</td>\n",
       "    </tr>\n",
       "    <tr>\n",
       "      <th>SEACell-108_Geistlinger_59_Metastasis</th>\n",
       "      <td>6.588170</td>\n",
       "    </tr>\n",
       "    <tr>\n",
       "      <th>SEACell-135_Geistlinger_59_Metastasis</th>\n",
       "      <td>5.351735</td>\n",
       "    </tr>\n",
       "    <tr>\n",
       "      <th>SEACell-101_Geistlinger_59_Metastasis</th>\n",
       "      <td>5.911089</td>\n",
       "    </tr>\n",
       "    <tr>\n",
       "      <th>...</th>\n",
       "      <td>...</td>\n",
       "    </tr>\n",
       "    <tr>\n",
       "      <th>SEACell-9_Vasquez_118_Metastasis</th>\n",
       "      <td>4.911101</td>\n",
       "    </tr>\n",
       "    <tr>\n",
       "      <th>SEACell-49_Vasquez_118_Metastasis</th>\n",
       "      <td>4.319450</td>\n",
       "    </tr>\n",
       "    <tr>\n",
       "      <th>SEACell-21_Vasquez_118_Metastasis</th>\n",
       "      <td>3.741908</td>\n",
       "    </tr>\n",
       "    <tr>\n",
       "      <th>SEACell-28_Vasquez_118_Metastasis</th>\n",
       "      <td>5.002739</td>\n",
       "    </tr>\n",
       "    <tr>\n",
       "      <th>SEACell-46_Vasquez_118_Metastasis</th>\n",
       "      <td>4.572840</td>\n",
       "    </tr>\n",
       "  </tbody>\n",
       "</table>\n",
       "<p>6639 rows × 1 columns</p>\n",
       "</div>"
      ],
      "text/plain": [
       "                                         MT-CO3\n",
       "SEACell_patient_tissue                         \n",
       "SEACell-137_Geistlinger_59_Metastasis  5.508503\n",
       "SEACell-76_Geistlinger_59_Metastasis   6.513497\n",
       "SEACell-108_Geistlinger_59_Metastasis  6.588170\n",
       "SEACell-135_Geistlinger_59_Metastasis  5.351735\n",
       "SEACell-101_Geistlinger_59_Metastasis  5.911089\n",
       "...                                         ...\n",
       "SEACell-9_Vasquez_118_Metastasis       4.911101\n",
       "SEACell-49_Vasquez_118_Metastasis      4.319450\n",
       "SEACell-21_Vasquez_118_Metastasis      3.741908\n",
       "SEACell-28_Vasquez_118_Metastasis      5.002739\n",
       "SEACell-46_Vasquez_118_Metastasis      4.572840\n",
       "\n",
       "[6639 rows x 1 columns]"
      ]
     },
     "execution_count": 20,
     "metadata": {},
     "output_type": "execute_result"
    }
   ],
   "source": [
    "sc.get.obs_df(marta_after_integration_raw, \"MT-CO3\")"
   ]
  },
  {
   "cell_type": "markdown",
   "metadata": {},
   "source": [
    "No kernel connected"
   ]
  }
 ],
 "metadata": {
  "language_info": {
   "codemirror_mode": {
    "name": "ipython",
    "version": 3
   },
   "file_extension": ".py",
   "mimetype": "text/x-python",
   "name": "python",
   "nbconvert_exporter": "python",
   "pygments_lexer": "ipython3",
   "version": 3
  }
 },
 "nbformat": 4,
 "nbformat_minor": 2
}
