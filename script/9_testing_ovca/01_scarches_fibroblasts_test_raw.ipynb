{
 "cells": [
  {
   "cell_type": "code",
   "execution_count": null,
   "id": "d6b194eb-63c6-41b8-b7bc-9764759c5486",
   "metadata": {},
   "outputs": [],
   "source": [
    "import os"
   ]
  },
  {
   "cell_type": "code",
   "execution_count": null,
   "id": "9c35a2fc-b051-4ba2-ae60-ca9be3d664f8",
   "metadata": {},
   "outputs": [],
   "source": [
    "import os"
   ]
  },
  {
   "cell_type": "code",
   "execution_count": null,
   "id": "d6a75bd3-58ed-43a4-a476-c55efcc5ea66",
   "metadata": {},
   "outputs": [
    {
     "name": "stderr",
     "output_type": "stream",
     "text": [
      "WARNING:root:In order to use the mouse gastrulation seqFISH datsets, please install squidpy (see https://github.com/scverse/squidpy).\n",
      "/usr/local/conda/envs/scarches/lib/python3.9/site-packages/tqdm/auto.py:21: TqdmWarning: IProgress not found. Please update jupyter and ipywidgets. See https://ipywidgets.readthedocs.io/en/stable/user_install.html\n",
      "  from .autonotebook import tqdm as notebook_tqdm\n",
      "WARNING:root:In order to use sagenet models, please install pytorch geometric (see https://pytorch-geometric.readthedocs.io) and \n",
      " captum (see https://github.com/pytorch/captum).\n",
      "WARNING:root:mvTCR is not installed. To use mvTCR models, please install it first using \"pip install mvtcr\"\n",
      "WARNING:root:multigrate is not installed. To use multigrate models, please install it first using \"pip install multigrate\".\n"
     ]
    }
   ],
   "source": [
    "#%%\n",
    "\n",
    "import scanpy as sc\n",
    "import pandas as pd\n",
    "import numpy as np\n",
    "import scarches as sca\n",
    "from scarches.dataset.trvae.data_handling import remove_sparsity\n",
    "from scipy import sparse\n",
    "from anndata import AnnData\n",
    "from typing import Optional, Union\n",
    "\n",
    "## Initialize folders"
   ]
  },
  {
   "cell_type": "code",
   "execution_count": null,
   "id": "c2424f4d-436a-48e6-9221-6fb4a9d9de88",
   "metadata": {},
   "outputs": [],
   "source": [
    "#%%\n",
    "\n",
    "import configparser\n",
    "\n",
    "# Read configuration file\n",
    "config = configparser.ConfigParser()\n",
    "config.read(\"../../utils/config.ini\")\n",
    "\n",
    "rawPath = config.get(\"DEFAULT\", \"rawPath\")\n",
    "scriptsPath = config.get(\"DEFAULT\", \"scriptsPath\")\n",
    "figPath = config.get(\"DEFAULT\", \"figPath\")\n",
    "\n",
    "initDir = rawPath + 'metacells_step0/fibroblasts/'\n",
    "outDir = rawPath + 'integration/metacells/fibroblasts_testing_ovca/'\n",
    "ooseDir = rawPath + 'out_of_sample_extension/fibroblasts_testing_ovca/'\n",
    "genes = scriptsPath + '4_hdg/Tables/atlas_hdg_dispersion_patients_fibroblasts.csv'"
   ]
  },
  {
   "cell_type": "code",
   "execution_count": null,
   "id": "4ce16e2d-9bdf-4de3-94f9-96f996c1be35",
   "metadata": {},
   "outputs": [],
   "source": [
    "#%%\n",
    "\n",
    "if not os.path.exists(outDir):\n",
    "    os.makedirs(outDir)\n",
    "## Setting fig parameteres\n",
    "sc.settings.set_figure_params(dpi_save=300, frameon=False, format='png')\n",
    "sc.settings.figdir = figPath + \"oose/fibroblasts_testing/\"\n",
    "\n",
    "## Loading reference data and creating integration model"
   ]
  },
  {
   "cell_type": "code",
   "execution_count": null,
   "metadata": {},
   "outputs": [
    {
     "ename": "NameError",
     "evalue": "name 'Geistlinger2020_filt_norm_nolog' is not defined",
     "output_type": "error",
     "traceback": [
      "\u001b[0;31m---------------------------------------------------------------------------\u001b[0m",
      "\u001b[0;31mNameError\u001b[0m                                 Traceback (most recent call last)",
      "Cell \u001b[0;32mIn[6], line 1\u001b[0m\n\u001b[0;32m----> 1\u001b[0m Geistlinger2020_filt_norm_nolog\n",
      "\u001b[0;31mNameError\u001b[0m: name 'Geistlinger2020_filt_norm_nolog' is not defined"
     ]
    }
   ],
   "source": [
    "Geistlinger2020_filt_norm_nolog"
   ]
  },
  {
   "cell_type": "code",
   "execution_count": null,
   "metadata": {},
   "outputs": [],
   "source": [
    "path = rawPath"
   ]
  },
  {
   "cell_type": "code",
   "execution_count": null,
   "metadata": {},
   "outputs": [
    {
     "data": {
      "text/plain": [
       "'/group/testa/Project/OvarianAtlasTestStep0/raw_data/'"
      ]
     },
     "execution_count": 8,
     "metadata": {},
     "output_type": "execute_result"
    }
   ],
   "source": [
    "rawPath"
   ]
  },
  {
   "cell_type": "code",
   "execution_count": null,
   "metadata": {},
   "outputs": [
    {
     "data": {
      "text/plain": [
       "'/group/testa/Project/OvarianAtlasTestStep0/raw_data/'"
      ]
     },
     "execution_count": 9,
     "metadata": {},
     "output_type": "execute_result"
    }
   ],
   "source": [
    "rawPath"
   ]
  },
  {
   "cell_type": "code",
   "execution_count": null,
   "metadata": {},
   "outputs": [],
   "source": [
    "initPath = \"/group/testa/Project/OvarianAtlasTestStep0/raw_data/original_counts/Geistlinger2020/Adata/geistlinger2020_rawcounts.h5ad\""
   ]
  },
  {
   "cell_type": "code",
   "execution_count": null,
   "metadata": {},
   "outputs": [],
   "source": [
    "init = sc.read_h5ad(initPath)"
   ]
  },
  {
   "cell_type": "code",
   "execution_count": null,
   "metadata": {},
   "outputs": [
    {
     "ename": "NameError",
     "evalue": "name 'ini' is not defined",
     "output_type": "error",
     "traceback": [
      "\u001b[0;31m---------------------------------------------------------------------------\u001b[0m",
      "\u001b[0;31mNameError\u001b[0m                                 Traceback (most recent call last)",
      "Cell \u001b[0;32mIn[12], line 1\u001b[0m\n\u001b[0;32m----> 1\u001b[0m ini\n",
      "\u001b[0;31mNameError\u001b[0m: name 'ini' is not defined"
     ]
    }
   ],
   "source": [
    "ini"
   ]
  },
  {
   "cell_type": "code",
   "execution_count": null,
   "metadata": {},
   "outputs": [
    {
     "data": {
      "text/plain": [
       "AnnData object with n_obs × n_vars = 52121 × 33538\n",
       "    obs: 'ID', 'sample_name', 'tissue', 'developmental_stage', 'treatment', 'recurrence', 'tumor_stage', 'paper_ID', 'anatomical_location'\n",
       "    uns: 'preprocessing'"
      ]
     },
     "execution_count": 13,
     "metadata": {},
     "output_type": "execute_result"
    }
   ],
   "source": [
    "init"
   ]
  },
  {
   "cell_type": "code",
   "execution_count": null,
   "metadata": {},
   "outputs": [
    {
     "data": {
      "text/plain": [
       "<52121x33538 sparse matrix of type '<class 'numpy.float32'>'\n",
       "\twith 74403955 stored elements in Compressed Sparse Row format>"
      ]
     },
     "execution_count": 14,
     "metadata": {},
     "output_type": "execute_result"
    }
   ],
   "source": [
    "init.X"
   ]
  },
  {
   "cell_type": "code",
   "execution_count": null,
   "metadata": {},
   "outputs": [
    {
     "data": {
      "text/plain": [
       "matrix([[0., 0., 0., 0., 0., 0., 0., ..., 0., 0., 0., 0., 0., 0., 0.],\n",
       "        [0., 0., 0., 0., 0., 0., 0., ..., 0., 0., 0., 0., 0., 0., 0.],\n",
       "        [0., 0., 0., 0., 0., 0., 0., ..., 0., 0., 0., 0., 0., 0., 0.],\n",
       "        [0., 0., 0., 0., 0., 0., 0., ..., 0., 0., 0., 0., 0., 0., 0.],\n",
       "        [0., 0., 0., 0., 0., 0., 0., ..., 0., 0., 0., 0., 0., 0., 0.],\n",
       "        [0., 0., 0., 0., 0., 0., 0., ..., 0., 0., 0., 0., 0., 0., 0.],\n",
       "        [0., 0., 0., 0., 0., 0., 0., ..., 0., 0., 0., 0., 0., 0., 0.],\n",
       "        ...,\n",
       "        [0., 0., 0., 0., 0., 0., 0., ..., 0., 0., 0., 0., 0., 0., 0.],\n",
       "        [0., 0., 0., 0., 0., 0., 0., ..., 0., 0., 0., 0., 0., 0., 0.],\n",
       "        [0., 0., 0., 0., 0., 0., 0., ..., 0., 0., 0., 0., 0., 0., 0.],\n",
       "        [0., 0., 0., 0., 0., 0., 0., ..., 0., 0., 0., 0., 0., 0., 0.],\n",
       "        [0., 0., 0., 0., 0., 0., 0., ..., 0., 0., 0., 0., 0., 0., 0.],\n",
       "        [0., 0., 0., 0., 0., 0., 0., ..., 0., 0., 0., 0., 0., 0., 0.],\n",
       "        [0., 0., 0., 0., 0., 0., 0., ..., 0., 0., 0., 0., 0., 0., 0.]],\n",
       "       dtype=float32)"
      ]
     },
     "execution_count": 15,
     "metadata": {},
     "output_type": "execute_result"
    }
   ],
   "source": [
    "init.X.todense()"
   ]
  },
  {
   "cell_type": "code",
   "execution_count": null,
   "metadata": {},
   "outputs": [
    {
     "data": {
      "text/html": [
       "<div>\n",
       "<style scoped>\n",
       "    .dataframe tbody tr th:only-of-type {\n",
       "        vertical-align: middle;\n",
       "    }\n",
       "\n",
       "    .dataframe tbody tr th {\n",
       "        vertical-align: top;\n",
       "    }\n",
       "\n",
       "    .dataframe thead th {\n",
       "        text-align: right;\n",
       "    }\n",
       "</style>\n",
       "<table border=\"1\" class=\"dataframe\">\n",
       "  <thead>\n",
       "    <tr style=\"text-align: right;\">\n",
       "      <th></th>\n",
       "      <th>ID</th>\n",
       "      <th>sample_name</th>\n",
       "      <th>tissue</th>\n",
       "      <th>developmental_stage</th>\n",
       "      <th>treatment</th>\n",
       "      <th>recurrence</th>\n",
       "      <th>tumor_stage</th>\n",
       "      <th>paper_ID</th>\n",
       "      <th>anatomical_location</th>\n",
       "    </tr>\n",
       "  </thead>\n",
       "  <tbody>\n",
       "    <tr>\n",
       "      <th>AAACCTGAGACTTGAA-1-T59</th>\n",
       "      <td>T59</td>\n",
       "      <td>GSM4675273</td>\n",
       "      <td>Metastasis</td>\n",
       "      <td>Advanced stage</td>\n",
       "      <td>CHT</td>\n",
       "      <td>Recurrence</td>\n",
       "      <td>IV</td>\n",
       "      <td>Geistlinger_59</td>\n",
       "      <td>Omentum</td>\n",
       "    </tr>\n",
       "    <tr>\n",
       "      <th>AAACCTGAGAGACGAA-1-T59</th>\n",
       "      <td>T59</td>\n",
       "      <td>GSM4675273</td>\n",
       "      <td>Metastasis</td>\n",
       "      <td>Advanced stage</td>\n",
       "      <td>CHT</td>\n",
       "      <td>Recurrence</td>\n",
       "      <td>IV</td>\n",
       "      <td>Geistlinger_59</td>\n",
       "      <td>Omentum</td>\n",
       "    </tr>\n",
       "    <tr>\n",
       "      <th>AAACCTGAGAGTACCG-1-T59</th>\n",
       "      <td>T59</td>\n",
       "      <td>GSM4675273</td>\n",
       "      <td>Metastasis</td>\n",
       "      <td>Advanced stage</td>\n",
       "      <td>CHT</td>\n",
       "      <td>Recurrence</td>\n",
       "      <td>IV</td>\n",
       "      <td>Geistlinger_59</td>\n",
       "      <td>Omentum</td>\n",
       "    </tr>\n",
       "    <tr>\n",
       "      <th>AAACCTGAGTCATCCA-1-T59</th>\n",
       "      <td>T59</td>\n",
       "      <td>GSM4675273</td>\n",
       "      <td>Metastasis</td>\n",
       "      <td>Advanced stage</td>\n",
       "      <td>CHT</td>\n",
       "      <td>Recurrence</td>\n",
       "      <td>IV</td>\n",
       "      <td>Geistlinger_59</td>\n",
       "      <td>Omentum</td>\n",
       "    </tr>\n",
       "    <tr>\n",
       "      <th>AAACCTGAGTGCGATG-1-T59</th>\n",
       "      <td>T59</td>\n",
       "      <td>GSM4675273</td>\n",
       "      <td>Metastasis</td>\n",
       "      <td>Advanced stage</td>\n",
       "      <td>CHT</td>\n",
       "      <td>Recurrence</td>\n",
       "      <td>IV</td>\n",
       "      <td>Geistlinger_59</td>\n",
       "      <td>Omentum</td>\n",
       "    </tr>\n",
       "    <tr>\n",
       "      <th>...</th>\n",
       "      <td>...</td>\n",
       "      <td>...</td>\n",
       "      <td>...</td>\n",
       "      <td>...</td>\n",
       "      <td>...</td>\n",
       "      <td>...</td>\n",
       "      <td>...</td>\n",
       "      <td>...</td>\n",
       "      <td>...</td>\n",
       "    </tr>\n",
       "    <tr>\n",
       "      <th>TTTGTCAGTCGCATCG-1-T90</th>\n",
       "      <td>T90</td>\n",
       "      <td>GSM4675277</td>\n",
       "      <td>Metastasis</td>\n",
       "      <td>Advanced stage</td>\n",
       "      <td>CHT</td>\n",
       "      <td>Sensitive</td>\n",
       "      <td>IVA</td>\n",
       "      <td>Geistlinger_90</td>\n",
       "      <td>Omentum</td>\n",
       "    </tr>\n",
       "    <tr>\n",
       "      <th>TTTGTCAGTCGCCATG-1-T90</th>\n",
       "      <td>T90</td>\n",
       "      <td>GSM4675277</td>\n",
       "      <td>Metastasis</td>\n",
       "      <td>Advanced stage</td>\n",
       "      <td>CHT</td>\n",
       "      <td>Sensitive</td>\n",
       "      <td>IVA</td>\n",
       "      <td>Geistlinger_90</td>\n",
       "      <td>Omentum</td>\n",
       "    </tr>\n",
       "    <tr>\n",
       "      <th>TTTGTCAGTGAAAGAG-1-T90</th>\n",
       "      <td>T90</td>\n",
       "      <td>GSM4675277</td>\n",
       "      <td>Metastasis</td>\n",
       "      <td>Advanced stage</td>\n",
       "      <td>CHT</td>\n",
       "      <td>Sensitive</td>\n",
       "      <td>IVA</td>\n",
       "      <td>Geistlinger_90</td>\n",
       "      <td>Omentum</td>\n",
       "    </tr>\n",
       "    <tr>\n",
       "      <th>TTTGTCATCAAGAAGT-1-T90</th>\n",
       "      <td>T90</td>\n",
       "      <td>GSM4675277</td>\n",
       "      <td>Metastasis</td>\n",
       "      <td>Advanced stage</td>\n",
       "      <td>CHT</td>\n",
       "      <td>Sensitive</td>\n",
       "      <td>IVA</td>\n",
       "      <td>Geistlinger_90</td>\n",
       "      <td>Omentum</td>\n",
       "    </tr>\n",
       "    <tr>\n",
       "      <th>TTTGTCATCTGATTCT-1-T90</th>\n",
       "      <td>T90</td>\n",
       "      <td>GSM4675277</td>\n",
       "      <td>Metastasis</td>\n",
       "      <td>Advanced stage</td>\n",
       "      <td>CHT</td>\n",
       "      <td>Sensitive</td>\n",
       "      <td>IVA</td>\n",
       "      <td>Geistlinger_90</td>\n",
       "      <td>Omentum</td>\n",
       "    </tr>\n",
       "  </tbody>\n",
       "</table>\n",
       "<p>52121 rows × 9 columns</p>\n",
       "</div>"
      ],
      "text/plain": [
       "                         ID sample_name      tissue developmental_stage  \\\n",
       "AAACCTGAGACTTGAA-1-T59  T59  GSM4675273  Metastasis      Advanced stage   \n",
       "AAACCTGAGAGACGAA-1-T59  T59  GSM4675273  Metastasis      Advanced stage   \n",
       "AAACCTGAGAGTACCG-1-T59  T59  GSM4675273  Metastasis      Advanced stage   \n",
       "AAACCTGAGTCATCCA-1-T59  T59  GSM4675273  Metastasis      Advanced stage   \n",
       "AAACCTGAGTGCGATG-1-T59  T59  GSM4675273  Metastasis      Advanced stage   \n",
       "...                     ...         ...         ...                 ...   \n",
       "TTTGTCAGTCGCATCG-1-T90  T90  GSM4675277  Metastasis      Advanced stage   \n",
       "TTTGTCAGTCGCCATG-1-T90  T90  GSM4675277  Metastasis      Advanced stage   \n",
       "TTTGTCAGTGAAAGAG-1-T90  T90  GSM4675277  Metastasis      Advanced stage   \n",
       "TTTGTCATCAAGAAGT-1-T90  T90  GSM4675277  Metastasis      Advanced stage   \n",
       "TTTGTCATCTGATTCT-1-T90  T90  GSM4675277  Metastasis      Advanced stage   \n",
       "\n",
       "                       treatment  recurrence tumor_stage        paper_ID  \\\n",
       "AAACCTGAGACTTGAA-1-T59       CHT  Recurrence          IV  Geistlinger_59   \n",
       "AAACCTGAGAGACGAA-1-T59       CHT  Recurrence          IV  Geistlinger_59   \n",
       "AAACCTGAGAGTACCG-1-T59       CHT  Recurrence          IV  Geistlinger_59   \n",
       "AAACCTGAGTCATCCA-1-T59       CHT  Recurrence          IV  Geistlinger_59   \n",
       "AAACCTGAGTGCGATG-1-T59       CHT  Recurrence          IV  Geistlinger_59   \n",
       "...                          ...         ...         ...             ...   \n",
       "TTTGTCAGTCGCATCG-1-T90       CHT   Sensitive         IVA  Geistlinger_90   \n",
       "TTTGTCAGTCGCCATG-1-T90       CHT   Sensitive         IVA  Geistlinger_90   \n",
       "TTTGTCAGTGAAAGAG-1-T90       CHT   Sensitive         IVA  Geistlinger_90   \n",
       "TTTGTCATCAAGAAGT-1-T90       CHT   Sensitive         IVA  Geistlinger_90   \n",
       "TTTGTCATCTGATTCT-1-T90       CHT   Sensitive         IVA  Geistlinger_90   \n",
       "\n",
       "                       anatomical_location  \n",
       "AAACCTGAGACTTGAA-1-T59             Omentum  \n",
       "AAACCTGAGAGACGAA-1-T59             Omentum  \n",
       "AAACCTGAGAGTACCG-1-T59             Omentum  \n",
       "AAACCTGAGTCATCCA-1-T59             Omentum  \n",
       "AAACCTGAGTGCGATG-1-T59             Omentum  \n",
       "...                                    ...  \n",
       "TTTGTCAGTCGCATCG-1-T90             Omentum  \n",
       "TTTGTCAGTCGCCATG-1-T90             Omentum  \n",
       "TTTGTCAGTGAAAGAG-1-T90             Omentum  \n",
       "TTTGTCATCAAGAAGT-1-T90             Omentum  \n",
       "TTTGTCATCTGATTCT-1-T90             Omentum  \n",
       "\n",
       "[52121 rows x 9 columns]"
      ]
     },
     "execution_count": 16,
     "metadata": {},
     "output_type": "execute_result"
    }
   ],
   "source": [
    "init.obs"
   ]
  },
  {
   "cell_type": "code",
   "execution_count": null,
   "id": "5500708e-8a92-4dfd-929c-17703deea590",
   "metadata": {},
   "outputs": [
    {
     "name": "stderr",
     "output_type": "stream",
     "text": [
      "<ipython-input-17-60b035c1c8b6>:6: ImplicitModificationWarning: Trying to modify attribute `.obs` of view, initializing view as actual.\n",
      "  ad.obs['tissue-treatment'] = ad.obs['02_tissue'].astype('str') + '_' + ad.obs['03_treatment'].astype('str')\n"
     ]
    }
   ],
   "source": [
    "#%%\n",
    "\n",
    "ad = sc.read_h5ad(\"/group/testa/Project/OvarianAtlasTestStep0/OvCA_umap_tiled.h5ad\")\n",
    "major_cell_type = \"FibroblastsMSK\"\n",
    "ad = ad[ad.obs[\"01_major_celltypes\"] == major_cell_type]\n",
    "\n",
    "ad.obs['tissue-treatment'] = ad.obs['02_tissue'].astype('str') + '_' + ad.obs['03_treatment'].astype('str')\n",
    "ad.obs['cell_type'] = ad.obs.loc[:, 'tissue-treatment']"
   ]
  },
  {
   "cell_type": "code",
   "execution_count": null,
   "metadata": {},
   "outputs": [
    {
     "data": {
      "text/plain": [
       "AnnData object with n_obs × n_vars = 6639 × 1542\n",
       "    obs: '02_tissue', '12_developmental_stage', '03_treatment', '11_recurrence', '10_tumor_stage', '14_paper_ID', '09_anatomical_location', '13_dataset', '08_phase', '07_cell_states', '05_cell_types', '06_cell_subtypes', '01_major_celltypes', '04_functional_annotation', 'tissue-treatment', 'cell_type'\n",
       "    uns: 'functional_annotation_colors', 'major_celltypes_colors', 'tissue_colors'\n",
       "    obsm: 'X_umap_shifted'"
      ]
     },
     "execution_count": 18,
     "metadata": {},
     "output_type": "execute_result"
    }
   ],
   "source": [
    "ad"
   ]
  },
  {
   "cell_type": "code",
   "execution_count": null,
   "metadata": {},
   "outputs": [
    {
     "data": {
      "text/plain": [
       "array([[ 1.61e+00,  3.93e+00,  5.02e+00,  2.74e-01,  2.86e-01,  1.72e+00,\n",
       "        -8.57e-02, ...,  4.34e-02,  4.59e+00,  4.66e+00,  6.00e+00,\n",
       "         6.03e+00,  1.33e+00,  6.95e-02],\n",
       "       [ 1.79e+00,  3.55e+00,  5.31e+00,  2.93e-01,  6.91e-02,  2.20e+00,\n",
       "        -7.51e-02, ...,  3.23e-02,  4.99e+00,  4.77e+00,  6.36e+00,\n",
       "         6.37e+00,  1.52e+00,  4.18e-02],\n",
       "       [ 1.63e+00,  2.95e+00,  4.97e+00,  1.65e-01, -3.10e-02,  1.69e+00,\n",
       "        -5.04e-02, ..., -1.04e-02,  4.69e+00,  4.22e+00,  5.88e+00,\n",
       "         5.95e+00,  1.14e+00, -4.77e-03],\n",
       "       [ 1.36e+00,  2.98e+00,  4.69e+00,  1.52e-01,  6.02e-02,  1.29e+00,\n",
       "        -7.05e-02, ..., -3.57e-03,  4.35e+00,  4.03e+00,  5.56e+00,\n",
       "         5.62e+00,  1.07e+00,  3.37e-02],\n",
       "       [ 1.49e+00,  3.26e+00,  4.85e+00,  1.43e-01,  6.47e-02,  1.71e+00,\n",
       "        -7.99e-02, ...,  3.77e-02,  4.48e+00,  4.13e+00,  5.79e+00,\n",
       "         5.85e+00,  9.65e-01, -1.79e-02],\n",
       "       [ 1.46e+00,  3.33e+00,  5.04e+00,  2.30e-01,  2.33e-01,  1.27e+00,\n",
       "        -6.59e-02, ...,  1.35e-02,  4.58e+00,  4.27e+00,  5.80e+00,\n",
       "         5.85e+00,  1.19e+00,  8.46e-02],\n",
       "       [ 1.53e+00,  3.03e+00,  4.54e+00,  1.24e-01,  2.86e-02,  1.99e+00,\n",
       "        -9.63e-02, ...,  1.72e-02,  4.32e+00,  4.15e+00,  5.66e+00,\n",
       "         5.67e+00,  1.01e+00, -1.91e-02],\n",
       "       ...,\n",
       "       [ 6.33e-01,  1.16e+00,  2.72e+00,  1.27e-01, -3.35e-02,  6.09e-01,\n",
       "         4.93e-02, ...,  6.41e-03,  2.67e+00,  2.05e+00,  2.81e+00,\n",
       "         2.86e+00,  5.31e-01,  8.19e-04],\n",
       "       [ 4.98e-02,  1.09e-01,  4.97e-01,  5.13e-02,  2.49e-02,  4.31e-02,\n",
       "         1.18e-02, ...,  5.58e-03,  4.12e-01,  2.74e-01,  5.82e-01,\n",
       "         6.54e-01,  2.25e-02, -2.88e-03],\n",
       "       [ 8.49e-02,  4.73e-01,  8.33e-01,  3.39e-02, -2.88e-02,  4.86e-02,\n",
       "         1.59e-03, ...,  2.85e-03,  8.26e-01,  7.16e-01,  1.21e+00,\n",
       "         1.39e+00,  3.39e-02, -1.08e-02],\n",
       "       [ 5.52e-02,  1.23e-01,  5.56e-01,  3.70e-02,  1.36e-02,  2.02e-02,\n",
       "         7.69e-03, ...,  4.65e-03,  4.60e-01,  3.42e-01,  7.84e-01,\n",
       "         8.59e-01,  1.68e-02, -7.33e-03],\n",
       "       [ 1.19e-01,  1.78e-01,  5.56e-01,  4.23e-02,  2.24e-02,  2.06e-02,\n",
       "         5.94e-03, ...,  4.74e-03,  5.20e-01,  3.98e-01,  7.68e-01,\n",
       "         8.66e-01,  9.64e-03, -1.04e-02],\n",
       "       [ 1.45e-01,  1.05e+00,  1.32e+00,  3.23e-02,  4.63e-02,  6.77e-02,\n",
       "         1.84e-02, ..., -7.79e-03,  1.18e+00,  1.32e+00,  1.71e+00,\n",
       "         1.98e+00,  4.85e-02, -1.96e-02],\n",
       "       [ 8.19e-02,  2.09e-01,  6.24e-01,  3.23e-02, -1.30e-02,  1.23e-02,\n",
       "         2.75e-03, ...,  9.78e-03,  5.57e-01,  4.79e-01,  9.48e-01,\n",
       "         1.06e+00,  2.34e-02, -1.76e-02]], dtype=float32)"
      ]
     },
     "execution_count": 19,
     "metadata": {},
     "output_type": "execute_result"
    }
   ],
   "source": [
    "ad.X"
   ]
  },
  {
   "cell_type": "code",
   "execution_count": null,
   "metadata": {},
   "outputs": [
    {
     "ename": "AttributeError",
     "evalue": "'numpy.ndarray' object has no attribute 'raw'",
     "output_type": "error",
     "traceback": [
      "\u001b[0;31m---------------------------------------------------------------------------\u001b[0m",
      "\u001b[0;31mAttributeError\u001b[0m                            Traceback (most recent call last)",
      "Cell \u001b[0;32mIn[20], line 1\u001b[0m\n\u001b[0;32m----> 1\u001b[0m ad\u001b[39m.\u001b[39;49mX\u001b[39m.\u001b[39;49mraw\n",
      "\u001b[0;31mAttributeError\u001b[0m: 'numpy.ndarray' object has no attribute 'raw'"
     ]
    }
   ],
   "source": [
    "ad.X.raw"
   ]
  },
  {
   "cell_type": "code",
   "execution_count": null,
   "metadata": {},
   "outputs": [
    {
     "data": {
      "text/plain": [
       "<anndata._core.raw.Raw at 0x155432836460>"
      ]
     },
     "execution_count": 21,
     "metadata": {},
     "output_type": "execute_result"
    }
   ],
   "source": [
    "ad.raw"
   ]
  },
  {
   "cell_type": "code",
   "execution_count": null,
   "metadata": {},
   "outputs": [
    {
     "data": {
      "text/plain": [
       "<6639x17063 sparse matrix of type '<class 'numpy.float32'>'\n",
       "\twith 55854324 stored elements in Compressed Sparse Row format>"
      ]
     },
     "execution_count": 22,
     "metadata": {},
     "output_type": "execute_result"
    }
   ],
   "source": [
    "ad.raw.X"
   ]
  },
  {
   "cell_type": "code",
   "execution_count": null,
   "metadata": {},
   "outputs": [],
   "source": [
    "x = ad.X"
   ]
  },
  {
   "cell_type": "code",
   "execution_count": null,
   "metadata": {},
   "outputs": [],
   "source": [
    "xRaw = ad.raw.X"
   ]
  },
  {
   "cell_type": "code",
   "execution_count": null,
   "metadata": {},
   "outputs": [
    {
     "data": {
      "text/plain": [
       "array([[ 1.61e+00,  3.93e+00,  5.02e+00,  2.74e-01,  2.86e-01,  1.72e+00,\n",
       "        -8.57e-02, ...,  4.34e-02,  4.59e+00,  4.66e+00,  6.00e+00,\n",
       "         6.03e+00,  1.33e+00,  6.95e-02],\n",
       "       [ 1.79e+00,  3.55e+00,  5.31e+00,  2.93e-01,  6.91e-02,  2.20e+00,\n",
       "        -7.51e-02, ...,  3.23e-02,  4.99e+00,  4.77e+00,  6.36e+00,\n",
       "         6.37e+00,  1.52e+00,  4.18e-02],\n",
       "       [ 1.63e+00,  2.95e+00,  4.97e+00,  1.65e-01, -3.10e-02,  1.69e+00,\n",
       "        -5.04e-02, ..., -1.04e-02,  4.69e+00,  4.22e+00,  5.88e+00,\n",
       "         5.95e+00,  1.14e+00, -4.77e-03],\n",
       "       [ 1.36e+00,  2.98e+00,  4.69e+00,  1.52e-01,  6.02e-02,  1.29e+00,\n",
       "        -7.05e-02, ..., -3.57e-03,  4.35e+00,  4.03e+00,  5.56e+00,\n",
       "         5.62e+00,  1.07e+00,  3.37e-02],\n",
       "       [ 1.49e+00,  3.26e+00,  4.85e+00,  1.43e-01,  6.47e-02,  1.71e+00,\n",
       "        -7.99e-02, ...,  3.77e-02,  4.48e+00,  4.13e+00,  5.79e+00,\n",
       "         5.85e+00,  9.65e-01, -1.79e-02],\n",
       "       [ 1.46e+00,  3.33e+00,  5.04e+00,  2.30e-01,  2.33e-01,  1.27e+00,\n",
       "        -6.59e-02, ...,  1.35e-02,  4.58e+00,  4.27e+00,  5.80e+00,\n",
       "         5.85e+00,  1.19e+00,  8.46e-02],\n",
       "       [ 1.53e+00,  3.03e+00,  4.54e+00,  1.24e-01,  2.86e-02,  1.99e+00,\n",
       "        -9.63e-02, ...,  1.72e-02,  4.32e+00,  4.15e+00,  5.66e+00,\n",
       "         5.67e+00,  1.01e+00, -1.91e-02],\n",
       "       ...,\n",
       "       [ 6.33e-01,  1.16e+00,  2.72e+00,  1.27e-01, -3.35e-02,  6.09e-01,\n",
       "         4.93e-02, ...,  6.41e-03,  2.67e+00,  2.05e+00,  2.81e+00,\n",
       "         2.86e+00,  5.31e-01,  8.19e-04],\n",
       "       [ 4.98e-02,  1.09e-01,  4.97e-01,  5.13e-02,  2.49e-02,  4.31e-02,\n",
       "         1.18e-02, ...,  5.58e-03,  4.12e-01,  2.74e-01,  5.82e-01,\n",
       "         6.54e-01,  2.25e-02, -2.88e-03],\n",
       "       [ 8.49e-02,  4.73e-01,  8.33e-01,  3.39e-02, -2.88e-02,  4.86e-02,\n",
       "         1.59e-03, ...,  2.85e-03,  8.26e-01,  7.16e-01,  1.21e+00,\n",
       "         1.39e+00,  3.39e-02, -1.08e-02],\n",
       "       [ 5.52e-02,  1.23e-01,  5.56e-01,  3.70e-02,  1.36e-02,  2.02e-02,\n",
       "         7.69e-03, ...,  4.65e-03,  4.60e-01,  3.42e-01,  7.84e-01,\n",
       "         8.59e-01,  1.68e-02, -7.33e-03],\n",
       "       [ 1.19e-01,  1.78e-01,  5.56e-01,  4.23e-02,  2.24e-02,  2.06e-02,\n",
       "         5.94e-03, ...,  4.74e-03,  5.20e-01,  3.98e-01,  7.68e-01,\n",
       "         8.66e-01,  9.64e-03, -1.04e-02],\n",
       "       [ 1.45e-01,  1.05e+00,  1.32e+00,  3.23e-02,  4.63e-02,  6.77e-02,\n",
       "         1.84e-02, ..., -7.79e-03,  1.18e+00,  1.32e+00,  1.71e+00,\n",
       "         1.98e+00,  4.85e-02, -1.96e-02],\n",
       "       [ 8.19e-02,  2.09e-01,  6.24e-01,  3.23e-02, -1.30e-02,  1.23e-02,\n",
       "         2.75e-03, ...,  9.78e-03,  5.57e-01,  4.79e-01,  9.48e-01,\n",
       "         1.06e+00,  2.34e-02, -1.76e-02]], dtype=float32)"
      ]
     },
     "execution_count": 25,
     "metadata": {},
     "output_type": "execute_result"
    }
   ],
   "source": [
    "x"
   ]
  },
  {
   "cell_type": "code",
   "execution_count": null,
   "metadata": {},
   "outputs": [],
   "source": [
    "xRaw = xRaw.todense()"
   ]
  },
  {
   "cell_type": "code",
   "execution_count": null,
   "metadata": {},
   "outputs": [
    {
     "data": {
      "text/plain": [
       "matrix([[0.  , 0.7 , 0.67, 2.28, 3.35, 0.69, 1.41, ..., 5.19, 4.71, 3.38,\n",
       "         5.23, 4.25, 0.75, 4.97],\n",
       "        [0.  , 1.26, 1.05, 0.63, 4.07, 1.37, 1.96, ..., 5.82, 5.33, 4.11,\n",
       "         5.86, 5.04, 2.15, 5.7 ],\n",
       "        [0.  , 0.  , 1.69, 0.83, 3.02, 0.77, 1.51, ..., 6.23, 6.05, 4.98,\n",
       "         6.37, 5.76, 2.04, 6.21],\n",
       "        [0.77, 0.  , 0.86, 0.88, 3.55, 0.66, 1.69, ..., 5.91, 5.66, 4.46,\n",
       "         5.98, 5.34, 2.6 , 5.87],\n",
       "        [0.  , 0.  , 1.55, 1.98, 3.49, 0.64, 1.39, ..., 6.06, 5.72, 4.09,\n",
       "         6.02, 5.17, 2.25, 5.92],\n",
       "        [0.  , 0.  , 0.76, 0.57, 3.  , 0.  , 1.55, ..., 4.99, 4.64, 3.26,\n",
       "         5.17, 4.53, 1.32, 4.86],\n",
       "        [0.  , 1.42, 0.  , 2.4 , 3.02, 0.  , 1.61, ..., 6.03, 5.84, 4.56,\n",
       "         6.1 , 5.47, 1.84, 6.  ],\n",
       "        ...,\n",
       "        [0.  , 0.39, 0.  , 0.62, 1.64, 0.43, 0.  , ..., 4.09, 4.1 , 3.34,\n",
       "         4.03, 3.67, 2.01, 4.01],\n",
       "        [0.  , 0.  , 0.  , 0.  , 0.  , 0.  , 0.  , ..., 1.78, 1.74, 0.78,\n",
       "         1.64, 1.31, 1.  , 1.67],\n",
       "        [0.  , 0.  , 0.  , 0.  , 0.  , 0.  , 0.  , ..., 1.96, 1.9 , 1.37,\n",
       "         1.75, 1.19, 0.  , 1.86],\n",
       "        [0.  , 0.  , 0.  , 0.  , 0.  , 0.  , 0.  , ..., 1.82, 1.8 , 0.  ,\n",
       "         1.61, 1.18, 0.63, 1.67],\n",
       "        [0.  , 0.  , 0.  , 0.  , 0.  , 0.  , 0.  , ..., 1.78, 1.77, 1.02,\n",
       "         1.63, 1.02, 0.  , 1.63],\n",
       "        [0.  , 0.  , 0.  , 0.  , 1.06, 0.  , 0.  , ..., 1.71, 1.67, 0.85,\n",
       "         1.39, 0.85, 0.  , 1.7 ],\n",
       "        [0.  , 0.  , 0.  , 0.  , 0.  , 0.  , 0.  , ..., 1.79, 1.64, 0.45,\n",
       "         1.51, 1.15, 0.66, 1.57]], dtype=float32)"
      ]
     },
     "execution_count": 27,
     "metadata": {},
     "output_type": "execute_result"
    }
   ],
   "source": [
    "xRaw"
   ]
  },
  {
   "cell_type": "code",
   "execution_count": null,
   "metadata": {},
   "outputs": [
    {
     "ename": "NameError",
     "evalue": "name 'xù' is not defined",
     "output_type": "error",
     "traceback": [
      "\u001b[0;31m---------------------------------------------------------------------------\u001b[0m",
      "\u001b[0;31mNameError\u001b[0m                                 Traceback (most recent call last)",
      "Cell \u001b[0;32mIn[28], line 1\u001b[0m\n\u001b[0;32m----> 1\u001b[0m xù\n",
      "\u001b[0;31mNameError\u001b[0m: name 'xù' is not defined"
     ]
    }
   ],
   "source": [
    "xù"
   ]
  },
  {
   "cell_type": "code",
   "execution_count": null,
   "metadata": {},
   "outputs": [
    {
     "data": {
      "text/plain": [
       "array([[ 1.61e+00,  3.93e+00,  5.02e+00,  2.74e-01,  2.86e-01,  1.72e+00,\n",
       "        -8.57e-02, ...,  4.34e-02,  4.59e+00,  4.66e+00,  6.00e+00,\n",
       "         6.03e+00,  1.33e+00,  6.95e-02],\n",
       "       [ 1.79e+00,  3.55e+00,  5.31e+00,  2.93e-01,  6.91e-02,  2.20e+00,\n",
       "        -7.51e-02, ...,  3.23e-02,  4.99e+00,  4.77e+00,  6.36e+00,\n",
       "         6.37e+00,  1.52e+00,  4.18e-02],\n",
       "       [ 1.63e+00,  2.95e+00,  4.97e+00,  1.65e-01, -3.10e-02,  1.69e+00,\n",
       "        -5.04e-02, ..., -1.04e-02,  4.69e+00,  4.22e+00,  5.88e+00,\n",
       "         5.95e+00,  1.14e+00, -4.77e-03],\n",
       "       [ 1.36e+00,  2.98e+00,  4.69e+00,  1.52e-01,  6.02e-02,  1.29e+00,\n",
       "        -7.05e-02, ..., -3.57e-03,  4.35e+00,  4.03e+00,  5.56e+00,\n",
       "         5.62e+00,  1.07e+00,  3.37e-02],\n",
       "       [ 1.49e+00,  3.26e+00,  4.85e+00,  1.43e-01,  6.47e-02,  1.71e+00,\n",
       "        -7.99e-02, ...,  3.77e-02,  4.48e+00,  4.13e+00,  5.79e+00,\n",
       "         5.85e+00,  9.65e-01, -1.79e-02],\n",
       "       [ 1.46e+00,  3.33e+00,  5.04e+00,  2.30e-01,  2.33e-01,  1.27e+00,\n",
       "        -6.59e-02, ...,  1.35e-02,  4.58e+00,  4.27e+00,  5.80e+00,\n",
       "         5.85e+00,  1.19e+00,  8.46e-02],\n",
       "       [ 1.53e+00,  3.03e+00,  4.54e+00,  1.24e-01,  2.86e-02,  1.99e+00,\n",
       "        -9.63e-02, ...,  1.72e-02,  4.32e+00,  4.15e+00,  5.66e+00,\n",
       "         5.67e+00,  1.01e+00, -1.91e-02],\n",
       "       ...,\n",
       "       [ 6.33e-01,  1.16e+00,  2.72e+00,  1.27e-01, -3.35e-02,  6.09e-01,\n",
       "         4.93e-02, ...,  6.41e-03,  2.67e+00,  2.05e+00,  2.81e+00,\n",
       "         2.86e+00,  5.31e-01,  8.19e-04],\n",
       "       [ 4.98e-02,  1.09e-01,  4.97e-01,  5.13e-02,  2.49e-02,  4.31e-02,\n",
       "         1.18e-02, ...,  5.58e-03,  4.12e-01,  2.74e-01,  5.82e-01,\n",
       "         6.54e-01,  2.25e-02, -2.88e-03],\n",
       "       [ 8.49e-02,  4.73e-01,  8.33e-01,  3.39e-02, -2.88e-02,  4.86e-02,\n",
       "         1.59e-03, ...,  2.85e-03,  8.26e-01,  7.16e-01,  1.21e+00,\n",
       "         1.39e+00,  3.39e-02, -1.08e-02],\n",
       "       [ 5.52e-02,  1.23e-01,  5.56e-01,  3.70e-02,  1.36e-02,  2.02e-02,\n",
       "         7.69e-03, ...,  4.65e-03,  4.60e-01,  3.42e-01,  7.84e-01,\n",
       "         8.59e-01,  1.68e-02, -7.33e-03],\n",
       "       [ 1.19e-01,  1.78e-01,  5.56e-01,  4.23e-02,  2.24e-02,  2.06e-02,\n",
       "         5.94e-03, ...,  4.74e-03,  5.20e-01,  3.98e-01,  7.68e-01,\n",
       "         8.66e-01,  9.64e-03, -1.04e-02],\n",
       "       [ 1.45e-01,  1.05e+00,  1.32e+00,  3.23e-02,  4.63e-02,  6.77e-02,\n",
       "         1.84e-02, ..., -7.79e-03,  1.18e+00,  1.32e+00,  1.71e+00,\n",
       "         1.98e+00,  4.85e-02, -1.96e-02],\n",
       "       [ 8.19e-02,  2.09e-01,  6.24e-01,  3.23e-02, -1.30e-02,  1.23e-02,\n",
       "         2.75e-03, ...,  9.78e-03,  5.57e-01,  4.79e-01,  9.48e-01,\n",
       "         1.06e+00,  2.34e-02, -1.76e-02]], dtype=float32)"
      ]
     },
     "execution_count": 29,
     "metadata": {},
     "output_type": "execute_result"
    }
   ],
   "source": [
    "x"
   ]
  },
  {
   "cell_type": "code",
   "execution_count": null,
   "metadata": {},
   "outputs": [
    {
     "data": {
      "text/plain": [
       "matrix([[0.  , 0.7 , 0.67, 2.28, 3.35, 0.69, 1.41, ..., 5.19, 4.71, 3.38,\n",
       "         5.23, 4.25, 0.75, 4.97],\n",
       "        [0.  , 1.26, 1.05, 0.63, 4.07, 1.37, 1.96, ..., 5.82, 5.33, 4.11,\n",
       "         5.86, 5.04, 2.15, 5.7 ],\n",
       "        [0.  , 0.  , 1.69, 0.83, 3.02, 0.77, 1.51, ..., 6.23, 6.05, 4.98,\n",
       "         6.37, 5.76, 2.04, 6.21],\n",
       "        [0.77, 0.  , 0.86, 0.88, 3.55, 0.66, 1.69, ..., 5.91, 5.66, 4.46,\n",
       "         5.98, 5.34, 2.6 , 5.87],\n",
       "        [0.  , 0.  , 1.55, 1.98, 3.49, 0.64, 1.39, ..., 6.06, 5.72, 4.09,\n",
       "         6.02, 5.17, 2.25, 5.92],\n",
       "        [0.  , 0.  , 0.76, 0.57, 3.  , 0.  , 1.55, ..., 4.99, 4.64, 3.26,\n",
       "         5.17, 4.53, 1.32, 4.86],\n",
       "        [0.  , 1.42, 0.  , 2.4 , 3.02, 0.  , 1.61, ..., 6.03, 5.84, 4.56,\n",
       "         6.1 , 5.47, 1.84, 6.  ],\n",
       "        ...,\n",
       "        [0.  , 0.39, 0.  , 0.62, 1.64, 0.43, 0.  , ..., 4.09, 4.1 , 3.34,\n",
       "         4.03, 3.67, 2.01, 4.01],\n",
       "        [0.  , 0.  , 0.  , 0.  , 0.  , 0.  , 0.  , ..., 1.78, 1.74, 0.78,\n",
       "         1.64, 1.31, 1.  , 1.67],\n",
       "        [0.  , 0.  , 0.  , 0.  , 0.  , 0.  , 0.  , ..., 1.96, 1.9 , 1.37,\n",
       "         1.75, 1.19, 0.  , 1.86],\n",
       "        [0.  , 0.  , 0.  , 0.  , 0.  , 0.  , 0.  , ..., 1.82, 1.8 , 0.  ,\n",
       "         1.61, 1.18, 0.63, 1.67],\n",
       "        [0.  , 0.  , 0.  , 0.  , 0.  , 0.  , 0.  , ..., 1.78, 1.77, 1.02,\n",
       "         1.63, 1.02, 0.  , 1.63],\n",
       "        [0.  , 0.  , 0.  , 0.  , 1.06, 0.  , 0.  , ..., 1.71, 1.67, 0.85,\n",
       "         1.39, 0.85, 0.  , 1.7 ],\n",
       "        [0.  , 0.  , 0.  , 0.  , 0.  , 0.  , 0.  , ..., 1.79, 1.64, 0.45,\n",
       "         1.51, 1.15, 0.66, 1.57]], dtype=float32)"
      ]
     },
     "execution_count": 30,
     "metadata": {},
     "output_type": "execute_result"
    }
   ],
   "source": [
    "xRaw"
   ]
  },
  {
   "cell_type": "code",
   "execution_count": null,
   "metadata": {},
   "outputs": [],
   "source": [
    "adataRaw = ad.raw.to_adata()"
   ]
  },
  {
   "cell_type": "code",
   "execution_count": null,
   "metadata": {},
   "outputs": [
    {
     "data": {
      "text/plain": [
       "Index(['FAM87B', 'LINC00115', 'FAM41C', 'SAMD11', 'NOC2L', 'KLHL17', 'PLEKHN1',\n",
       "       'HES4', 'ISG15', 'AGRN',\n",
       "       ...\n",
       "       'MT-CO2', 'MT-ATP8', 'MT-ATP6', 'MT-CO3', 'MT-ND3', 'MT-ND4L', 'MT-ND4',\n",
       "       'MT-ND5', 'MT-ND6', 'MT-CYB'],\n",
       "      dtype='object', length=17063)"
      ]
     },
     "execution_count": 32,
     "metadata": {},
     "output_type": "execute_result"
    }
   ],
   "source": [
    "adataRaw.var_names"
   ]
  },
  {
   "cell_type": "code",
   "execution_count": null,
   "metadata": {},
   "outputs": [],
   "source": [
    "rawNames = adataRaw.var_names"
   ]
  },
  {
   "cell_type": "code",
   "execution_count": null,
   "metadata": {},
   "outputs": [
    {
     "data": {
      "text/plain": [
       "Index(['SAMD11', 'HES4', 'ISG15', 'TNFRSF18', 'TNFRSF4', 'MEGF6', 'CHD5',\n",
       "       'HES2', 'TNFRSF25', 'UTS2',\n",
       "       ...\n",
       "       'MX2', 'MX1', 'TFF3', 'UBASH3A', 'CSTB', 'COL18A1', 'COL6A1', 'COL6A2',\n",
       "       'C21orf58', 'S100B'],\n",
       "      dtype='object', length=1542)"
      ]
     },
     "execution_count": 34,
     "metadata": {},
     "output_type": "execute_result"
    }
   ],
   "source": [
    "ad.var_names"
   ]
  },
  {
   "cell_type": "code",
   "execution_count": null,
   "metadata": {},
   "outputs": [
    {
     "data": {
      "text/plain": [
       "Index(['FAM87B', 'LINC00115', 'FAM41C', 'SAMD11', 'NOC2L', 'KLHL17', 'PLEKHN1',\n",
       "       'HES4', 'ISG15', 'AGRN',\n",
       "       ...\n",
       "       'MT-CO2', 'MT-ATP8', 'MT-ATP6', 'MT-CO3', 'MT-ND3', 'MT-ND4L', 'MT-ND4',\n",
       "       'MT-ND5', 'MT-ND6', 'MT-CYB'],\n",
       "      dtype='object', length=17063)"
      ]
     },
     "execution_count": 35,
     "metadata": {},
     "output_type": "execute_result"
    }
   ],
   "source": [
    "rawNames"
   ]
  },
  {
   "cell_type": "code",
   "execution_count": null,
   "metadata": {},
   "outputs": [
    {
     "data": {
      "text/html": [
       "<div>\n",
       "<style scoped>\n",
       "    .dataframe tbody tr th:only-of-type {\n",
       "        vertical-align: middle;\n",
       "    }\n",
       "\n",
       "    .dataframe tbody tr th {\n",
       "        vertical-align: top;\n",
       "    }\n",
       "\n",
       "    .dataframe thead th {\n",
       "        text-align: right;\n",
       "    }\n",
       "</style>\n",
       "<table border=\"1\" class=\"dataframe\">\n",
       "  <thead>\n",
       "    <tr style=\"text-align: right;\">\n",
       "      <th></th>\n",
       "      <th>0</th>\n",
       "    </tr>\n",
       "  </thead>\n",
       "  <tbody>\n",
       "    <tr>\n",
       "      <th>0</th>\n",
       "      <td>FAM87B</td>\n",
       "    </tr>\n",
       "    <tr>\n",
       "      <th>1</th>\n",
       "      <td>LINC00115</td>\n",
       "    </tr>\n",
       "    <tr>\n",
       "      <th>2</th>\n",
       "      <td>FAM41C</td>\n",
       "    </tr>\n",
       "    <tr>\n",
       "      <th>3</th>\n",
       "      <td>SAMD11</td>\n",
       "    </tr>\n",
       "    <tr>\n",
       "      <th>4</th>\n",
       "      <td>NOC2L</td>\n",
       "    </tr>\n",
       "    <tr>\n",
       "      <th>...</th>\n",
       "      <td>...</td>\n",
       "    </tr>\n",
       "    <tr>\n",
       "      <th>17058</th>\n",
       "      <td>MT-ND4L</td>\n",
       "    </tr>\n",
       "    <tr>\n",
       "      <th>17059</th>\n",
       "      <td>MT-ND4</td>\n",
       "    </tr>\n",
       "    <tr>\n",
       "      <th>17060</th>\n",
       "      <td>MT-ND5</td>\n",
       "    </tr>\n",
       "    <tr>\n",
       "      <th>17061</th>\n",
       "      <td>MT-ND6</td>\n",
       "    </tr>\n",
       "    <tr>\n",
       "      <th>17062</th>\n",
       "      <td>MT-CYB</td>\n",
       "    </tr>\n",
       "  </tbody>\n",
       "</table>\n",
       "<p>17063 rows × 1 columns</p>\n",
       "</div>"
      ],
      "text/plain": [
       "               0\n",
       "0         FAM87B\n",
       "1      LINC00115\n",
       "2         FAM41C\n",
       "3         SAMD11\n",
       "4          NOC2L\n",
       "...          ...\n",
       "17058    MT-ND4L\n",
       "17059     MT-ND4\n",
       "17060     MT-ND5\n",
       "17061     MT-ND6\n",
       "17062     MT-CYB\n",
       "\n",
       "[17063 rows x 1 columns]"
      ]
     },
     "execution_count": 36,
     "metadata": {},
     "output_type": "execute_result"
    }
   ],
   "source": [
    "pd.DataFrame(rawNames)"
   ]
  },
  {
   "cell_type": "code",
   "execution_count": null,
   "metadata": {},
   "outputs": [
    {
     "data": {
      "text/html": [
       "<div>\n",
       "<style scoped>\n",
       "    .dataframe tbody tr th:only-of-type {\n",
       "        vertical-align: middle;\n",
       "    }\n",
       "\n",
       "    .dataframe tbody tr th {\n",
       "        vertical-align: top;\n",
       "    }\n",
       "\n",
       "    .dataframe thead th {\n",
       "        text-align: right;\n",
       "    }\n",
       "</style>\n",
       "<table border=\"1\" class=\"dataframe\">\n",
       "  <thead>\n",
       "    <tr style=\"text-align: right;\">\n",
       "      <th></th>\n",
       "      <th>0</th>\n",
       "    </tr>\n",
       "  </thead>\n",
       "  <tbody>\n",
       "    <tr>\n",
       "      <th>0</th>\n",
       "      <td>False</td>\n",
       "    </tr>\n",
       "    <tr>\n",
       "      <th>1</th>\n",
       "      <td>False</td>\n",
       "    </tr>\n",
       "    <tr>\n",
       "      <th>2</th>\n",
       "      <td>False</td>\n",
       "    </tr>\n",
       "    <tr>\n",
       "      <th>3</th>\n",
       "      <td>True</td>\n",
       "    </tr>\n",
       "    <tr>\n",
       "      <th>4</th>\n",
       "      <td>False</td>\n",
       "    </tr>\n",
       "    <tr>\n",
       "      <th>...</th>\n",
       "      <td>...</td>\n",
       "    </tr>\n",
       "    <tr>\n",
       "      <th>17058</th>\n",
       "      <td>False</td>\n",
       "    </tr>\n",
       "    <tr>\n",
       "      <th>17059</th>\n",
       "      <td>False</td>\n",
       "    </tr>\n",
       "    <tr>\n",
       "      <th>17060</th>\n",
       "      <td>False</td>\n",
       "    </tr>\n",
       "    <tr>\n",
       "      <th>17061</th>\n",
       "      <td>False</td>\n",
       "    </tr>\n",
       "    <tr>\n",
       "      <th>17062</th>\n",
       "      <td>False</td>\n",
       "    </tr>\n",
       "  </tbody>\n",
       "</table>\n",
       "<p>17063 rows × 1 columns</p>\n",
       "</div>"
      ],
      "text/plain": [
       "           0\n",
       "0      False\n",
       "1      False\n",
       "2      False\n",
       "3       True\n",
       "4      False\n",
       "...      ...\n",
       "17058  False\n",
       "17059  False\n",
       "17060  False\n",
       "17061  False\n",
       "17062  False\n",
       "\n",
       "[17063 rows x 1 columns]"
      ]
     },
     "execution_count": 37,
     "metadata": {},
     "output_type": "execute_result"
    }
   ],
   "source": [
    "pd.DataFrame(rawNames).isin(ad.var_names)"
   ]
  },
  {
   "cell_type": "code",
   "execution_count": null,
   "metadata": {},
   "outputs": [],
   "source": [
    "rawNamesMask = pd.DataFrame(rawNames).isin(ad.var_names)"
   ]
  },
  {
   "cell_type": "code",
   "execution_count": null,
   "metadata": {},
   "outputs": [
    {
     "data": {
      "text/plain": [
       "0"
      ]
     },
     "execution_count": 39,
     "metadata": {},
     "output_type": "execute_result"
    }
   ],
   "source": [
    "sum(rawNamesMask)"
   ]
  },
  {
   "cell_type": "code",
   "execution_count": null,
   "metadata": {},
   "outputs": [
    {
     "data": {
      "text/plain": [
       "0    1542\n",
       "dtype: int64"
      ]
     },
     "execution_count": 40,
     "metadata": {},
     "output_type": "execute_result"
    }
   ],
   "source": [
    "rawNamesMask.sum()"
   ]
  },
  {
   "cell_type": "code",
   "execution_count": null,
   "metadata": {},
   "outputs": [
    {
     "ename": "IndexError",
     "evalue": "too many indices for array: array is 1-dimensional, but 2 were indexed",
     "output_type": "error",
     "traceback": [
      "\u001b[0;31m---------------------------------------------------------------------------\u001b[0m",
      "\u001b[0;31mIndexError\u001b[0m                                Traceback (most recent call last)",
      "Cell \u001b[0;32mIn[41], line 1\u001b[0m\n\u001b[0;32m----> 1\u001b[0m rawNamesFiltered \u001b[39m=\u001b[39m adataRaw\u001b[39m.\u001b[39;49mvar_names[rawNamesMask]\n",
      "File \u001b[0;32m/usr/local/conda/envs/scarches/lib/python3.9/site-packages/pandas/core/indexes/base.py:5339\u001b[0m, in \u001b[0;36mIndex.__getitem__\u001b[0;34m(self, key)\u001b[0m\n\u001b[1;32m   5336\u001b[0m     \u001b[39melse\u001b[39;00m:\n\u001b[1;32m   5337\u001b[0m         key \u001b[39m=\u001b[39m np\u001b[39m.\u001b[39masarray(key, dtype\u001b[39m=\u001b[39m\u001b[39mbool\u001b[39m)\n\u001b[0;32m-> 5339\u001b[0m result \u001b[39m=\u001b[39m getitem(key)\n\u001b[1;32m   5340\u001b[0m \u001b[39m# Because we ruled out integer above, we always get an arraylike here\u001b[39;00m\n\u001b[1;32m   5341\u001b[0m \u001b[39mif\u001b[39;00m result\u001b[39m.\u001b[39mndim \u001b[39m>\u001b[39m \u001b[39m1\u001b[39m:\n",
      "\u001b[0;31mIndexError\u001b[0m: too many indices for array: array is 1-dimensional, but 2 were indexed"
     ]
    }
   ],
   "source": [
    "rawNamesFiltered = adataRaw.var_names[rawNamesMask]"
   ]
  },
  {
   "cell_type": "code",
   "execution_count": null,
   "metadata": {},
   "outputs": [
    {
     "ename": "IndexError",
     "evalue": "boolean index did not match indexed array along dimension 0; dimension is 17063 but corresponding boolean dimension is 1",
     "output_type": "error",
     "traceback": [
      "\u001b[0;31m---------------------------------------------------------------------------\u001b[0m",
      "\u001b[0;31mIndexError\u001b[0m                                Traceback (most recent call last)",
      "Cell \u001b[0;32mIn[42], line 1\u001b[0m\n\u001b[0;32m----> 1\u001b[0m rawNamesFiltered \u001b[39m=\u001b[39m adataRaw\u001b[39m.\u001b[39;49mvar_names[rawNamesMask\u001b[39m.\u001b[39;49miloc[\u001b[39m0\u001b[39;49m]]\n",
      "File \u001b[0;32m/usr/local/conda/envs/scarches/lib/python3.9/site-packages/pandas/core/indexes/base.py:5339\u001b[0m, in \u001b[0;36mIndex.__getitem__\u001b[0;34m(self, key)\u001b[0m\n\u001b[1;32m   5336\u001b[0m     \u001b[39melse\u001b[39;00m:\n\u001b[1;32m   5337\u001b[0m         key \u001b[39m=\u001b[39m np\u001b[39m.\u001b[39masarray(key, dtype\u001b[39m=\u001b[39m\u001b[39mbool\u001b[39m)\n\u001b[0;32m-> 5339\u001b[0m result \u001b[39m=\u001b[39m getitem(key)\n\u001b[1;32m   5340\u001b[0m \u001b[39m# Because we ruled out integer above, we always get an arraylike here\u001b[39;00m\n\u001b[1;32m   5341\u001b[0m \u001b[39mif\u001b[39;00m result\u001b[39m.\u001b[39mndim \u001b[39m>\u001b[39m \u001b[39m1\u001b[39m:\n",
      "\u001b[0;31mIndexError\u001b[0m: boolean index did not match indexed array along dimension 0; dimension is 17063 but corresponding boolean dimension is 1"
     ]
    }
   ],
   "source": [
    "rawNamesFiltered = adataRaw.var_names[rawNamesMask.iloc[0]]"
   ]
  },
  {
   "cell_type": "code",
   "execution_count": null,
   "metadata": {},
   "outputs": [
    {
     "data": {
      "text/plain": [
       "0    False\n",
       "Name: 0, dtype: bool"
      ]
     },
     "execution_count": 43,
     "metadata": {},
     "output_type": "execute_result"
    }
   ],
   "source": [
    "rawNamesMask.iloc[0]"
   ]
  },
  {
   "cell_type": "code",
   "execution_count": null,
   "metadata": {},
   "outputs": [
    {
     "data": {
      "text/html": [
       "<div>\n",
       "<style scoped>\n",
       "    .dataframe tbody tr th:only-of-type {\n",
       "        vertical-align: middle;\n",
       "    }\n",
       "\n",
       "    .dataframe tbody tr th {\n",
       "        vertical-align: top;\n",
       "    }\n",
       "\n",
       "    .dataframe thead th {\n",
       "        text-align: right;\n",
       "    }\n",
       "</style>\n",
       "<table border=\"1\" class=\"dataframe\">\n",
       "  <thead>\n",
       "    <tr style=\"text-align: right;\">\n",
       "      <th></th>\n",
       "      <th>0</th>\n",
       "    </tr>\n",
       "  </thead>\n",
       "  <tbody>\n",
       "  </tbody>\n",
       "</table>\n",
       "</div>"
      ],
      "text/plain": [
       "Empty DataFrame\n",
       "Columns: [0]\n",
       "Index: []"
      ]
     },
     "execution_count": 44,
     "metadata": {},
     "output_type": "execute_result"
    }
   ],
   "source": [
    "rawNamesMask.iloc[:0]"
   ]
  },
  {
   "cell_type": "code",
   "execution_count": null,
   "metadata": {},
   "outputs": [
    {
     "ename": "SyntaxError",
     "evalue": "invalid syntax (<ipython-input-45-01586b7a3b07>, line 1)",
     "output_type": "error",
     "traceback": [
      "\u001b[0;36m  Cell \u001b[0;32mIn[45], line 1\u001b[0;36m\u001b[0m\n\u001b[0;31m    rawNamesMask.iloc[,:0]\u001b[0m\n\u001b[0m                      ^\u001b[0m\n\u001b[0;31mSyntaxError\u001b[0m\u001b[0;31m:\u001b[0m invalid syntax\n"
     ]
    }
   ],
   "source": [
    "rawNamesMask.iloc[,:0]\n"
   ]
  },
  {
   "cell_type": "code",
   "execution_count": null,
   "metadata": {},
   "outputs": [
    {
     "data": {
      "text/html": [
       "<div>\n",
       "<style scoped>\n",
       "    .dataframe tbody tr th:only-of-type {\n",
       "        vertical-align: middle;\n",
       "    }\n",
       "\n",
       "    .dataframe tbody tr th {\n",
       "        vertical-align: top;\n",
       "    }\n",
       "\n",
       "    .dataframe thead th {\n",
       "        text-align: right;\n",
       "    }\n",
       "</style>\n",
       "<table border=\"1\" class=\"dataframe\">\n",
       "  <thead>\n",
       "    <tr style=\"text-align: right;\">\n",
       "      <th></th>\n",
       "      <th>0</th>\n",
       "    </tr>\n",
       "  </thead>\n",
       "  <tbody>\n",
       "    <tr>\n",
       "      <th>0</th>\n",
       "      <td>False</td>\n",
       "    </tr>\n",
       "    <tr>\n",
       "      <th>1</th>\n",
       "      <td>False</td>\n",
       "    </tr>\n",
       "    <tr>\n",
       "      <th>2</th>\n",
       "      <td>False</td>\n",
       "    </tr>\n",
       "    <tr>\n",
       "      <th>3</th>\n",
       "      <td>True</td>\n",
       "    </tr>\n",
       "    <tr>\n",
       "      <th>4</th>\n",
       "      <td>False</td>\n",
       "    </tr>\n",
       "    <tr>\n",
       "      <th>...</th>\n",
       "      <td>...</td>\n",
       "    </tr>\n",
       "    <tr>\n",
       "      <th>17058</th>\n",
       "      <td>False</td>\n",
       "    </tr>\n",
       "    <tr>\n",
       "      <th>17059</th>\n",
       "      <td>False</td>\n",
       "    </tr>\n",
       "    <tr>\n",
       "      <th>17060</th>\n",
       "      <td>False</td>\n",
       "    </tr>\n",
       "    <tr>\n",
       "      <th>17061</th>\n",
       "      <td>False</td>\n",
       "    </tr>\n",
       "    <tr>\n",
       "      <th>17062</th>\n",
       "      <td>False</td>\n",
       "    </tr>\n",
       "  </tbody>\n",
       "</table>\n",
       "<p>17063 rows × 1 columns</p>\n",
       "</div>"
      ],
      "text/plain": [
       "           0\n",
       "0      False\n",
       "1      False\n",
       "2      False\n",
       "3       True\n",
       "4      False\n",
       "...      ...\n",
       "17058  False\n",
       "17059  False\n",
       "17060  False\n",
       "17061  False\n",
       "17062  False\n",
       "\n",
       "[17063 rows x 1 columns]"
      ]
     },
     "execution_count": 46,
     "metadata": {},
     "output_type": "execute_result"
    }
   ],
   "source": [
    "rawNamesMask\n",
    "\n"
   ]
  },
  {
   "cell_type": "code",
   "execution_count": null,
   "metadata": {},
   "outputs": [
    {
     "ename": "KeyError",
     "evalue": "'0'",
     "output_type": "error",
     "traceback": [
      "\u001b[0;31m---------------------------------------------------------------------------\u001b[0m",
      "\u001b[0;31mKeyError\u001b[0m                                  Traceback (most recent call last)",
      "Cell \u001b[0;32mIn[47], line 1\u001b[0m\n\u001b[0;32m----> 1\u001b[0m rawNamesMask[\u001b[39m\"\u001b[39;49m\u001b[39m0\u001b[39;49m\u001b[39m\"\u001b[39;49m]\n",
      "File \u001b[0;32m/usr/local/conda/envs/scarches/lib/python3.9/site-packages/pandas/core/frame.py:3807\u001b[0m, in \u001b[0;36mDataFrame.__getitem__\u001b[0;34m(self, key)\u001b[0m\n\u001b[1;32m   3805\u001b[0m \u001b[39mif\u001b[39;00m \u001b[39mself\u001b[39m\u001b[39m.\u001b[39mcolumns\u001b[39m.\u001b[39mnlevels \u001b[39m>\u001b[39m \u001b[39m1\u001b[39m:\n\u001b[1;32m   3806\u001b[0m     \u001b[39mreturn\u001b[39;00m \u001b[39mself\u001b[39m\u001b[39m.\u001b[39m_getitem_multilevel(key)\n\u001b[0;32m-> 3807\u001b[0m indexer \u001b[39m=\u001b[39m \u001b[39mself\u001b[39;49m\u001b[39m.\u001b[39;49mcolumns\u001b[39m.\u001b[39;49mget_loc(key)\n\u001b[1;32m   3808\u001b[0m \u001b[39mif\u001b[39;00m is_integer(indexer):\n\u001b[1;32m   3809\u001b[0m     indexer \u001b[39m=\u001b[39m [indexer]\n",
      "File \u001b[0;32m/usr/local/conda/envs/scarches/lib/python3.9/site-packages/pandas/core/indexes/range.py:395\u001b[0m, in \u001b[0;36mRangeIndex.get_loc\u001b[0;34m(self, key, method, tolerance)\u001b[0m\n\u001b[1;32m    393\u001b[0m             \u001b[39mraise\u001b[39;00m \u001b[39mKeyError\u001b[39;00m(key) \u001b[39mfrom\u001b[39;00m\u001b[39m \u001b[39m\u001b[39merr\u001b[39;00m\n\u001b[1;32m    394\u001b[0m     \u001b[39mself\u001b[39m\u001b[39m.\u001b[39m_check_indexing_error(key)\n\u001b[0;32m--> 395\u001b[0m     \u001b[39mraise\u001b[39;00m \u001b[39mKeyError\u001b[39;00m(key)\n\u001b[1;32m    396\u001b[0m \u001b[39mreturn\u001b[39;00m \u001b[39msuper\u001b[39m()\u001b[39m.\u001b[39mget_loc(key, method\u001b[39m=\u001b[39mmethod, tolerance\u001b[39m=\u001b[39mtolerance)\n",
      "\u001b[0;31mKeyError\u001b[0m: '0'"
     ]
    }
   ],
   "source": [
    "rawNamesMask[\"0\"]"
   ]
  },
  {
   "cell_type": "code",
   "execution_count": null,
   "metadata": {},
   "outputs": [
    {
     "data": {
      "text/plain": [
       "0        False\n",
       "1        False\n",
       "2        False\n",
       "3         True\n",
       "4        False\n",
       "         ...  \n",
       "17058    False\n",
       "17059    False\n",
       "17060    False\n",
       "17061    False\n",
       "17062    False\n",
       "Name: 0, Length: 17063, dtype: bool"
      ]
     },
     "execution_count": 48,
     "metadata": {},
     "output_type": "execute_result"
    }
   ],
   "source": [
    "rawNamesMask[0]"
   ]
  },
  {
   "cell_type": "code",
   "execution_count": null,
   "metadata": {},
   "outputs": [],
   "source": [
    "rawNamesFiltered = adataRaw.var_names[rawNamesMask[0]]"
   ]
  },
  {
   "cell_type": "code",
   "execution_count": null,
   "metadata": {},
   "outputs": [
    {
     "data": {
      "text/plain": [
       "Index(['SAMD11', 'HES4', 'ISG15', 'TNFRSF18', 'TNFRSF4', 'MEGF6', 'CHD5',\n",
       "       'HES2', 'TNFRSF25', 'UTS2',\n",
       "       ...\n",
       "       'MX2', 'MX1', 'TFF3', 'UBASH3A', 'CSTB', 'COL18A1', 'COL6A1', 'COL6A2',\n",
       "       'C21orf58', 'S100B'],\n",
       "      dtype='object', length=1542)"
      ]
     },
     "execution_count": 50,
     "metadata": {},
     "output_type": "execute_result"
    }
   ],
   "source": [
    "rawNamesFiltered"
   ]
  },
  {
   "cell_type": "code",
   "execution_count": null,
   "metadata": {},
   "outputs": [
    {
     "data": {
      "text/plain": [
       "array([ True,  True,  True,  True,  True,  True,  True, ...,  True,  True,\n",
       "        True,  True,  True,  True,  True])"
      ]
     },
     "execution_count": 51,
     "metadata": {},
     "output_type": "execute_result"
    }
   ],
   "source": [
    "rawNamesFiltered == ad.var_names"
   ]
  },
  {
   "cell_type": "code",
   "execution_count": null,
   "metadata": {},
   "outputs": [
    {
     "data": {
      "text/plain": [
       "True"
      ]
     },
     "execution_count": 52,
     "metadata": {},
     "output_type": "execute_result"
    }
   ],
   "source": [
    "all(rawNamesFiltered == ad.var_names)"
   ]
  },
  {
   "cell_type": "code",
   "execution_count": null,
   "metadata": {},
   "outputs": [
    {
     "data": {
      "text/plain": [
       "matrix([[0.  , 0.7 , 0.67, 2.28, 3.35, 0.69, 1.41, ..., 5.19, 4.71, 3.38,\n",
       "         5.23, 4.25, 0.75, 4.97],\n",
       "        [0.  , 1.26, 1.05, 0.63, 4.07, 1.37, 1.96, ..., 5.82, 5.33, 4.11,\n",
       "         5.86, 5.04, 2.15, 5.7 ],\n",
       "        [0.  , 0.  , 1.69, 0.83, 3.02, 0.77, 1.51, ..., 6.23, 6.05, 4.98,\n",
       "         6.37, 5.76, 2.04, 6.21],\n",
       "        [0.77, 0.  , 0.86, 0.88, 3.55, 0.66, 1.69, ..., 5.91, 5.66, 4.46,\n",
       "         5.98, 5.34, 2.6 , 5.87],\n",
       "        [0.  , 0.  , 1.55, 1.98, 3.49, 0.64, 1.39, ..., 6.06, 5.72, 4.09,\n",
       "         6.02, 5.17, 2.25, 5.92],\n",
       "        [0.  , 0.  , 0.76, 0.57, 3.  , 0.  , 1.55, ..., 4.99, 4.64, 3.26,\n",
       "         5.17, 4.53, 1.32, 4.86],\n",
       "        [0.  , 1.42, 0.  , 2.4 , 3.02, 0.  , 1.61, ..., 6.03, 5.84, 4.56,\n",
       "         6.1 , 5.47, 1.84, 6.  ],\n",
       "        ...,\n",
       "        [0.  , 0.39, 0.  , 0.62, 1.64, 0.43, 0.  , ..., 4.09, 4.1 , 3.34,\n",
       "         4.03, 3.67, 2.01, 4.01],\n",
       "        [0.  , 0.  , 0.  , 0.  , 0.  , 0.  , 0.  , ..., 1.78, 1.74, 0.78,\n",
       "         1.64, 1.31, 1.  , 1.67],\n",
       "        [0.  , 0.  , 0.  , 0.  , 0.  , 0.  , 0.  , ..., 1.96, 1.9 , 1.37,\n",
       "         1.75, 1.19, 0.  , 1.86],\n",
       "        [0.  , 0.  , 0.  , 0.  , 0.  , 0.  , 0.  , ..., 1.82, 1.8 , 0.  ,\n",
       "         1.61, 1.18, 0.63, 1.67],\n",
       "        [0.  , 0.  , 0.  , 0.  , 0.  , 0.  , 0.  , ..., 1.78, 1.77, 1.02,\n",
       "         1.63, 1.02, 0.  , 1.63],\n",
       "        [0.  , 0.  , 0.  , 0.  , 1.06, 0.  , 0.  , ..., 1.71, 1.67, 0.85,\n",
       "         1.39, 0.85, 0.  , 1.7 ],\n",
       "        [0.  , 0.  , 0.  , 0.  , 0.  , 0.  , 0.  , ..., 1.79, 1.64, 0.45,\n",
       "         1.51, 1.15, 0.66, 1.57]], dtype=float32)"
      ]
     },
     "execution_count": 53,
     "metadata": {},
     "output_type": "execute_result"
    }
   ],
   "source": [
    "xRaw"
   ]
  },
  {
   "cell_type": "code",
   "execution_count": null,
   "metadata": {},
   "outputs": [
    {
     "data": {
      "text/plain": [
       "matrix([[0.7 ],\n",
       "        [1.26],\n",
       "        [0.  ],\n",
       "        [0.  ],\n",
       "        [0.  ],\n",
       "        [0.  ],\n",
       "        [1.42],\n",
       "        ...,\n",
       "        [0.39],\n",
       "        [0.  ],\n",
       "        [0.  ],\n",
       "        [0.  ],\n",
       "        [0.  ],\n",
       "        [0.  ],\n",
       "        [0.  ]], dtype=float32)"
      ]
     },
     "execution_count": 54,
     "metadata": {},
     "output_type": "execute_result"
    }
   ],
   "source": [
    "xRaw[:,1]"
   ]
  },
  {
   "cell_type": "code",
   "execution_count": null,
   "metadata": {},
   "outputs": [
    {
     "data": {
      "text/plain": [
       "matrix([[0.  , 1.26, 1.05, 0.63, 4.07, 1.37, 1.96, ..., 5.82, 5.33, 4.11,\n",
       "         5.86, 5.04, 2.15, 5.7 ]], dtype=float32)"
      ]
     },
     "execution_count": 55,
     "metadata": {},
     "output_type": "execute_result"
    }
   ],
   "source": [
    "xRaw[1,:]"
   ]
  },
  {
   "cell_type": "code",
   "execution_count": null,
   "metadata": {},
   "outputs": [
    {
     "ename": "IndexError",
     "evalue": "too many indices for array: array is 2-dimensional, but 3 were indexed",
     "output_type": "error",
     "traceback": [
      "\u001b[0;31m---------------------------------------------------------------------------\u001b[0m",
      "\u001b[0;31mIndexError\u001b[0m                                Traceback (most recent call last)",
      "Cell \u001b[0;32mIn[56], line 1\u001b[0m\n\u001b[0;32m----> 1\u001b[0m xRaw[:,rawNamesMask]\n",
      "File \u001b[0;32m/usr/local/conda/envs/scarches/lib/python3.9/site-packages/numpy/matrixlib/defmatrix.py:194\u001b[0m, in \u001b[0;36mmatrix.__getitem__\u001b[0;34m(self, index)\u001b[0m\n\u001b[1;32m    191\u001b[0m \u001b[39mself\u001b[39m\u001b[39m.\u001b[39m_getitem \u001b[39m=\u001b[39m \u001b[39mTrue\u001b[39;00m\n\u001b[1;32m    193\u001b[0m \u001b[39mtry\u001b[39;00m:\n\u001b[0;32m--> 194\u001b[0m     out \u001b[39m=\u001b[39m N\u001b[39m.\u001b[39;49mndarray\u001b[39m.\u001b[39;49m\u001b[39m__getitem__\u001b[39;49m(\u001b[39mself\u001b[39;49m, index)\n\u001b[1;32m    195\u001b[0m \u001b[39mfinally\u001b[39;00m:\n\u001b[1;32m    196\u001b[0m     \u001b[39mself\u001b[39m\u001b[39m.\u001b[39m_getitem \u001b[39m=\u001b[39m \u001b[39mFalse\u001b[39;00m\n",
      "\u001b[0;31mIndexError\u001b[0m: too many indices for array: array is 2-dimensional, but 3 were indexed"
     ]
    }
   ],
   "source": [
    "xRaw[:,rawNamesMask]"
   ]
  },
  {
   "cell_type": "code",
   "execution_count": null,
   "metadata": {},
   "outputs": [
    {
     "data": {
      "text/plain": [
       "matrix([[2.28, 3.95, 5.2 , 0.  , 1.09, 1.76, 0.  , ..., 0.  , 4.92, 4.96,\n",
       "         6.22, 6.25, 1.31, 0.  ],\n",
       "        [0.63, 3.83, 5.53, 0.  , 0.  , 3.54, 0.  , ..., 0.  , 5.58, 5.02,\n",
       "         6.7 , 6.72, 1.95, 0.  ],\n",
       "        [0.83, 3.73, 5.73, 0.  , 0.  , 2.35, 0.  , ..., 0.  , 5.18, 4.38,\n",
       "         6.27, 6.33, 0.74, 0.  ],\n",
       "        [0.88, 3.63, 4.96, 0.  , 0.  , 1.26, 0.  , ..., 0.  , 4.95, 4.52,\n",
       "         6.14, 6.19, 1.23, 0.  ],\n",
       "        [1.98, 4.36, 5.35, 0.56, 0.  , 1.53, 0.  , ..., 0.  , 4.9 , 4.44,\n",
       "         6.11, 6.16, 1.3 , 0.  ],\n",
       "        [0.57, 4.1 , 5.41, 0.  , 0.54, 0.  , 0.  , ..., 0.  , 4.96, 4.7 ,\n",
       "         6.12, 6.13, 1.64, 0.  ],\n",
       "        [2.4 , 3.04, 4.93, 0.  , 0.  , 2.98, 0.  , ..., 0.  , 4.81, 4.71,\n",
       "         6.16, 6.2 , 0.  , 0.  ],\n",
       "        ...,\n",
       "        [0.62, 2.53, 3.07, 0.  , 0.  , 0.27, 0.  , ..., 0.  , 3.21, 2.11,\n",
       "         2.35, 2.67, 0.58, 0.  ],\n",
       "        [0.  , 0.  , 1.12, 0.  , 0.  , 0.  , 0.  , ..., 0.  , 1.  , 0.  ,\n",
       "         0.  , 0.  , 0.  , 0.  ],\n",
       "        [0.  , 0.99, 0.  , 0.  , 0.  , 0.  , 0.  , ..., 0.  , 0.  , 0.  ,\n",
       "         0.  , 0.  , 0.  , 0.  ],\n",
       "        [0.  , 0.  , 0.  , 0.  , 0.  , 0.  , 0.  , ..., 0.  , 0.63, 0.63,\n",
       "         0.97, 1.12, 0.  , 0.  ],\n",
       "        [0.  , 0.  , 0.  , 0.  , 0.  , 0.  , 0.  , ..., 0.  , 0.81, 0.  ,\n",
       "         0.  , 0.81, 0.  , 0.  ],\n",
       "        [0.  , 0.85, 1.36, 0.  , 0.  , 0.  , 0.  , ..., 0.  , 0.  , 1.47,\n",
       "         1.25, 1.06, 0.  , 0.  ],\n",
       "        [0.  , 0.  , 0.66, 0.  , 0.  , 0.  , 0.  , ..., 0.  , 1.12, 0.66,\n",
       "         0.88, 1.05, 0.  , 0.  ]], dtype=float32)"
      ]
     },
     "execution_count": 57,
     "metadata": {},
     "output_type": "execute_result"
    }
   ],
   "source": [
    "xRaw[:,rawNamesMask[0]]"
   ]
  },
  {
   "cell_type": "code",
   "execution_count": null,
   "metadata": {},
   "outputs": [],
   "source": [
    "xRawFiltered = xRaw[:,rawNamesMask[0]]"
   ]
  },
  {
   "cell_type": "code",
   "execution_count": null,
   "metadata": {},
   "outputs": [
    {
     "data": {
      "text/plain": [
       "matrix([[2.28, 3.95, 5.2 , 0.  , 1.09, 1.76, 0.  , ..., 0.  , 4.92, 4.96,\n",
       "         6.22, 6.25, 1.31, 0.  ],\n",
       "        [0.63, 3.83, 5.53, 0.  , 0.  , 3.54, 0.  , ..., 0.  , 5.58, 5.02,\n",
       "         6.7 , 6.72, 1.95, 0.  ],\n",
       "        [0.83, 3.73, 5.73, 0.  , 0.  , 2.35, 0.  , ..., 0.  , 5.18, 4.38,\n",
       "         6.27, 6.33, 0.74, 0.  ],\n",
       "        [0.88, 3.63, 4.96, 0.  , 0.  , 1.26, 0.  , ..., 0.  , 4.95, 4.52,\n",
       "         6.14, 6.19, 1.23, 0.  ],\n",
       "        [1.98, 4.36, 5.35, 0.56, 0.  , 1.53, 0.  , ..., 0.  , 4.9 , 4.44,\n",
       "         6.11, 6.16, 1.3 , 0.  ],\n",
       "        [0.57, 4.1 , 5.41, 0.  , 0.54, 0.  , 0.  , ..., 0.  , 4.96, 4.7 ,\n",
       "         6.12, 6.13, 1.64, 0.  ],\n",
       "        [2.4 , 3.04, 4.93, 0.  , 0.  , 2.98, 0.  , ..., 0.  , 4.81, 4.71,\n",
       "         6.16, 6.2 , 0.  , 0.  ],\n",
       "        ...,\n",
       "        [0.62, 2.53, 3.07, 0.  , 0.  , 0.27, 0.  , ..., 0.  , 3.21, 2.11,\n",
       "         2.35, 2.67, 0.58, 0.  ],\n",
       "        [0.  , 0.  , 1.12, 0.  , 0.  , 0.  , 0.  , ..., 0.  , 1.  , 0.  ,\n",
       "         0.  , 0.  , 0.  , 0.  ],\n",
       "        [0.  , 0.99, 0.  , 0.  , 0.  , 0.  , 0.  , ..., 0.  , 0.  , 0.  ,\n",
       "         0.  , 0.  , 0.  , 0.  ],\n",
       "        [0.  , 0.  , 0.  , 0.  , 0.  , 0.  , 0.  , ..., 0.  , 0.63, 0.63,\n",
       "         0.97, 1.12, 0.  , 0.  ],\n",
       "        [0.  , 0.  , 0.  , 0.  , 0.  , 0.  , 0.  , ..., 0.  , 0.81, 0.  ,\n",
       "         0.  , 0.81, 0.  , 0.  ],\n",
       "        [0.  , 0.85, 1.36, 0.  , 0.  , 0.  , 0.  , ..., 0.  , 0.  , 1.47,\n",
       "         1.25, 1.06, 0.  , 0.  ],\n",
       "        [0.  , 0.  , 0.66, 0.  , 0.  , 0.  , 0.  , ..., 0.  , 1.12, 0.66,\n",
       "         0.88, 1.05, 0.  , 0.  ]], dtype=float32)"
      ]
     },
     "execution_count": 59,
     "metadata": {},
     "output_type": "execute_result"
    }
   ],
   "source": [
    "xRawFiltered"
   ]
  },
  {
   "cell_type": "code",
   "execution_count": null,
   "metadata": {},
   "outputs": [],
   "source": [
    "import seaborn as sns"
   ]
  },
  {
   "cell_type": "code",
   "execution_count": null,
   "metadata": {},
   "outputs": [
    {
     "ename": "KeyboardInterrupt",
     "evalue": "",
     "output_type": "error",
     "traceback": [
      "\u001b[0;31m---------------------------------------------------------------------------\u001b[0m",
      "\u001b[0;31mKeyboardInterrupt\u001b[0m                         Traceback (most recent call last)",
      "Cell \u001b[0;32mIn[61], line 1\u001b[0m\n\u001b[0;32m----> 1\u001b[0m sns\u001b[39m.\u001b[39;49mhistplot(xRaw)\n",
      "File \u001b[0;32m/usr/local/conda/envs/scarches/lib/python3.9/site-packages/seaborn/distributions.py:1389\u001b[0m, in \u001b[0;36mhistplot\u001b[0;34m(data, x, y, hue, weights, stat, bins, binwidth, binrange, discrete, cumulative, common_bins, common_norm, multiple, element, fill, shrink, kde, kde_kws, line_kws, thresh, pthresh, pmax, cbar, cbar_ax, cbar_kws, palette, hue_order, hue_norm, color, log_scale, legend, ax, **kwargs)\u001b[0m\n\u001b[1;32m   1386\u001b[0m \u001b[39mif\u001b[39;00m ax \u001b[39mis\u001b[39;00m \u001b[39mNone\u001b[39;00m:\n\u001b[1;32m   1387\u001b[0m     ax \u001b[39m=\u001b[39m plt\u001b[39m.\u001b[39mgca()\n\u001b[0;32m-> 1389\u001b[0m p\u001b[39m.\u001b[39;49m_attach(ax, log_scale\u001b[39m=\u001b[39;49mlog_scale)\n\u001b[1;32m   1391\u001b[0m \u001b[39mif\u001b[39;00m p\u001b[39m.\u001b[39munivariate:  \u001b[39m# Note, bivariate plots won't cycle\u001b[39;00m\n\u001b[1;32m   1392\u001b[0m     \u001b[39mif\u001b[39;00m fill:\n",
      "File \u001b[0;32m/usr/local/conda/envs/scarches/lib/python3.9/site-packages/seaborn/_base.py:1128\u001b[0m, in \u001b[0;36mVectorPlotter._attach\u001b[0;34m(self, obj, allowed_types, log_scale)\u001b[0m\n\u001b[1;32m   1126\u001b[0m \u001b[39m# Now actually update the matplotlib objects to do the conversion we want\u001b[39;00m\n\u001b[1;32m   1127\u001b[0m grouped \u001b[39m=\u001b[39m \u001b[39mself\u001b[39m\u001b[39m.\u001b[39mplot_data[var]\u001b[39m.\u001b[39mgroupby(\u001b[39mself\u001b[39m\u001b[39m.\u001b[39mconverters[var], sort\u001b[39m=\u001b[39m\u001b[39mFalse\u001b[39;00m)\n\u001b[0;32m-> 1128\u001b[0m \u001b[39mfor\u001b[39;00m converter, seed_data \u001b[39min\u001b[39;00m grouped:\n\u001b[1;32m   1129\u001b[0m     \u001b[39mif\u001b[39;00m \u001b[39mself\u001b[39m\u001b[39m.\u001b[39mvar_types[var] \u001b[39m==\u001b[39m \u001b[39m\"\u001b[39m\u001b[39mcategorical\u001b[39m\u001b[39m\"\u001b[39m:\n\u001b[1;32m   1130\u001b[0m         \u001b[39mif\u001b[39;00m \u001b[39mself\u001b[39m\u001b[39m.\u001b[39m_var_ordered[var]:\n",
      "File \u001b[0;32m/usr/local/conda/envs/scarches/lib/python3.9/site-packages/pandas/core/groupby/ops.py:788\u001b[0m, in \u001b[0;36mBaseGrouper.get_iterator\u001b[0;34m(self, data, axis)\u001b[0m\n\u001b[1;32m    777\u001b[0m \u001b[39mdef\u001b[39;00m\u001b[39m \u001b[39m\u001b[39mget_iterator\u001b[39m(\n\u001b[1;32m    778\u001b[0m     \u001b[39mself\u001b[39m, data: NDFrameT, axis: \u001b[39mint\u001b[39m \u001b[39m=\u001b[39m \u001b[39m0\u001b[39m\n\u001b[1;32m    779\u001b[0m ) \u001b[39m-\u001b[39m\u001b[39m>\u001b[39m Iterator[\u001b[39mtuple\u001b[39m[Hashable, NDFrameT]]:\n\u001b[1;32m    780\u001b[0m \u001b[39m    \u001b[39m\u001b[39m\"\"\"\u001b[39;00m\n\u001b[1;32m    781\u001b[0m \u001b[39m    Groupby iterator\u001b[39;00m\n\u001b[1;32m    782\u001b[0m \n\u001b[0;32m   (...)\u001b[0m\n\u001b[1;32m    786\u001b[0m \u001b[39m    for each group\u001b[39;00m\n\u001b[1;32m    787\u001b[0m \u001b[39m    \"\"\"\u001b[39;00m\n\u001b[0;32m--> 788\u001b[0m     splitter \u001b[39m=\u001b[39m \u001b[39mself\u001b[39;49m\u001b[39m.\u001b[39;49m_get_splitter(data, axis\u001b[39m=\u001b[39;49maxis)\n\u001b[1;32m    789\u001b[0m     keys \u001b[39m=\u001b[39m \u001b[39mself\u001b[39m\u001b[39m.\u001b[39mgroup_keys_seq\n\u001b[1;32m    790\u001b[0m     \u001b[39myield from\u001b[39;00m \u001b[39mzip\u001b[39m(keys, splitter)\n",
      "File \u001b[0;32m/usr/local/conda/envs/scarches/lib/python3.9/site-packages/pandas/core/groupby/ops.py:799\u001b[0m, in \u001b[0;36mBaseGrouper._get_splitter\u001b[0;34m(self, data, axis)\u001b[0m\n\u001b[1;32m    792\u001b[0m \u001b[39m@final\u001b[39m\n\u001b[1;32m    793\u001b[0m \u001b[39mdef\u001b[39;00m\u001b[39m \u001b[39m\u001b[39m_get_splitter\u001b[39m(\u001b[39mself\u001b[39m, data: NDFrame, axis: \u001b[39mint\u001b[39m \u001b[39m=\u001b[39m \u001b[39m0\u001b[39m) \u001b[39m-\u001b[39m\u001b[39m>\u001b[39m DataSplitter:\n\u001b[1;32m    794\u001b[0m \u001b[39m    \u001b[39m\u001b[39m\"\"\"\u001b[39;00m\n\u001b[1;32m    795\u001b[0m \u001b[39m    Returns\u001b[39;00m\n\u001b[1;32m    796\u001b[0m \u001b[39m    -------\u001b[39;00m\n\u001b[1;32m    797\u001b[0m \u001b[39m    Generator yielding subsetted objects\u001b[39;00m\n\u001b[1;32m    798\u001b[0m \u001b[39m    \"\"\"\u001b[39;00m\n\u001b[0;32m--> 799\u001b[0m     ids, _, ngroups \u001b[39m=\u001b[39m \u001b[39mself\u001b[39;49m\u001b[39m.\u001b[39;49mgroup_info\n\u001b[1;32m    800\u001b[0m     \u001b[39mreturn\u001b[39;00m get_splitter(data, ids, ngroups, axis\u001b[39m=\u001b[39maxis)\n",
      "File \u001b[0;32m/usr/local/conda/envs/scarches/lib/python3.9/site-packages/pandas/_libs/properties.pyx:36\u001b[0m, in \u001b[0;36mpandas._libs.properties.CachedProperty.__get__\u001b[0;34m()\u001b[0m\n",
      "File \u001b[0;32m/usr/local/conda/envs/scarches/lib/python3.9/site-packages/pandas/core/groupby/ops.py:946\u001b[0m, in \u001b[0;36mBaseGrouper.group_info\u001b[0;34m(self)\u001b[0m\n\u001b[1;32m    944\u001b[0m \u001b[39m@cache_readonly\u001b[39m\n\u001b[1;32m    945\u001b[0m \u001b[39mdef\u001b[39;00m\u001b[39m \u001b[39m\u001b[39mgroup_info\u001b[39m(\u001b[39mself\u001b[39m) \u001b[39m-\u001b[39m\u001b[39m>\u001b[39m \u001b[39mtuple\u001b[39m[npt\u001b[39m.\u001b[39mNDArray[np\u001b[39m.\u001b[39mintp], npt\u001b[39m.\u001b[39mNDArray[np\u001b[39m.\u001b[39mintp], \u001b[39mint\u001b[39m]:\n\u001b[0;32m--> 946\u001b[0m     comp_ids, obs_group_ids \u001b[39m=\u001b[39m \u001b[39mself\u001b[39;49m\u001b[39m.\u001b[39;49m_get_compressed_codes()\n\u001b[1;32m    948\u001b[0m     ngroups \u001b[39m=\u001b[39m \u001b[39mlen\u001b[39m(obs_group_ids)\n\u001b[1;32m    949\u001b[0m     comp_ids \u001b[39m=\u001b[39m ensure_platform_int(comp_ids)\n",
      "File \u001b[0;32m/usr/local/conda/envs/scarches/lib/python3.9/site-packages/pandas/core/groupby/ops.py:977\u001b[0m, in \u001b[0;36mBaseGrouper._get_compressed_codes\u001b[0;34m(self)\u001b[0m\n\u001b[1;32m    974\u001b[0m     \u001b[39m# FIXME: compress_group_index's second return value is int64, not intp\u001b[39;00m\n\u001b[1;32m    976\u001b[0m ping \u001b[39m=\u001b[39m \u001b[39mself\u001b[39m\u001b[39m.\u001b[39mgroupings[\u001b[39m0\u001b[39m]\n\u001b[0;32m--> 977\u001b[0m \u001b[39mreturn\u001b[39;00m ping\u001b[39m.\u001b[39;49mcodes, np\u001b[39m.\u001b[39marange(\u001b[39mlen\u001b[39m(ping\u001b[39m.\u001b[39mgroup_index), dtype\u001b[39m=\u001b[39mnp\u001b[39m.\u001b[39mintp)\n",
      "File \u001b[0;32m/usr/local/conda/envs/scarches/lib/python3.9/site-packages/pandas/core/groupby/grouper.py:621\u001b[0m, in \u001b[0;36mGrouping.codes\u001b[0;34m(self)\u001b[0m\n\u001b[1;32m    617\u001b[0m \u001b[39mif\u001b[39;00m \u001b[39mself\u001b[39m\u001b[39m.\u001b[39m_codes \u001b[39mis\u001b[39;00m \u001b[39mnot\u001b[39;00m \u001b[39mNone\u001b[39;00m:\n\u001b[1;32m    618\u001b[0m     \u001b[39m# _codes is set in __init__ for MultiIndex cases\u001b[39;00m\n\u001b[1;32m    619\u001b[0m     \u001b[39mreturn\u001b[39;00m \u001b[39mself\u001b[39m\u001b[39m.\u001b[39m_codes\n\u001b[0;32m--> 621\u001b[0m \u001b[39mreturn\u001b[39;00m \u001b[39mself\u001b[39;49m\u001b[39m.\u001b[39;49m_codes_and_uniques[\u001b[39m0\u001b[39m]\n",
      "File \u001b[0;32m/usr/local/conda/envs/scarches/lib/python3.9/site-packages/pandas/_libs/properties.pyx:36\u001b[0m, in \u001b[0;36mpandas._libs.properties.CachedProperty.__get__\u001b[0;34m()\u001b[0m\n",
      "File \u001b[0;32m/usr/local/conda/envs/scarches/lib/python3.9/site-packages/pandas/core/groupby/grouper.py:692\u001b[0m, in \u001b[0;36mGrouping._codes_and_uniques\u001b[0;34m(self)\u001b[0m\n\u001b[1;32m    685\u001b[0m     uniques \u001b[39m=\u001b[39m (\n\u001b[1;32m    686\u001b[0m         \u001b[39mself\u001b[39m\u001b[39m.\u001b[39mgrouping_vector\u001b[39m.\u001b[39mresult_index\u001b[39m.\u001b[39m_values  \u001b[39m# type: ignore[assignment]\u001b[39;00m\n\u001b[1;32m    687\u001b[0m     )\n\u001b[1;32m    688\u001b[0m \u001b[39melse\u001b[39;00m:\n\u001b[1;32m    689\u001b[0m     \u001b[39m# GH35667, replace dropna=False with use_na_sentinel=False\u001b[39;00m\n\u001b[1;32m    690\u001b[0m     \u001b[39m# error: Incompatible types in assignment (expression has type \"Union[\u001b[39;00m\n\u001b[1;32m    691\u001b[0m     \u001b[39m# ndarray[Any, Any], Index]\", variable has type \"Categorical\")\u001b[39;00m\n\u001b[0;32m--> 692\u001b[0m     codes, uniques \u001b[39m=\u001b[39m algorithms\u001b[39m.\u001b[39;49mfactorize(  \u001b[39m# type: ignore[assignment]\u001b[39;49;00m\n\u001b[1;32m    693\u001b[0m         \u001b[39mself\u001b[39;49m\u001b[39m.\u001b[39;49mgrouping_vector, sort\u001b[39m=\u001b[39;49m\u001b[39mself\u001b[39;49m\u001b[39m.\u001b[39;49m_sort, use_na_sentinel\u001b[39m=\u001b[39;49m\u001b[39mself\u001b[39;49m\u001b[39m.\u001b[39;49m_dropna\n\u001b[1;32m    694\u001b[0m     )\n\u001b[1;32m    695\u001b[0m \u001b[39mreturn\u001b[39;00m codes, uniques\n",
      "File \u001b[0;32m/usr/local/conda/envs/scarches/lib/python3.9/site-packages/pandas/core/algorithms.py:822\u001b[0m, in \u001b[0;36mfactorize\u001b[0;34m(values, sort, na_sentinel, use_na_sentinel, size_hint)\u001b[0m\n\u001b[1;32m    819\u001b[0m             \u001b[39m# Don't modify (potentially user-provided) array\u001b[39;00m\n\u001b[1;32m    820\u001b[0m             values \u001b[39m=\u001b[39m np\u001b[39m.\u001b[39mwhere(null_mask, na_value, values)\n\u001b[0;32m--> 822\u001b[0m     codes, uniques \u001b[39m=\u001b[39m factorize_array(\n\u001b[1;32m    823\u001b[0m         values,\n\u001b[1;32m    824\u001b[0m         na_sentinel\u001b[39m=\u001b[39;49mna_sentinel_arg,\n\u001b[1;32m    825\u001b[0m         size_hint\u001b[39m=\u001b[39;49msize_hint,\n\u001b[1;32m    826\u001b[0m     )\n\u001b[1;32m    828\u001b[0m \u001b[39mif\u001b[39;00m sort \u001b[39mand\u001b[39;00m \u001b[39mlen\u001b[39m(uniques) \u001b[39m>\u001b[39m \u001b[39m0\u001b[39m:\n\u001b[1;32m    829\u001b[0m     \u001b[39mif\u001b[39;00m na_sentinel \u001b[39mis\u001b[39;00m \u001b[39mNone\u001b[39;00m:\n\u001b[1;32m    830\u001b[0m         \u001b[39m# TODO: Can remove when na_sentinel=na_sentinel as in TODO above\u001b[39;00m\n",
      "File \u001b[0;32m/usr/local/conda/envs/scarches/lib/python3.9/site-packages/pandas/core/algorithms.py:578\u001b[0m, in \u001b[0;36mfactorize_array\u001b[0;34m(values, na_sentinel, size_hint, na_value, mask)\u001b[0m\n\u001b[1;32m    575\u001b[0m hash_klass, values \u001b[39m=\u001b[39m _get_hashtable_algo(values)\n\u001b[1;32m    577\u001b[0m table \u001b[39m=\u001b[39m hash_klass(size_hint \u001b[39mor\u001b[39;00m \u001b[39mlen\u001b[39m(values))\n\u001b[0;32m--> 578\u001b[0m uniques, codes \u001b[39m=\u001b[39m table\u001b[39m.\u001b[39;49mfactorize(\n\u001b[1;32m    579\u001b[0m     values,\n\u001b[1;32m    580\u001b[0m     na_sentinel\u001b[39m=\u001b[39;49mna_sentinel,\n\u001b[1;32m    581\u001b[0m     na_value\u001b[39m=\u001b[39;49mna_value,\n\u001b[1;32m    582\u001b[0m     mask\u001b[39m=\u001b[39;49mmask,\n\u001b[1;32m    583\u001b[0m     ignore_na\u001b[39m=\u001b[39;49mignore_na,\n\u001b[1;32m    584\u001b[0m )\n\u001b[1;32m    586\u001b[0m \u001b[39m# re-cast e.g. i8->dt64/td64, uint8->bool\u001b[39;00m\n\u001b[1;32m    587\u001b[0m uniques \u001b[39m=\u001b[39m _reconstruct_data(uniques, original\u001b[39m.\u001b[39mdtype, original)\n",
      "\u001b[0;31mKeyboardInterrupt\u001b[0m: "
     ]
    },
    {
     "data": {
      "image/png": "[encoded data removed]",
      "text/plain": [
       "<Figure size 320x320 with 1 Axes>"
      ]
     },
     "metadata": {
      "image/png": {
       "height": 287,
       "width": 310
      }
     },
     "output_type": "display_data"
    }
   ],
   "source": [
    "sns.histplot(xRaw)"
   ]
  },
  {
   "cell_type": "code",
   "execution_count": null,
   "metadata": {},
   "outputs": [
    {
     "ename": "KeyboardInterrupt",
     "evalue": "",
     "output_type": "error",
     "traceback": [
      "\u001b[0;31m---------------------------------------------------------------------------\u001b[0m",
      "\u001b[0;31mKeyboardInterrupt\u001b[0m                         Traceback (most recent call last)",
      "Cell \u001b[0;32mIn[62], line 1\u001b[0m\n\u001b[0;32m----> 1\u001b[0m sns\u001b[39m.\u001b[39;49mhistplot(xRaw[\u001b[39m1\u001b[39;49m,:])\n",
      "File \u001b[0;32m/usr/local/conda/envs/scarches/lib/python3.9/site-packages/seaborn/distributions.py:1416\u001b[0m, in \u001b[0;36mhistplot\u001b[0;34m(data, x, y, hue, weights, stat, bins, binwidth, binrange, discrete, cumulative, common_bins, common_norm, multiple, element, fill, shrink, kde, kde_kws, line_kws, thresh, pthresh, pmax, cbar, cbar_ax, cbar_kws, palette, hue_order, hue_norm, color, log_scale, legend, ax, **kwargs)\u001b[0m\n\u001b[1;32m   1405\u001b[0m estimate_kws \u001b[39m=\u001b[39m \u001b[39mdict\u001b[39m(\n\u001b[1;32m   1406\u001b[0m     stat\u001b[39m=\u001b[39mstat,\n\u001b[1;32m   1407\u001b[0m     bins\u001b[39m=\u001b[39mbins,\n\u001b[0;32m   (...)\u001b[0m\n\u001b[1;32m   1411\u001b[0m     cumulative\u001b[39m=\u001b[39mcumulative,\n\u001b[1;32m   1412\u001b[0m )\n\u001b[1;32m   1414\u001b[0m \u001b[39mif\u001b[39;00m p\u001b[39m.\u001b[39munivariate:\n\u001b[0;32m-> 1416\u001b[0m     p\u001b[39m.\u001b[39;49mplot_univariate_histogram(\n\u001b[1;32m   1417\u001b[0m         multiple\u001b[39m=\u001b[39;49mmultiple,\n\u001b[1;32m   1418\u001b[0m         element\u001b[39m=\u001b[39;49melement,\n\u001b[1;32m   1419\u001b[0m         fill\u001b[39m=\u001b[39;49mfill,\n\u001b[1;32m   1420\u001b[0m         shrink\u001b[39m=\u001b[39;49mshrink,\n\u001b[1;32m   1421\u001b[0m         common_norm\u001b[39m=\u001b[39;49mcommon_norm,\n\u001b[1;32m   1422\u001b[0m         common_bins\u001b[39m=\u001b[39;49mcommon_bins,\n\u001b[1;32m   1423\u001b[0m         kde\u001b[39m=\u001b[39;49mkde,\n\u001b[1;32m   1424\u001b[0m         kde_kws\u001b[39m=\u001b[39;49mkde_kws,\n\u001b[1;32m   1425\u001b[0m         color\u001b[39m=\u001b[39;49mcolor,\n\u001b[1;32m   1426\u001b[0m         legend\u001b[39m=\u001b[39;49mlegend,\n\u001b[1;32m   1427\u001b[0m         estimate_kws\u001b[39m=\u001b[39;49mestimate_kws,\n\u001b[1;32m   1428\u001b[0m         line_kws\u001b[39m=\u001b[39;49mline_kws,\n\u001b[1;32m   1429\u001b[0m         \u001b[39m*\u001b[39;49m\u001b[39m*\u001b[39;49mkwargs,\n\u001b[1;32m   1430\u001b[0m     )\n\u001b[1;32m   1432\u001b[0m \u001b[39melse\u001b[39;00m:\n\u001b[1;32m   1434\u001b[0m     p\u001b[39m.\u001b[39mplot_bivariate_histogram(\n\u001b[1;32m   1435\u001b[0m         common_bins\u001b[39m=\u001b[39mcommon_bins,\n\u001b[1;32m   1436\u001b[0m         common_norm\u001b[39m=\u001b[39mcommon_norm,\n\u001b[0;32m   (...)\u001b[0m\n\u001b[1;32m   1446\u001b[0m         \u001b[39m*\u001b[39m\u001b[39m*\u001b[39mkwargs,\n\u001b[1;32m   1447\u001b[0m     )\n",
      "File \u001b[0;32m/usr/local/conda/envs/scarches/lib/python3.9/site-packages/seaborn/distributions.py:472\u001b[0m, in \u001b[0;36m_DistributionPlotter.plot_univariate_histogram\u001b[0;34m(self, multiple, element, fill, common_norm, common_bins, shrink, kde, kde_kws, color, legend, line_kws, estimate_kws, **plot_kws)\u001b[0m\n\u001b[1;32m    470\u001b[0m     bin_kws \u001b[39m=\u001b[39m estimator\u001b[39m.\u001b[39m_define_bin_params(sub_data, orient, \u001b[39mNone\u001b[39;00m)\n\u001b[1;32m    471\u001b[0m res \u001b[39m=\u001b[39m estimator\u001b[39m.\u001b[39m_normalize(estimator\u001b[39m.\u001b[39m_eval(sub_data, orient, bin_kws))\n\u001b[0;32m--> 472\u001b[0m heights \u001b[39m=\u001b[39m res[estimator\u001b[39m.\u001b[39;49mstat]\u001b[39m.\u001b[39mto_numpy()\n\u001b[1;32m    473\u001b[0m widths \u001b[39m=\u001b[39m res[\u001b[39m\"\u001b[39m\u001b[39mspace\u001b[39m\u001b[39m\"\u001b[39m]\u001b[39m.\u001b[39mto_numpy()\n\u001b[1;32m    474\u001b[0m edges \u001b[39m=\u001b[39m res[orient]\u001b[39m.\u001b[39mto_numpy() \u001b[39m-\u001b[39m widths \u001b[39m/\u001b[39m \u001b[39m2\u001b[39m\n",
      "File \u001b[0;32m/usr/local/conda/envs/scarches/lib/python3.9/site-packages/pandas/core/frame.py:3774\u001b[0m, in \u001b[0;36mDataFrame.__getitem__\u001b[0;34m(self, key)\u001b[0m\n\u001b[1;32m   3767\u001b[0m \u001b[39m# GH#45316 Return view if key is not duplicated\u001b[39;00m\n\u001b[1;32m   3768\u001b[0m \u001b[39m# Only use drop_duplicates with duplicates for performance\u001b[39;00m\n\u001b[1;32m   3769\u001b[0m \u001b[39mif\u001b[39;00m \u001b[39mnot\u001b[39;00m is_mi \u001b[39mand\u001b[39;00m (\n\u001b[1;32m   3770\u001b[0m     \u001b[39mself\u001b[39m\u001b[39m.\u001b[39mcolumns\u001b[39m.\u001b[39mis_unique\n\u001b[1;32m   3771\u001b[0m     \u001b[39mand\u001b[39;00m key \u001b[39min\u001b[39;00m \u001b[39mself\u001b[39m\u001b[39m.\u001b[39mcolumns\n\u001b[1;32m   3772\u001b[0m     \u001b[39mor\u001b[39;00m key \u001b[39min\u001b[39;00m \u001b[39mself\u001b[39m\u001b[39m.\u001b[39mcolumns\u001b[39m.\u001b[39mdrop_duplicates(keep\u001b[39m=\u001b[39m\u001b[39mFalse\u001b[39;00m)\n\u001b[1;32m   3773\u001b[0m ):\n\u001b[0;32m-> 3774\u001b[0m     \u001b[39mreturn\u001b[39;00m \u001b[39mself\u001b[39;49m\u001b[39m.\u001b[39;49m_get_item_cache(key)\n\u001b[1;32m   3776\u001b[0m \u001b[39melif\u001b[39;00m is_mi \u001b[39mand\u001b[39;00m \u001b[39mself\u001b[39m\u001b[39m.\u001b[39mcolumns\u001b[39m.\u001b[39mis_unique \u001b[39mand\u001b[39;00m key \u001b[39min\u001b[39;00m \u001b[39mself\u001b[39m\u001b[39m.\u001b[39mcolumns:\n\u001b[1;32m   3777\u001b[0m     \u001b[39mreturn\u001b[39;00m \u001b[39mself\u001b[39m\u001b[39m.\u001b[39m_getitem_multilevel(key)\n",
      "File \u001b[0;32m/usr/local/conda/envs/scarches/lib/python3.9/site-packages/pandas/core/frame.py:4283\u001b[0m, in \u001b[0;36mDataFrame._get_item_cache\u001b[0;34m(self, item)\u001b[0m\n\u001b[1;32m   4278\u001b[0m \u001b[39mif\u001b[39;00m res \u001b[39mis\u001b[39;00m \u001b[39mNone\u001b[39;00m:\n\u001b[1;32m   4279\u001b[0m     \u001b[39m# All places that call _get_item_cache have unique columns,\u001b[39;00m\n\u001b[1;32m   4280\u001b[0m     \u001b[39m#  pending resolution of GH#33047\u001b[39;00m\n\u001b[1;32m   4282\u001b[0m     loc \u001b[39m=\u001b[39m \u001b[39mself\u001b[39m\u001b[39m.\u001b[39mcolumns\u001b[39m.\u001b[39mget_loc(item)\n\u001b[0;32m-> 4283\u001b[0m     res \u001b[39m=\u001b[39m \u001b[39mself\u001b[39;49m\u001b[39m.\u001b[39;49m_ixs(loc, axis\u001b[39m=\u001b[39;49m\u001b[39m1\u001b[39;49m)\n\u001b[1;32m   4285\u001b[0m     cache[item] \u001b[39m=\u001b[39m res\n\u001b[1;32m   4287\u001b[0m     \u001b[39m# for a chain\u001b[39;00m\n",
      "File \u001b[0;32m/usr/local/conda/envs/scarches/lib/python3.9/site-packages/pandas/core/frame.py:3731\u001b[0m, in \u001b[0;36mDataFrame._ixs\u001b[0;34m(self, i, axis)\u001b[0m\n\u001b[1;32m   3728\u001b[0m label \u001b[39m=\u001b[39m \u001b[39mself\u001b[39m\u001b[39m.\u001b[39mcolumns[i]\n\u001b[1;32m   3730\u001b[0m col_mgr \u001b[39m=\u001b[39m \u001b[39mself\u001b[39m\u001b[39m.\u001b[39m_mgr\u001b[39m.\u001b[39miget(i)\n\u001b[0;32m-> 3731\u001b[0m result \u001b[39m=\u001b[39m \u001b[39mself\u001b[39;49m\u001b[39m.\u001b[39;49m_box_col_values(col_mgr, i)\n\u001b[1;32m   3733\u001b[0m \u001b[39m# this is a cached value, mark it so\u001b[39;00m\n\u001b[1;32m   3734\u001b[0m result\u001b[39m.\u001b[39m_set_as_cached(label, \u001b[39mself\u001b[39m)\n",
      "File \u001b[0;32m/usr/local/conda/envs/scarches/lib/python3.9/site-packages/pandas/core/frame.py:4263\u001b[0m, in \u001b[0;36mDataFrame._box_col_values\u001b[0;34m(self, values, loc)\u001b[0m\n\u001b[1;32m   4258\u001b[0m \u001b[39m\u001b[39m\u001b[39m\"\"\"\u001b[39;00m\n\u001b[1;32m   4259\u001b[0m \u001b[39mProvide boxed values for a column.\u001b[39;00m\n\u001b[1;32m   4260\u001b[0m \u001b[39m\"\"\"\u001b[39;00m\n\u001b[1;32m   4261\u001b[0m \u001b[39m# Lookup in columns so that if e.g. a str datetime was passed\u001b[39;00m\n\u001b[1;32m   4262\u001b[0m \u001b[39m#  we attach the Timestamp object as the name.\u001b[39;00m\n\u001b[0;32m-> 4263\u001b[0m name \u001b[39m=\u001b[39m \u001b[39mself\u001b[39;49m\u001b[39m.\u001b[39;49mcolumns[loc]\n\u001b[1;32m   4264\u001b[0m klass \u001b[39m=\u001b[39m \u001b[39mself\u001b[39m\u001b[39m.\u001b[39m_constructor_sliced\n\u001b[1;32m   4265\u001b[0m \u001b[39m# We get index=self.index bc values is a SingleDataManager\u001b[39;00m\n",
      "File \u001b[0;32m/usr/local/conda/envs/scarches/lib/python3.9/site-packages/pandas/core/indexes/base.py:5317\u001b[0m, in \u001b[0;36mIndex.__getitem__\u001b[0;34m(self, key)\u001b[0m\n\u001b[1;32m   5305\u001b[0m \u001b[39m\u001b[39m\u001b[39m\"\"\"\u001b[39;00m\n\u001b[1;32m   5306\u001b[0m \u001b[39mOverride numpy.ndarray's __getitem__ method to work as desired.\u001b[39;00m\n\u001b[1;32m   5307\u001b[0m \n\u001b[0;32m   (...)\u001b[0m\n\u001b[1;32m   5313\u001b[0m \n\u001b[1;32m   5314\u001b[0m \u001b[39m\"\"\"\u001b[39;00m\n\u001b[1;32m   5315\u001b[0m getitem \u001b[39m=\u001b[39m \u001b[39mself\u001b[39m\u001b[39m.\u001b[39m_data\u001b[39m.\u001b[39m\u001b[39m__getitem__\u001b[39m\n\u001b[0;32m-> 5317\u001b[0m \u001b[39mif\u001b[39;00m is_integer(key) \u001b[39mor\u001b[39;00m is_float(key):\n\u001b[1;32m   5318\u001b[0m     \u001b[39m# GH#44051 exclude bool, which would return a 2d ndarray\u001b[39;00m\n\u001b[1;32m   5319\u001b[0m     key \u001b[39m=\u001b[39m com\u001b[39m.\u001b[39mcast_scalar_indexer(key, warn_float\u001b[39m=\u001b[39m\u001b[39mTrue\u001b[39;00m)\n\u001b[1;32m   5320\u001b[0m     \u001b[39mreturn\u001b[39;00m getitem(key)\n",
      "\u001b[0;31mKeyboardInterrupt\u001b[0m: "
     ]
    },
    {
     "data": {
      "image/png": "[encoded data removed]",
      "text/plain": [
       "<Figure size 320x320 with 1 Axes>"
      ]
     },
     "metadata": {
      "image/png": {
       "height": 281,
       "width": 332
      }
     },
     "output_type": "display_data"
    }
   ],
   "source": [
    "sns.histplot(xRaw[1,:])"
   ]
  },
  {
   "cell_type": "code",
   "execution_count": null,
   "metadata": {},
   "outputs": [
    {
     "data": {
      "text/plain": [
       "matrix([[0.  , 0.7 , 0.67, 2.28, 3.35, 0.69, 1.41, ..., 5.19, 4.71, 3.38,\n",
       "         5.23, 4.25, 0.75, 4.97],\n",
       "        [0.  , 1.26, 1.05, 0.63, 4.07, 1.37, 1.96, ..., 5.82, 5.33, 4.11,\n",
       "         5.86, 5.04, 2.15, 5.7 ],\n",
       "        [0.  , 0.  , 1.69, 0.83, 3.02, 0.77, 1.51, ..., 6.23, 6.05, 4.98,\n",
       "         6.37, 5.76, 2.04, 6.21],\n",
       "        [0.77, 0.  , 0.86, 0.88, 3.55, 0.66, 1.69, ..., 5.91, 5.66, 4.46,\n",
       "         5.98, 5.34, 2.6 , 5.87],\n",
       "        [0.  , 0.  , 1.55, 1.98, 3.49, 0.64, 1.39, ..., 6.06, 5.72, 4.09,\n",
       "         6.02, 5.17, 2.25, 5.92],\n",
       "        [0.  , 0.  , 0.76, 0.57, 3.  , 0.  , 1.55, ..., 4.99, 4.64, 3.26,\n",
       "         5.17, 4.53, 1.32, 4.86],\n",
       "        [0.  , 1.42, 0.  , 2.4 , 3.02, 0.  , 1.61, ..., 6.03, 5.84, 4.56,\n",
       "         6.1 , 5.47, 1.84, 6.  ],\n",
       "        ...,\n",
       "        [0.  , 0.39, 0.  , 0.62, 1.64, 0.43, 0.  , ..., 4.09, 4.1 , 3.34,\n",
       "         4.03, 3.67, 2.01, 4.01],\n",
       "        [0.  , 0.  , 0.  , 0.  , 0.  , 0.  , 0.  , ..., 1.78, 1.74, 0.78,\n",
       "         1.64, 1.31, 1.  , 1.67],\n",
       "        [0.  , 0.  , 0.  , 0.  , 0.  , 0.  , 0.  , ..., 1.96, 1.9 , 1.37,\n",
       "         1.75, 1.19, 0.  , 1.86],\n",
       "        [0.  , 0.  , 0.  , 0.  , 0.  , 0.  , 0.  , ..., 1.82, 1.8 , 0.  ,\n",
       "         1.61, 1.18, 0.63, 1.67],\n",
       "        [0.  , 0.  , 0.  , 0.  , 0.  , 0.  , 0.  , ..., 1.78, 1.77, 1.02,\n",
       "         1.63, 1.02, 0.  , 1.63],\n",
       "        [0.  , 0.  , 0.  , 0.  , 1.06, 0.  , 0.  , ..., 1.71, 1.67, 0.85,\n",
       "         1.39, 0.85, 0.  , 1.7 ],\n",
       "        [0.  , 0.  , 0.  , 0.  , 0.  , 0.  , 0.  , ..., 1.79, 1.64, 0.45,\n",
       "         1.51, 1.15, 0.66, 1.57]], dtype=float32)"
      ]
     },
     "execution_count": 63,
     "metadata": {},
     "output_type": "execute_result"
    }
   ],
   "source": [
    "xRaw"
   ]
  },
  {
   "cell_type": "code",
   "execution_count": null,
   "metadata": {},
   "outputs": [
    {
     "data": {
      "text/plain": [
       "matrix([[0.  , 1.26, 1.05, 0.63, 4.07, 1.37, 1.96, ..., 5.82, 5.33, 4.11,\n",
       "         5.86, 5.04, 2.15, 5.7 ]], dtype=float32)"
      ]
     },
     "execution_count": 64,
     "metadata": {},
     "output_type": "execute_result"
    }
   ],
   "source": [
    "xRaw[1,:]"
   ]
  },
  {
   "cell_type": "code",
   "execution_count": null,
   "metadata": {},
   "outputs": [
    {
     "data": {
      "text/plain": [
       "1"
      ]
     },
     "execution_count": 65,
     "metadata": {},
     "output_type": "execute_result"
    }
   ],
   "source": [
    "len(xRaw[1,:])"
   ]
  },
  {
   "cell_type": "code",
   "execution_count": null,
   "metadata": {},
   "outputs": [
    {
     "data": {
      "text/plain": [
       "(1, 17063)"
      ]
     },
     "execution_count": 66,
     "metadata": {},
     "output_type": "execute_result"
    }
   ],
   "source": [
    "xRaw[1,:].shape"
   ]
  },
  {
   "cell_type": "code",
   "execution_count": null,
   "metadata": {},
   "outputs": [
    {
     "ename": "KeyboardInterrupt",
     "evalue": "",
     "output_type": "error",
     "traceback": [
      "\u001b[0;31m---------------------------------------------------------------------------\u001b[0m",
      "\u001b[0;31mKeyboardInterrupt\u001b[0m                         Traceback (most recent call last)",
      "Cell \u001b[0;32mIn[67], line 1\u001b[0m\n\u001b[0;32m----> 1\u001b[0m sns\u001b[39m.\u001b[39;49mhistplot(xRaw[\u001b[39m1\u001b[39;49m,:], bins\u001b[39m=\u001b[39;49m\u001b[39m50\u001b[39;49m)\n",
      "File \u001b[0;32m/usr/local/conda/envs/scarches/lib/python3.9/site-packages/seaborn/distributions.py:1416\u001b[0m, in \u001b[0;36mhistplot\u001b[0;34m(data, x, y, hue, weights, stat, bins, binwidth, binrange, discrete, cumulative, common_bins, common_norm, multiple, element, fill, shrink, kde, kde_kws, line_kws, thresh, pthresh, pmax, cbar, cbar_ax, cbar_kws, palette, hue_order, hue_norm, color, log_scale, legend, ax, **kwargs)\u001b[0m\n\u001b[1;32m   1405\u001b[0m estimate_kws \u001b[39m=\u001b[39m \u001b[39mdict\u001b[39m(\n\u001b[1;32m   1406\u001b[0m     stat\u001b[39m=\u001b[39mstat,\n\u001b[1;32m   1407\u001b[0m     bins\u001b[39m=\u001b[39mbins,\n\u001b[0;32m   (...)\u001b[0m\n\u001b[1;32m   1411\u001b[0m     cumulative\u001b[39m=\u001b[39mcumulative,\n\u001b[1;32m   1412\u001b[0m )\n\u001b[1;32m   1414\u001b[0m \u001b[39mif\u001b[39;00m p\u001b[39m.\u001b[39munivariate:\n\u001b[0;32m-> 1416\u001b[0m     p\u001b[39m.\u001b[39;49mplot_univariate_histogram(\n\u001b[1;32m   1417\u001b[0m         multiple\u001b[39m=\u001b[39;49mmultiple,\n\u001b[1;32m   1418\u001b[0m         element\u001b[39m=\u001b[39;49melement,\n\u001b[1;32m   1419\u001b[0m         fill\u001b[39m=\u001b[39;49mfill,\n\u001b[1;32m   1420\u001b[0m         shrink\u001b[39m=\u001b[39;49mshrink,\n\u001b[1;32m   1421\u001b[0m         common_norm\u001b[39m=\u001b[39;49mcommon_norm,\n\u001b[1;32m   1422\u001b[0m         common_bins\u001b[39m=\u001b[39;49mcommon_bins,\n\u001b[1;32m   1423\u001b[0m         kde\u001b[39m=\u001b[39;49mkde,\n\u001b[1;32m   1424\u001b[0m         kde_kws\u001b[39m=\u001b[39;49mkde_kws,\n\u001b[1;32m   1425\u001b[0m         color\u001b[39m=\u001b[39;49mcolor,\n\u001b[1;32m   1426\u001b[0m         legend\u001b[39m=\u001b[39;49mlegend,\n\u001b[1;32m   1427\u001b[0m         estimate_kws\u001b[39m=\u001b[39;49mestimate_kws,\n\u001b[1;32m   1428\u001b[0m         line_kws\u001b[39m=\u001b[39;49mline_kws,\n\u001b[1;32m   1429\u001b[0m         \u001b[39m*\u001b[39;49m\u001b[39m*\u001b[39;49mkwargs,\n\u001b[1;32m   1430\u001b[0m     )\n\u001b[1;32m   1432\u001b[0m \u001b[39melse\u001b[39;00m:\n\u001b[1;32m   1434\u001b[0m     p\u001b[39m.\u001b[39mplot_bivariate_histogram(\n\u001b[1;32m   1435\u001b[0m         common_bins\u001b[39m=\u001b[39mcommon_bins,\n\u001b[1;32m   1436\u001b[0m         common_norm\u001b[39m=\u001b[39mcommon_norm,\n\u001b[0;32m   (...)\u001b[0m\n\u001b[1;32m   1446\u001b[0m         \u001b[39m*\u001b[39m\u001b[39m*\u001b[39mkwargs,\n\u001b[1;32m   1447\u001b[0m     )\n",
      "File \u001b[0;32m/usr/local/conda/envs/scarches/lib/python3.9/site-packages/seaborn/distributions.py:571\u001b[0m, in \u001b[0;36m_DistributionPlotter.plot_univariate_histogram\u001b[0;34m(self, multiple, element, fill, common_norm, common_bins, shrink, kde, kde_kws, color, legend, line_kws, estimate_kws, **plot_kws)\u001b[0m\n\u001b[1;32m    566\u001b[0m \u001b[39mif\u001b[39;00m element \u001b[39m==\u001b[39m \u001b[39m\"\u001b[39m\u001b[39mbars\u001b[39m\u001b[39m\"\u001b[39m:\n\u001b[1;32m    567\u001b[0m \n\u001b[1;32m    568\u001b[0m     \u001b[39m# Use matplotlib bar plotting\u001b[39;00m\n\u001b[1;32m    570\u001b[0m     plot_func \u001b[39m=\u001b[39m ax\u001b[39m.\u001b[39mbar \u001b[39mif\u001b[39;00m \u001b[39mself\u001b[39m\u001b[39m.\u001b[39mdata_variable \u001b[39m==\u001b[39m \u001b[39m\"\u001b[39m\u001b[39mx\u001b[39m\u001b[39m\"\u001b[39m \u001b[39melse\u001b[39;00m ax\u001b[39m.\u001b[39mbarh\n\u001b[0;32m--> 571\u001b[0m     artists \u001b[39m=\u001b[39m plot_func(\n\u001b[1;32m    572\u001b[0m         hist[\u001b[39m\"\u001b[39;49m\u001b[39medges\u001b[39;49m\u001b[39m\"\u001b[39;49m],\n\u001b[1;32m    573\u001b[0m         hist[\u001b[39m\"\u001b[39;49m\u001b[39mheights\u001b[39;49m\u001b[39m\"\u001b[39;49m] \u001b[39m-\u001b[39;49m bottom,\n\u001b[1;32m    574\u001b[0m         hist[\u001b[39m\"\u001b[39;49m\u001b[39mwidths\u001b[39;49m\u001b[39m\"\u001b[39;49m],\n\u001b[1;32m    575\u001b[0m         bottom,\n\u001b[1;32m    576\u001b[0m         align\u001b[39m=\u001b[39;49m\u001b[39m\"\u001b[39;49m\u001b[39medge\u001b[39;49m\u001b[39m\"\u001b[39;49m,\n\u001b[1;32m    577\u001b[0m         \u001b[39m*\u001b[39;49m\u001b[39m*\u001b[39;49martist_kws,\n\u001b[1;32m    578\u001b[0m     )\n\u001b[1;32m    580\u001b[0m     \u001b[39mfor\u001b[39;00m bar \u001b[39min\u001b[39;00m artists:\n\u001b[1;32m    581\u001b[0m         \u001b[39mif\u001b[39;00m \u001b[39mself\u001b[39m\u001b[39m.\u001b[39mdata_variable \u001b[39m==\u001b[39m \u001b[39m\"\u001b[39m\u001b[39mx\u001b[39m\u001b[39m\"\u001b[39m:\n",
      "File \u001b[0;32m/usr/local/conda/envs/scarches/lib/python3.9/site-packages/matplotlib/__init__.py:1476\u001b[0m, in \u001b[0;36m_preprocess_data.<locals>.inner\u001b[0;34m(ax, data, *args, **kwargs)\u001b[0m\n\u001b[1;32m   1473\u001b[0m \u001b[39m@functools\u001b[39m\u001b[39m.\u001b[39mwraps(func)\n\u001b[1;32m   1474\u001b[0m \u001b[39mdef\u001b[39;00m\u001b[39m \u001b[39m\u001b[39minner\u001b[39m(ax, \u001b[39m*\u001b[39margs, data\u001b[39m=\u001b[39m\u001b[39mNone\u001b[39;00m, \u001b[39m*\u001b[39m\u001b[39m*\u001b[39mkwargs):\n\u001b[1;32m   1475\u001b[0m     \u001b[39mif\u001b[39;00m data \u001b[39mis\u001b[39;00m \u001b[39mNone\u001b[39;00m:\n\u001b[0;32m-> 1476\u001b[0m         \u001b[39mreturn\u001b[39;00m func(\n\u001b[1;32m   1477\u001b[0m             ax,\n\u001b[1;32m   1478\u001b[0m             \u001b[39m*\u001b[39;49m\u001b[39mmap\u001b[39;49m(sanitize_sequence, args),\n\u001b[1;32m   1479\u001b[0m             \u001b[39m*\u001b[39;49m\u001b[39m*\u001b[39;49m{k: sanitize_sequence(v) \u001b[39mfor\u001b[39;49;00m k, v \u001b[39min\u001b[39;49;00m kwargs\u001b[39m.\u001b[39;49mitems()})\n\u001b[1;32m   1481\u001b[0m     bound \u001b[39m=\u001b[39m new_sig\u001b[39m.\u001b[39mbind(ax, \u001b[39m*\u001b[39margs, \u001b[39m*\u001b[39m\u001b[39m*\u001b[39mkwargs)\n\u001b[1;32m   1482\u001b[0m     auto_label \u001b[39m=\u001b[39m (bound\u001b[39m.\u001b[39marguments\u001b[39m.\u001b[39mget(label_namer)\n\u001b[1;32m   1483\u001b[0m                   \u001b[39mor\u001b[39;00m bound\u001b[39m.\u001b[39mkwargs\u001b[39m.\u001b[39mget(label_namer))\n",
      "File \u001b[0;32m/usr/local/conda/envs/scarches/lib/python3.9/site-packages/matplotlib/axes/_axes.py:2597\u001b[0m, in \u001b[0;36mAxes.bar\u001b[0;34m(self, x, height, width, bottom, align, **kwargs)\u001b[0m\n\u001b[1;32m   2595\u001b[0m     \u001b[39melse\u001b[39;00m:  \u001b[39m# horizontal\u001b[39;00m\n\u001b[1;32m   2596\u001b[0m         r\u001b[39m.\u001b[39msticky_edges\u001b[39m.\u001b[39mx\u001b[39m.\u001b[39mappend(l)\n\u001b[0;32m-> 2597\u001b[0m     \u001b[39mself\u001b[39;49m\u001b[39m.\u001b[39;49madd_patch(r)\n\u001b[1;32m   2598\u001b[0m     patches\u001b[39m.\u001b[39mappend(r)\n\u001b[1;32m   2600\u001b[0m \u001b[39mif\u001b[39;00m xerr \u001b[39mis\u001b[39;00m \u001b[39mnot\u001b[39;00m \u001b[39mNone\u001b[39;00m \u001b[39mor\u001b[39;00m yerr \u001b[39mis\u001b[39;00m \u001b[39mnot\u001b[39;00m \u001b[39mNone\u001b[39;00m:\n",
      "File \u001b[0;32m/usr/local/conda/envs/scarches/lib/python3.9/site-packages/matplotlib/axes/_base.py:2413\u001b[0m, in \u001b[0;36m_AxesBase.add_patch\u001b[0;34m(self, p)\u001b[0m\n\u001b[1;32m   2411\u001b[0m \u001b[39mself\u001b[39m\u001b[39m.\u001b[39m_set_artist_props(p)\n\u001b[1;32m   2412\u001b[0m \u001b[39mif\u001b[39;00m p\u001b[39m.\u001b[39mget_clip_path() \u001b[39mis\u001b[39;00m \u001b[39mNone\u001b[39;00m:\n\u001b[0;32m-> 2413\u001b[0m     p\u001b[39m.\u001b[39;49mset_clip_path(\u001b[39mself\u001b[39;49m\u001b[39m.\u001b[39;49mpatch)\n\u001b[1;32m   2414\u001b[0m \u001b[39mself\u001b[39m\u001b[39m.\u001b[39m_update_patch_limits(p)\n\u001b[1;32m   2415\u001b[0m \u001b[39mself\u001b[39m\u001b[39m.\u001b[39m_children\u001b[39m.\u001b[39mappend(p)\n",
      "File \u001b[0;32m/usr/local/conda/envs/scarches/lib/python3.9/site-packages/matplotlib/artist.py:800\u001b[0m, in \u001b[0;36mArtist.set_clip_path\u001b[0;34m(self, path, transform)\u001b[0m\n\u001b[1;32m    797\u001b[0m \u001b[39mif\u001b[39;00m transform \u001b[39mis\u001b[39;00m \u001b[39mNone\u001b[39;00m:\n\u001b[1;32m    798\u001b[0m     \u001b[39mif\u001b[39;00m \u001b[39misinstance\u001b[39m(path, Rectangle):\n\u001b[1;32m    799\u001b[0m         \u001b[39mself\u001b[39m\u001b[39m.\u001b[39mclipbox \u001b[39m=\u001b[39m TransformedBbox(Bbox\u001b[39m.\u001b[39munit(),\n\u001b[0;32m--> 800\u001b[0m                                        path\u001b[39m.\u001b[39;49mget_transform())\n\u001b[1;32m    801\u001b[0m         \u001b[39mself\u001b[39m\u001b[39m.\u001b[39m_clippath \u001b[39m=\u001b[39m \u001b[39mNone\u001b[39;00m\n\u001b[1;32m    802\u001b[0m         success \u001b[39m=\u001b[39m \u001b[39mTrue\u001b[39;00m\n",
      "File \u001b[0;32m/usr/local/conda/envs/scarches/lib/python3.9/site-packages/matplotlib/patches.py:308\u001b[0m, in \u001b[0;36mPatch.get_transform\u001b[0;34m(self)\u001b[0m\n\u001b[1;32m    306\u001b[0m \u001b[39mdef\u001b[39;00m\u001b[39m \u001b[39m\u001b[39mget_transform\u001b[39m(\u001b[39mself\u001b[39m):\n\u001b[1;32m    307\u001b[0m \u001b[39m    \u001b[39m\u001b[39m\"\"\"Return the `~.transforms.Transform` applied to the `Patch`.\"\"\"\u001b[39;00m\n\u001b[0;32m--> 308\u001b[0m     \u001b[39mreturn\u001b[39;00m \u001b[39mself\u001b[39;49m\u001b[39m.\u001b[39;49mget_patch_transform() \u001b[39m+\u001b[39m artist\u001b[39m.\u001b[39mArtist\u001b[39m.\u001b[39mget_transform(\u001b[39mself\u001b[39m)\n",
      "File \u001b[0;32m/usr/local/conda/envs/scarches/lib/python3.9/site-packages/matplotlib/patches.py:800\u001b[0m, in \u001b[0;36mRectangle.get_patch_transform\u001b[0;34m(self)\u001b[0m\n\u001b[1;32m    798\u001b[0m     rotation_point \u001b[39m=\u001b[39m bbox\u001b[39m.\u001b[39mx0 \u001b[39m+\u001b[39m width \u001b[39m/\u001b[39m \u001b[39m2.\u001b[39m, bbox\u001b[39m.\u001b[39my0 \u001b[39m+\u001b[39m height \u001b[39m/\u001b[39m \u001b[39m2.\u001b[39m\n\u001b[1;32m    799\u001b[0m \u001b[39melif\u001b[39;00m \u001b[39mself\u001b[39m\u001b[39m.\u001b[39mrotation_point \u001b[39m==\u001b[39m \u001b[39m'\u001b[39m\u001b[39mxy\u001b[39m\u001b[39m'\u001b[39m:\n\u001b[0;32m--> 800\u001b[0m     rotation_point \u001b[39m=\u001b[39m bbox\u001b[39m.\u001b[39;49mx0, bbox\u001b[39m.\u001b[39my0\n\u001b[1;32m    801\u001b[0m \u001b[39melse\u001b[39;00m:\n\u001b[1;32m    802\u001b[0m     rotation_point \u001b[39m=\u001b[39m \u001b[39mself\u001b[39m\u001b[39m.\u001b[39mrotation_point\n",
      "File \u001b[0;32m/usr/local/conda/envs/scarches/lib/python3.9/site-packages/matplotlib/transforms.py:250\u001b[0m, in \u001b[0;36mBboxBase.x0\u001b[0;34m(self)\u001b[0m\n\u001b[1;32m    242\u001b[0m \u001b[39m@property\u001b[39m\n\u001b[1;32m    243\u001b[0m \u001b[39mdef\u001b[39;00m\u001b[39m \u001b[39m\u001b[39mx0\u001b[39m(\u001b[39mself\u001b[39m):\n\u001b[1;32m    244\u001b[0m \u001b[39m    \u001b[39m\u001b[39m\"\"\"\u001b[39;00m\n\u001b[1;32m    245\u001b[0m \u001b[39m    The first of the pair of *x* coordinates that define the bounding box.\u001b[39;00m\n\u001b[1;32m    246\u001b[0m \n\u001b[1;32m    247\u001b[0m \u001b[39m    This is not guaranteed to be less than :attr:`x1` (for that, use\u001b[39;00m\n\u001b[1;32m    248\u001b[0m \u001b[39m    :attr:`xmin`).\u001b[39;00m\n\u001b[1;32m    249\u001b[0m \u001b[39m    \"\"\"\u001b[39;00m\n\u001b[0;32m--> 250\u001b[0m     \u001b[39mreturn\u001b[39;00m \u001b[39mself\u001b[39;49m\u001b[39m.\u001b[39;49mget_points()[\u001b[39m0\u001b[39m, \u001b[39m0\u001b[39m]\n",
      "File \u001b[0;32m/usr/local/conda/envs/scarches/lib/python3.9/site-packages/matplotlib/transforms.py:1054\u001b[0m, in \u001b[0;36mBbox.get_points\u001b[0;34m(self)\u001b[0m\n\u001b[1;32m   1049\u001b[0m \u001b[39mdef\u001b[39;00m\u001b[39m \u001b[39m\u001b[39mget_points\u001b[39m(\u001b[39mself\u001b[39m):\n\u001b[1;32m   1050\u001b[0m \u001b[39m    \u001b[39m\u001b[39m\"\"\"\u001b[39;00m\n\u001b[1;32m   1051\u001b[0m \u001b[39m    Get the points of the bounding box as an array of the form\u001b[39;00m\n\u001b[1;32m   1052\u001b[0m \u001b[39m    ``[[x0, y0], [x1, y1]]``.\u001b[39;00m\n\u001b[1;32m   1053\u001b[0m \u001b[39m    \"\"\"\u001b[39;00m\n\u001b[0;32m-> 1054\u001b[0m     \u001b[39mself\u001b[39;49m\u001b[39m.\u001b[39;49m_invalid \u001b[39m=\u001b[39m \u001b[39m0\u001b[39m\n\u001b[1;32m   1055\u001b[0m     \u001b[39mreturn\u001b[39;00m \u001b[39mself\u001b[39m\u001b[39m.\u001b[39m_points\n",
      "\u001b[0;31mKeyboardInterrupt\u001b[0m: "
     ]
    }
   ],
   "source": [
    "sns.histplot(xRaw[1,:], bins=50)"
   ]
  },
  {
   "cell_type": "code",
   "execution_count": null,
   "metadata": {},
   "outputs": [],
   "source": [
    "sns.histplot(x[1,:], bins=50)"
   ]
  }
 ],
 "metadata": {
  "language_info": {
   "codemirror_mode": {
    "name": "ipython",
    "version": 3
   },
   "file_extension": ".py",
   "mimetype": "text/x-python",
   "name": "python",
   "nbconvert_exporter": "python",
   "pygments_lexer": "ipython3",
   "version": 3
  }
 },
 "nbformat": 4,
 "nbformat_minor": 2
}
